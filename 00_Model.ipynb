{
 "cells": [
  {
   "cell_type": "markdown",
   "metadata": {
    "collapsed": true,
    "pycharm": {
     "name": "#%% md\n"
    }
   },
   "source": [
    "# Modelling using processed Dataset\n",
    "\n",
    "In this notebook we'll focus on modelling using our ``dataset.csv`` so modifications will be\n",
    "kept to a minimal. If interested in how I got to this dataset you can check notebooks\n",
    "01 to 05.\n",
    "\n",
    "## Proposed baseline model\n",
    "Because this model could be part of a bigger architecture, let's propose a fast model\n",
    "as a performance baseline, because of the table structure we have, we can use\n",
    "a decision tree based model, in my experience ``LightGBM`` boosted tree library tends to\n",
    "do an equal or better job than random forests or libraries like ``XGBoost`` so let's go with that!\n",
    "\n",
    "Important to note that the only missing data is the labels we have to predict, so no need to\n",
    "further impute."
   ]
  },
  {
   "cell_type": "code",
   "execution_count": 14,
   "outputs": [],
   "source": [
    "import numpy as np\n",
    "import pandas as pd\n",
    "from pandas_profiling import ProfileReport\n",
    "import matplotlib.pyplot as plt\n",
    "from sklearn.model_selection import train_test_split\n",
    "import shap\n",
    "import lightgbm as lgb"
   ],
   "metadata": {
    "collapsed": false,
    "pycharm": {
     "name": "#%%\n"
    }
   }
  },
  {
   "cell_type": "code",
   "execution_count": 2,
   "outputs": [
    {
     "data": {
      "text/plain": "            lat        lng  on_demand  total_minutes     unix_time  sum_uni  \\\n0    -33.501675 -70.579369       True      67.684264  1.571442e+09     16.0   \n1    -33.440584 -70.556283      False      57.060632  1.571458e+09     11.0   \n2    -32.987022 -71.544842       True            NaN  1.571508e+09     18.0   \n3    -33.328075 -70.512659       True      52.067742  1.571446e+09      1.0   \n4    -33.403239 -70.564020      False     140.724822  1.571526e+09     91.0   \n...         ...        ...        ...            ...           ...      ...   \n9995 -33.417677 -70.508377      False     116.631287  1.571458e+09    116.0   \n9996 -33.432885 -70.646795      False      94.094497  1.571522e+09     24.0   \n9997 -33.424562 -70.582943      False      53.784000  1.571458e+09     16.0   \n9998 -33.413806 -70.598500      False      52.806311  1.571519e+09      1.0   \n9999 -33.387383 -70.502880       True      55.111234  1.571458e+09     18.0   \n\n      sum_wei   pop_uni   pop_wei  seniority  found_rate  picking_speed  \\\n0       2.756  0.010283  0.237048          0      0.9024           1.30   \n1       0.000  0.001186  0.000000          2      0.7610           2.54   \n2       0.000  0.000363  0.000000          1      0.8313           2.57   \n3       0.000  0.000029  0.000000          2      0.8776           2.80   \n4       6.721  0.115467  0.431921          1      0.7838           2.40   \n...       ...       ...       ...        ...         ...            ...   \n9995   16.634  0.153654  0.688252          0      0.8658           1.30   \n9996    0.600  0.028096  0.000242          0      0.8970           1.41   \n9997    3.502  0.024189  0.305028          0      0.8424           1.40   \n9998    0.000  0.000009  0.000000          0      0.8529           1.98   \n9999    0.536  0.054750  0.001058          0      0.8946           1.82   \n\n      accepted_rate  rating  lat_store  lng_store  branch_size  city  \n0          0.920000    4.76 -33.485280 -70.579250           33     0  \n1          0.920000    4.96 -33.441246 -70.535450           33     0  \n2          0.760000    4.92 -33.008213 -71.545615           33     3  \n3          0.960000    4.76 -33.355258 -70.537787            2     0  \n4          0.960000    4.96 -33.386547 -70.568075           33     0  \n...             ...     ...        ...        ...          ...   ...  \n9995       0.960000    4.92 -33.402024 -70.516727           33     0  \n9996       1.000000    4.68 -33.451695 -70.692160           33     0  \n9997       1.000000    4.76 -33.386547 -70.568075           33     0  \n9998       0.933333    4.86 -33.386547 -70.568075           33     0  \n9999       1.000000    4.84 -33.370765 -70.512420           33     0  \n\n[10000 rows x 18 columns]",
      "text/html": "<div>\n<style scoped>\n    .dataframe tbody tr th:only-of-type {\n        vertical-align: middle;\n    }\n\n    .dataframe tbody tr th {\n        vertical-align: top;\n    }\n\n    .dataframe thead th {\n        text-align: right;\n    }\n</style>\n<table border=\"1\" class=\"dataframe\">\n  <thead>\n    <tr style=\"text-align: right;\">\n      <th></th>\n      <th>lat</th>\n      <th>lng</th>\n      <th>on_demand</th>\n      <th>total_minutes</th>\n      <th>unix_time</th>\n      <th>sum_uni</th>\n      <th>sum_wei</th>\n      <th>pop_uni</th>\n      <th>pop_wei</th>\n      <th>seniority</th>\n      <th>found_rate</th>\n      <th>picking_speed</th>\n      <th>accepted_rate</th>\n      <th>rating</th>\n      <th>lat_store</th>\n      <th>lng_store</th>\n      <th>branch_size</th>\n      <th>city</th>\n    </tr>\n  </thead>\n  <tbody>\n    <tr>\n      <th>0</th>\n      <td>-33.501675</td>\n      <td>-70.579369</td>\n      <td>True</td>\n      <td>67.684264</td>\n      <td>1.571442e+09</td>\n      <td>16.0</td>\n      <td>2.756</td>\n      <td>0.010283</td>\n      <td>0.237048</td>\n      <td>0</td>\n      <td>0.9024</td>\n      <td>1.30</td>\n      <td>0.920000</td>\n      <td>4.76</td>\n      <td>-33.485280</td>\n      <td>-70.579250</td>\n      <td>33</td>\n      <td>0</td>\n    </tr>\n    <tr>\n      <th>1</th>\n      <td>-33.440584</td>\n      <td>-70.556283</td>\n      <td>False</td>\n      <td>57.060632</td>\n      <td>1.571458e+09</td>\n      <td>11.0</td>\n      <td>0.000</td>\n      <td>0.001186</td>\n      <td>0.000000</td>\n      <td>2</td>\n      <td>0.7610</td>\n      <td>2.54</td>\n      <td>0.920000</td>\n      <td>4.96</td>\n      <td>-33.441246</td>\n      <td>-70.535450</td>\n      <td>33</td>\n      <td>0</td>\n    </tr>\n    <tr>\n      <th>2</th>\n      <td>-32.987022</td>\n      <td>-71.544842</td>\n      <td>True</td>\n      <td>NaN</td>\n      <td>1.571508e+09</td>\n      <td>18.0</td>\n      <td>0.000</td>\n      <td>0.000363</td>\n      <td>0.000000</td>\n      <td>1</td>\n      <td>0.8313</td>\n      <td>2.57</td>\n      <td>0.760000</td>\n      <td>4.92</td>\n      <td>-33.008213</td>\n      <td>-71.545615</td>\n      <td>33</td>\n      <td>3</td>\n    </tr>\n    <tr>\n      <th>3</th>\n      <td>-33.328075</td>\n      <td>-70.512659</td>\n      <td>True</td>\n      <td>52.067742</td>\n      <td>1.571446e+09</td>\n      <td>1.0</td>\n      <td>0.000</td>\n      <td>0.000029</td>\n      <td>0.000000</td>\n      <td>2</td>\n      <td>0.8776</td>\n      <td>2.80</td>\n      <td>0.960000</td>\n      <td>4.76</td>\n      <td>-33.355258</td>\n      <td>-70.537787</td>\n      <td>2</td>\n      <td>0</td>\n    </tr>\n    <tr>\n      <th>4</th>\n      <td>-33.403239</td>\n      <td>-70.564020</td>\n      <td>False</td>\n      <td>140.724822</td>\n      <td>1.571526e+09</td>\n      <td>91.0</td>\n      <td>6.721</td>\n      <td>0.115467</td>\n      <td>0.431921</td>\n      <td>1</td>\n      <td>0.7838</td>\n      <td>2.40</td>\n      <td>0.960000</td>\n      <td>4.96</td>\n      <td>-33.386547</td>\n      <td>-70.568075</td>\n      <td>33</td>\n      <td>0</td>\n    </tr>\n    <tr>\n      <th>...</th>\n      <td>...</td>\n      <td>...</td>\n      <td>...</td>\n      <td>...</td>\n      <td>...</td>\n      <td>...</td>\n      <td>...</td>\n      <td>...</td>\n      <td>...</td>\n      <td>...</td>\n      <td>...</td>\n      <td>...</td>\n      <td>...</td>\n      <td>...</td>\n      <td>...</td>\n      <td>...</td>\n      <td>...</td>\n      <td>...</td>\n    </tr>\n    <tr>\n      <th>9995</th>\n      <td>-33.417677</td>\n      <td>-70.508377</td>\n      <td>False</td>\n      <td>116.631287</td>\n      <td>1.571458e+09</td>\n      <td>116.0</td>\n      <td>16.634</td>\n      <td>0.153654</td>\n      <td>0.688252</td>\n      <td>0</td>\n      <td>0.8658</td>\n      <td>1.30</td>\n      <td>0.960000</td>\n      <td>4.92</td>\n      <td>-33.402024</td>\n      <td>-70.516727</td>\n      <td>33</td>\n      <td>0</td>\n    </tr>\n    <tr>\n      <th>9996</th>\n      <td>-33.432885</td>\n      <td>-70.646795</td>\n      <td>False</td>\n      <td>94.094497</td>\n      <td>1.571522e+09</td>\n      <td>24.0</td>\n      <td>0.600</td>\n      <td>0.028096</td>\n      <td>0.000242</td>\n      <td>0</td>\n      <td>0.8970</td>\n      <td>1.41</td>\n      <td>1.000000</td>\n      <td>4.68</td>\n      <td>-33.451695</td>\n      <td>-70.692160</td>\n      <td>33</td>\n      <td>0</td>\n    </tr>\n    <tr>\n      <th>9997</th>\n      <td>-33.424562</td>\n      <td>-70.582943</td>\n      <td>False</td>\n      <td>53.784000</td>\n      <td>1.571458e+09</td>\n      <td>16.0</td>\n      <td>3.502</td>\n      <td>0.024189</td>\n      <td>0.305028</td>\n      <td>0</td>\n      <td>0.8424</td>\n      <td>1.40</td>\n      <td>1.000000</td>\n      <td>4.76</td>\n      <td>-33.386547</td>\n      <td>-70.568075</td>\n      <td>33</td>\n      <td>0</td>\n    </tr>\n    <tr>\n      <th>9998</th>\n      <td>-33.413806</td>\n      <td>-70.598500</td>\n      <td>False</td>\n      <td>52.806311</td>\n      <td>1.571519e+09</td>\n      <td>1.0</td>\n      <td>0.000</td>\n      <td>0.000009</td>\n      <td>0.000000</td>\n      <td>0</td>\n      <td>0.8529</td>\n      <td>1.98</td>\n      <td>0.933333</td>\n      <td>4.86</td>\n      <td>-33.386547</td>\n      <td>-70.568075</td>\n      <td>33</td>\n      <td>0</td>\n    </tr>\n    <tr>\n      <th>9999</th>\n      <td>-33.387383</td>\n      <td>-70.502880</td>\n      <td>True</td>\n      <td>55.111234</td>\n      <td>1.571458e+09</td>\n      <td>18.0</td>\n      <td>0.536</td>\n      <td>0.054750</td>\n      <td>0.001058</td>\n      <td>0</td>\n      <td>0.8946</td>\n      <td>1.82</td>\n      <td>1.000000</td>\n      <td>4.84</td>\n      <td>-33.370765</td>\n      <td>-70.512420</td>\n      <td>33</td>\n      <td>0</td>\n    </tr>\n  </tbody>\n</table>\n<p>10000 rows × 18 columns</p>\n</div>"
     },
     "execution_count": 2,
     "metadata": {},
     "output_type": "execute_result"
    }
   ],
   "source": [
    "# load the dataset\n",
    "dataset = pd.read_csv('./data/dataset.csv')\n",
    "dataset"
   ],
   "metadata": {
    "collapsed": false,
    "pycharm": {
     "name": "#%%\n"
    }
   }
  },
  {
   "cell_type": "markdown",
   "source": [
    "Only thing we'll add to this database is a distance calculation between the two lat, lng\n",
    "pairs we have, this could help the model realize the relation which could be translated in\n",
    "(maybe) a better performance."
   ],
   "metadata": {
    "collapsed": false,
    "pycharm": {
     "name": "#%% md\n"
    }
   }
  },
  {
   "cell_type": "code",
   "execution_count": 5,
   "outputs": [],
   "source": [
    "# container to store calculations\n",
    "distances = []\n",
    "\n",
    "for x1, x2, y1, y2 in zip(dataset['lng'], dataset['lng_store'], dataset['lat'], dataset['lat_store']):\n",
    "    p1 = np.array([x1, y1])\n",
    "    p2 = np.array([x2, y2])\n",
    "    distances.append(np.linalg.norm(p1 - p2))\n",
    "\n",
    "# add container as a column\n",
    "dataset['distance'] = distances"
   ],
   "metadata": {
    "collapsed": false,
    "pycharm": {
     "name": "#%%\n"
    }
   }
  },
  {
   "cell_type": "code",
   "execution_count": 8,
   "outputs": [
    {
     "data": {
      "text/plain": "<AxesSubplot:>"
     },
     "execution_count": 8,
     "metadata": {},
     "output_type": "execute_result"
    },
    {
     "data": {
      "text/plain": "<Figure size 432x288 with 1 Axes>",
      "image/png": "[encoded data removed]"
     },
     "metadata": {
      "needs_background": "light"
     },
     "output_type": "display_data"
    }
   ],
   "source": [
    "# how does it behave?\n",
    "dataset['distance'].hist(bins=20)"
   ],
   "metadata": {
    "collapsed": false,
    "pycharm": {
     "name": "#%%\n"
    }
   }
  },
  {
   "cell_type": "markdown",
   "source": [
    "## Separating Datasets\n",
    "Let's put aside the submission data with empty times as we will predict them later, this is\n",
    "20% of our data according to the dataset profile. The remaining set will be split into 70% and\n",
    "30% for train and validation purposes."
   ],
   "metadata": {
    "collapsed": false,
    "pycharm": {
     "name": "#%% md\n"
    }
   }
  },
  {
   "cell_type": "code",
   "execution_count": 15,
   "outputs": [
    {
     "data": {
      "text/plain": "Summarize dataset:   0%|          | 0/28 [00:00<?, ?it/s]",
      "application/vnd.jupyter.widget-view+json": {
       "version_major": 2,
       "version_minor": 0,
       "model_id": "de97d6e4439142b3bed12db473f978de"
      }
     },
     "metadata": {},
     "output_type": "display_data"
    },
    {
     "data": {
      "text/plain": "Generate report structure:   0%|          | 0/1 [00:00<?, ?it/s]",
      "application/vnd.jupyter.widget-view+json": {
       "version_major": 2,
       "version_minor": 0,
       "model_id": "1e16de42f1fc4cc6bc475262e41bda42"
      }
     },
     "metadata": {},
     "output_type": "display_data"
    },
    {
     "data": {
      "text/plain": "Render HTML:   0%|          | 0/1 [00:00<?, ?it/s]",
      "application/vnd.jupyter.widget-view+json": {
       "version_major": 2,
       "version_minor": 0,
       "model_id": "abfb4665ca1a4eb4946ebac9a436f39a"
      }
     },
     "metadata": {},
     "output_type": "display_data"
    },
    {
     "data": {
      "text/plain": "Export report to file:   0%|          | 0/1 [00:00<?, ?it/s]",
      "application/vnd.jupyter.widget-view+json": {
       "version_major": 2,
       "version_minor": 0,
       "model_id": "0f4d94acdbcc4ccca99d0a714e494afa"
      }
     },
     "metadata": {},
     "output_type": "display_data"
    }
   ],
   "source": [
    "# make a separate copy for the submission set\n",
    "submission_dataset = dataset[np.isnan(dataset['total_minutes'])].copy()\n",
    "\n",
    "# save and profile it\n",
    "def profile(df, name, minimal=True):\n",
    "    prof = ProfileReport(df, minimal=minimal)\n",
    "    prof.to_file(name)\n",
    "profile(submission_dataset, './profiles/submission.html')"
   ],
   "metadata": {
    "collapsed": false,
    "pycharm": {
     "name": "#%%\n"
    }
   }
  },
  {
   "cell_type": "code",
   "execution_count": 20,
   "outputs": [
    {
     "name": "stdout",
     "output_type": "stream",
     "text": [
      "<class 'pandas.core.frame.DataFrame'>\n",
      "Int64Index: 8000 entries, 0 to 9999\n",
      "Data columns (total 18 columns):\n",
      " #   Column         Non-Null Count  Dtype  \n",
      "---  ------         --------------  -----  \n",
      " 0   lat            8000 non-null   float64\n",
      " 1   lng            8000 non-null   float64\n",
      " 2   on_demand      8000 non-null   bool   \n",
      " 3   unix_time      8000 non-null   float64\n",
      " 4   sum_uni        8000 non-null   float64\n",
      " 5   sum_wei        8000 non-null   float64\n",
      " 6   pop_uni        8000 non-null   float64\n",
      " 7   pop_wei        8000 non-null   float64\n",
      " 8   seniority      8000 non-null   int64  \n",
      " 9   found_rate     8000 non-null   float64\n",
      " 10  picking_speed  8000 non-null   float64\n",
      " 11  accepted_rate  8000 non-null   float64\n",
      " 12  rating         8000 non-null   float64\n",
      " 13  lat_store      8000 non-null   float64\n",
      " 14  lng_store      8000 non-null   float64\n",
      " 15  branch_size    8000 non-null   int64  \n",
      " 16  city           8000 non-null   int64  \n",
      " 17  distance       8000 non-null   float64\n",
      "dtypes: bool(1), float64(14), int64(3)\n",
      "memory usage: 1.1 MB\n"
     ]
    }
   ],
   "source": [
    "# make a separate copy for the model\n",
    "model_dataset = dataset[np.isnan(dataset['total_minutes']) == 0].copy()\n",
    "\n",
    "# separate our label total_minutes from the set\n",
    "total_minutes = model_dataset['total_minutes'].copy()\n",
    "model_dataset.drop('total_minutes', axis=1, inplace=True)\n",
    "\n",
    "# impute some values remaining in pop_wei, sum_wei, pop_uni, sum_uni\n",
    "model_dataset = model_dataset.fillna(model_dataset.mean())\n",
    "\n",
    "model_dataset.info()"
   ],
   "metadata": {
    "collapsed": false,
    "pycharm": {
     "name": "#%%\n"
    }
   }
  },
  {
   "cell_type": "markdown",
   "source": [
    "## Modelling stage\n",
    "We complete the preamble to train a LightGBM model with the dataset. LightGBM model\n",
    "parameters are tuneable:\n",
    "\n",
    "(TODO: Fill these fields)\n",
    "* boosting_type:\n",
    "* objective:\n",
    "* metric:\n",
    "* num_leaves:\n",
    "* learning_rate:\n",
    "* feature_fraction:\n",
    "* bagging_fraction:\n",
    "* bagging_freq:\n",
    "* verbose:"
   ],
   "metadata": {
    "collapsed": false,
    "pycharm": {
     "name": "#%% md\n"
    }
   }
  },
  {
   "cell_type": "code",
   "execution_count": 32,
   "outputs": [],
   "source": [
    "#make train and test splits\n",
    "random_state = 0\n",
    "x_train, x_test, y_train, y_test = train_test_split(model_dataset, total_minutes,\n",
    "                                                    test_size=0.3, random_state=random_state)\n",
    "# create dataset for lightgbm\n",
    "lgb_train = lgb.Dataset(x_train, y_train)\n",
    "lgb_eval = lgb.Dataset(x_test, y_test, reference=lgb_train)\n",
    "\n",
    "# specify your configurations as a dict\n",
    "params = {\n",
    "    'boosting_type': 'gbdt',\n",
    "    'objective': 'regression',\n",
    "    'metric': 'mse',\n",
    "    'num_leaves': 50,\n",
    "    'learning_rate': 0.05,\n",
    "    'feature_fraction': 0.9,\n",
    "    'bagging_fraction': 0.8,\n",
    "    'bagging_freq': 10,\n",
    "    'verbose': 0,\n",
    "}"
   ],
   "metadata": {
    "collapsed": false,
    "pycharm": {
     "name": "#%%\n"
    }
   }
  },
  {
   "cell_type": "markdown",
   "source": [
    "## Training stage"
   ],
   "metadata": {
    "collapsed": false,
    "pycharm": {
     "name": "#%% md\n"
    }
   }
  },
  {
   "cell_type": "code",
   "execution_count": 43,
   "outputs": [
    {
     "name": "stdout",
     "output_type": "stream",
     "text": [
      "[LightGBM] [Warning] Auto-choosing col-wise multi-threading, the overhead of testing was 0.000698 seconds.\n",
      "You can set `force_col_wise=true` to remove the overhead.\n"
     ]
    }
   ],
   "source": [
    "model_lgb = lgb.train(params, lgb_train, num_boost_round=500,\n",
    "                      valid_sets=lgb_eval, early_stopping_rounds=50, verbose_eval=False)"
   ],
   "metadata": {
    "collapsed": false,
    "pycharm": {
     "name": "#%%\n"
    }
   }
  },
  {
   "cell_type": "code",
   "execution_count": 44,
   "outputs": [],
   "source": [
    "# check predictions accuracy\n",
    "lgb_train_pred = model_lgb.predict(x_train, num_iteration=model_lgb.best_iteration)\n",
    "lgb_test_pred = model_lgb.predict(x_test, num_iteration=model_lgb.best_iteration)"
   ],
   "metadata": {
    "collapsed": false,
    "pycharm": {
     "name": "#%%\n"
    }
   }
  },
  {
   "cell_type": "code",
   "execution_count": 46,
   "outputs": [
    {
     "name": "stdout",
     "output_type": "stream",
     "text": [
      "Average error in minutes = 16.93791095552595\n"
     ]
    },
    {
     "data": {
      "text/plain": "<Figure size 432x288 with 1 Axes>",
      "image/png": "[encoded data removed]"
     },
     "metadata": {
      "needs_background": "light"
     },
     "output_type": "display_data"
    }
   ],
   "source": [
    "# plot the error on test dataset\n",
    "plt.hist(abs(lgb_test_pred - y_test), bins=20)\n",
    "print(f'Average error in minutes = {np.mean(abs(lgb_test_pred - y_test))}')"
   ],
   "metadata": {
    "collapsed": false,
    "pycharm": {
     "name": "#%%\n"
    }
   }
  },
  {
   "cell_type": "code",
   "execution_count": 47,
   "outputs": [
    {
     "name": "stdout",
     "output_type": "stream",
     "text": [
      "Average minutes of an order = 80.55005531193764\n"
     ]
    },
    {
     "data": {
      "text/plain": "(array([ 16., 146., 325., 397., 443., 298., 247., 180., 133.,  88.,  57.,\n         35.,  18.,  10.,   2.,   3.,   1.,   0.,   0.,   1.]),\n array([ 11.96948947,  25.16596267,  38.36243586,  51.55890906,\n         64.75538226,  77.95185546,  91.14832866, 104.34480185,\n        117.54127505, 130.73774825, 143.93422145, 157.13069465,\n        170.32716785, 183.52364104, 196.72011424, 209.91658744,\n        223.11306064, 236.30953384, 249.50600704, 262.70248023,\n        275.89895343]),\n <BarContainer object of 20 artists>)"
     },
     "execution_count": 47,
     "metadata": {},
     "output_type": "execute_result"
    },
    {
     "data": {
      "text/plain": "<Figure size 432x288 with 1 Axes>",
      "image/png": "[encoded data removed]"
     },
     "metadata": {
      "needs_background": "light"
     },
     "output_type": "display_data"
    }
   ],
   "source": [
    "# plot the magnitude of values we're working with\n",
    "print(f'Average minutes of an order = {np.mean(y_test)}')\n",
    "plt.hist(y_test, bins=20)"
   ],
   "metadata": {
    "collapsed": false,
    "pycharm": {
     "name": "#%%\n"
    }
   }
  },
  {
   "cell_type": "markdown",
   "source": [
    "In average, we miss the mark by 17 minutes and an order takes around 80 minutes to process.\n",
    "Honestly not so bad for a baseline model-and-go kind of method! Maybe this model is enough\n",
    "to achieve a better performance, let's tune it!"
   ],
   "metadata": {
    "collapsed": false,
    "pycharm": {
     "name": "#%% md\n"
    }
   }
  },
  {
   "cell_type": "markdown",
   "source": [
    "## Tuning our baseline\n",
    "(TODO: Tune parameters and use shap to understand where our model gets insights)"
   ],
   "metadata": {
    "collapsed": false,
    "pycharm": {
     "name": "#%% md\n"
    }
   }
  }
 ],
 "metadata": {
  "kernelspec": {
   "display_name": "Python 3",
   "language": "python",
   "name": "python3"
  },
  "language_info": {
   "codemirror_mode": {
    "name": "ipython",
    "version": 2
   },
   "file_extension": ".py",
   "mimetype": "text/x-python",
   "name": "python",
   "nbconvert_exporter": "python",
   "pygments_lexer": "ipython2",
   "version": "2.7.6"
  }
 },
 "nbformat": 4,
 "nbformat_minor": 0
}