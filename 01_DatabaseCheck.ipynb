{
 "cells": [
  {
   "cell_type": "markdown",
   "source": [
    "# Peeking at the Cornershop Database\n",
    "Our objective is to estimate the time it takes for a delivery to\n",
    "complete, let's check which Databases we have available.\n",
    "\n",
    "This is just a peek to have a grasp of the type of data we're dealing with :)"
   ],
   "metadata": {
    "collapsed": false
   }
  },
  {
   "cell_type": "code",
   "execution_count": 1,
   "outputs": [],
   "source": [
    "import pandas as pd\n",
    "import matplotlib.pyplot as plt\n",
    "from pandas_profiling import ProfileReport\n",
    "import time\n",
    "import datetime"
   ],
   "metadata": {
    "collapsed": false,
    "pycharm": {
     "name": "#%%\n"
    }
   }
  },
  {
   "cell_type": "markdown",
   "source": [
    "## Checking: ``orderproducts.csv``\n",
    "This table gives specific information of what the order contains:\n",
    "How many units/weight is requested in the order."
   ],
   "metadata": {
    "collapsed": false
   }
  },
  {
   "cell_type": "code",
   "execution_count": 2,
   "outputs": [
    {
     "data": {
      "text/plain": "                                order_id                        product_id  \\\n0       47099653730fb1b76537fc10ad876255  c1244453d731c77416cb4766e3bd76cb   \n1       689d8866915acf87e851c2591a23a82f  43cc2b100bec640fe563cd16f2db669f   \n2       f26d16bf6f38c9e31d0be877f4013a9e  b8f880759d014134e272d881d49989a2   \n3       161ccc896835ab41761b0e726becb6b1  dbc062b9bef805d27a6f4bea7edfe1f1   \n4       4713deca10bb5db98fae150b52d61fc0  93a060f269bb569398921100f84c519a   \n...                                  ...                               ...   \n198495  edd8fe4fd7d75de060cae811756603b0  e7f4a5ea6d480b7a1a7076fad543875e   \n198496  70c0ff9c8533539b1c04e96398fef697  f506d0401b99c6c00d8792d38ce93aa1   \n198497  dcf086aadb08ef7e695fadd723d881a7  c9970c5966ad6399d1c52aef34268699   \n198498  f5f76f8fb58cdafe94b41fd836dfcec7  2cdd75fa252b3918918c662922b11b6e   \n198499  e7ab48bb94f4790655531345aae6bd96  dd39130d6dfad68251ba147f7477e81b   \n\n        quantity buy_unit  \n0            1.0       UN  \n1            1.0       KG  \n2            1.0       UN  \n3            1.0       UN  \n4            2.0       UN  \n...          ...      ...  \n198495       3.0       UN  \n198496       6.0       UN  \n198497       1.0       UN  \n198498       3.0       UN  \n198499       1.0       UN  \n\n[198500 rows x 4 columns]",
      "text/html": "<div>\n<style scoped>\n    .dataframe tbody tr th:only-of-type {\n        vertical-align: middle;\n    }\n\n    .dataframe tbody tr th {\n        vertical-align: top;\n    }\n\n    .dataframe thead th {\n        text-align: right;\n    }\n</style>\n<table border=\"1\" class=\"dataframe\">\n  <thead>\n    <tr style=\"text-align: right;\">\n      <th></th>\n      <th>order_id</th>\n      <th>product_id</th>\n      <th>quantity</th>\n      <th>buy_unit</th>\n    </tr>\n  </thead>\n  <tbody>\n    <tr>\n      <th>0</th>\n      <td>47099653730fb1b76537fc10ad876255</td>\n      <td>c1244453d731c77416cb4766e3bd76cb</td>\n      <td>1.0</td>\n      <td>UN</td>\n    </tr>\n    <tr>\n      <th>1</th>\n      <td>689d8866915acf87e851c2591a23a82f</td>\n      <td>43cc2b100bec640fe563cd16f2db669f</td>\n      <td>1.0</td>\n      <td>KG</td>\n    </tr>\n    <tr>\n      <th>2</th>\n      <td>f26d16bf6f38c9e31d0be877f4013a9e</td>\n      <td>b8f880759d014134e272d881d49989a2</td>\n      <td>1.0</td>\n      <td>UN</td>\n    </tr>\n    <tr>\n      <th>3</th>\n      <td>161ccc896835ab41761b0e726becb6b1</td>\n      <td>dbc062b9bef805d27a6f4bea7edfe1f1</td>\n      <td>1.0</td>\n      <td>UN</td>\n    </tr>\n    <tr>\n      <th>4</th>\n      <td>4713deca10bb5db98fae150b52d61fc0</td>\n      <td>93a060f269bb569398921100f84c519a</td>\n      <td>2.0</td>\n      <td>UN</td>\n    </tr>\n    <tr>\n      <th>...</th>\n      <td>...</td>\n      <td>...</td>\n      <td>...</td>\n      <td>...</td>\n    </tr>\n    <tr>\n      <th>198495</th>\n      <td>edd8fe4fd7d75de060cae811756603b0</td>\n      <td>e7f4a5ea6d480b7a1a7076fad543875e</td>\n      <td>3.0</td>\n      <td>UN</td>\n    </tr>\n    <tr>\n      <th>198496</th>\n      <td>70c0ff9c8533539b1c04e96398fef697</td>\n      <td>f506d0401b99c6c00d8792d38ce93aa1</td>\n      <td>6.0</td>\n      <td>UN</td>\n    </tr>\n    <tr>\n      <th>198497</th>\n      <td>dcf086aadb08ef7e695fadd723d881a7</td>\n      <td>c9970c5966ad6399d1c52aef34268699</td>\n      <td>1.0</td>\n      <td>UN</td>\n    </tr>\n    <tr>\n      <th>198498</th>\n      <td>f5f76f8fb58cdafe94b41fd836dfcec7</td>\n      <td>2cdd75fa252b3918918c662922b11b6e</td>\n      <td>3.0</td>\n      <td>UN</td>\n    </tr>\n    <tr>\n      <th>198499</th>\n      <td>e7ab48bb94f4790655531345aae6bd96</td>\n      <td>dd39130d6dfad68251ba147f7477e81b</td>\n      <td>1.0</td>\n      <td>UN</td>\n    </tr>\n  </tbody>\n</table>\n<p>198500 rows × 4 columns</p>\n</div>"
     },
     "execution_count": 2,
     "metadata": {},
     "output_type": "execute_result"
    }
   ],
   "source": [
    "# let's take a small peek at the table\n",
    "order_products = pd.read_csv('./data/order_products.csv')\n",
    "order_products"
   ],
   "metadata": {
    "collapsed": false,
    "pycharm": {
     "name": "#%%\n"
    }
   }
  },
  {
   "cell_type": "code",
   "execution_count": 15,
   "outputs": [
    {
     "name": "stdout",
     "output_type": "stream",
     "text": [
      "f90b55ea82b8af664f1d7eebb93f25e0    2073\n",
      "bdcc4590896a0d0b419d0388fd16a859    1598\n",
      "41da609c519d77b29be442f8c1105647    1562\n",
      "280cf18baf4311c92aa5a042336587d3    1336\n",
      "fb3336fca8851437f980e83045e75749    1092\n",
      "                                    ... \n",
      "a0281c66f744ef7dee6e036a20f244ef       1\n",
      "3b776c182b707101c69dfb16fe199c56       1\n",
      "2448b9927491425c1d344816c384d5de       1\n",
      "41840717626632c519827cbbf473d45e       1\n",
      "932dfae0a06952166e3e0f624447d4c3       1\n",
      "Name: product_id, Length: 15422, dtype: int64\n"
     ]
    },
    {
     "data": {
      "text/plain": "<AxesSubplot:ylabel='Frequency'>"
     },
     "execution_count": 15,
     "metadata": {},
     "output_type": "execute_result"
    },
    {
     "data": {
      "text/plain": "<Figure size 432x288 with 1 Axes>",
      "image/png": "[encoded data removed]"
     },
     "metadata": {
      "needs_background": "light"
     },
     "output_type": "display_data"
    }
   ],
   "source": [
    "# take a peek of how many product_ids we have\n",
    "counts = order_products['product_id'].value_counts()\n",
    "print(counts)\n",
    "counts.plot.hist(bins=100)"
   ],
   "metadata": {
    "collapsed": false,
    "pycharm": {
     "name": "#%%\n"
    }
   }
  },
  {
   "cell_type": "markdown",
   "source": [
    "We observe that some products are really popular and hold all the\n",
    "frequency of buy, if we want to synthesize product bag then we have\n",
    "to reflect the weight of popularity in some way, maybe popular products\n",
    "are easier to find and buy (example: toilet paper or milk)."
   ],
   "metadata": {
    "collapsed": false,
    "pycharm": {
     "name": "#%% md\n"
    }
   }
  },
  {
   "cell_type": "code",
   "execution_count": 13,
   "outputs": [
    {
     "data": {
      "text/plain": "                                  count\norder_id                               \n0004a3841c1eeb6c6e77585a941c21e0      4\n0005a6ecbbde1e8d273f5577bcff2c9c      1\n0007baeb6700fc203be2d1f1e11222d7     22\n0012195a6a8ca9ec308a3010eeea8ebc     11\n0013011fa72b498b9feb84f4e7104980     44\n...                                 ...\nffc3234b2e009e5422a4b5e24961c038     15\nffcc66cd4d1056b67523a39ff07d7700     40\nffcf270be4bba33349ce827c70fe9439     22\nffdbc12cfcf7101a517a7eb7e1776c43     23\nffe8fa40d7e51f9860b62b5e9d798a57     18\n\n[9978 rows x 1 columns]",
      "text/html": "<div>\n<style scoped>\n    .dataframe tbody tr th:only-of-type {\n        vertical-align: middle;\n    }\n\n    .dataframe tbody tr th {\n        vertical-align: top;\n    }\n\n    .dataframe thead th {\n        text-align: right;\n    }\n</style>\n<table border=\"1\" class=\"dataframe\">\n  <thead>\n    <tr style=\"text-align: right;\">\n      <th></th>\n      <th>count</th>\n    </tr>\n    <tr>\n      <th>order_id</th>\n      <th></th>\n    </tr>\n  </thead>\n  <tbody>\n    <tr>\n      <th>0004a3841c1eeb6c6e77585a941c21e0</th>\n      <td>4</td>\n    </tr>\n    <tr>\n      <th>0005a6ecbbde1e8d273f5577bcff2c9c</th>\n      <td>1</td>\n    </tr>\n    <tr>\n      <th>0007baeb6700fc203be2d1f1e11222d7</th>\n      <td>22</td>\n    </tr>\n    <tr>\n      <th>0012195a6a8ca9ec308a3010eeea8ebc</th>\n      <td>11</td>\n    </tr>\n    <tr>\n      <th>0013011fa72b498b9feb84f4e7104980</th>\n      <td>44</td>\n    </tr>\n    <tr>\n      <th>...</th>\n      <td>...</td>\n    </tr>\n    <tr>\n      <th>ffc3234b2e009e5422a4b5e24961c038</th>\n      <td>15</td>\n    </tr>\n    <tr>\n      <th>ffcc66cd4d1056b67523a39ff07d7700</th>\n      <td>40</td>\n    </tr>\n    <tr>\n      <th>ffcf270be4bba33349ce827c70fe9439</th>\n      <td>22</td>\n    </tr>\n    <tr>\n      <th>ffdbc12cfcf7101a517a7eb7e1776c43</th>\n      <td>23</td>\n    </tr>\n    <tr>\n      <th>ffe8fa40d7e51f9860b62b5e9d798a57</th>\n      <td>18</td>\n    </tr>\n  </tbody>\n</table>\n<p>9978 rows × 1 columns</p>\n</div>"
     },
     "execution_count": 13,
     "metadata": {},
     "output_type": "execute_result"
    }
   ],
   "source": [
    "# check how many products a person orders in average\n",
    "# let's group by order to see a better picture of our table\n",
    "order_grouped = order_products\\\n",
    "    .groupby(['order_id'])\\\n",
    "    .agg(['count'])\n",
    "order_grouped['product_id']"
   ],
   "metadata": {
    "collapsed": false,
    "pycharm": {
     "name": "#%%\n"
    }
   }
  },
  {
   "cell_type": "code",
   "execution_count": 16,
   "outputs": [
    {
     "name": "stdout",
     "output_type": "stream",
     "text": [
      "count    19.893766\n",
      "dtype: float64\n"
     ]
    },
    {
     "data": {
      "text/plain": "<Figure size 432x288 with 1 Axes>",
      "image/png": "[encoded data removed]"
     },
     "metadata": {
      "needs_background": "light"
     },
     "output_type": "display_data"
    }
   ],
   "source": [
    "# Make a simple plot of the distribution\n",
    "order_grouped['product_id'].plot.hist('count', bins=20)\n",
    "print(order_grouped['product_id'].mean())\n",
    "plt.show()"
   ],
   "metadata": {
    "collapsed": false,
    "pycharm": {
     "name": "#%%\n"
    }
   }
  },
  {
   "cell_type": "markdown",
   "source": [
    "## Checking: ``orders.csv``\n",
    "This is the main table, orders without ``total_minutes`` have to be predicted.\n",
    "Before we check the table, let's transform time strings to unix time as it's\n",
    "easier to plot and model."
   ],
   "metadata": {
    "collapsed": false
   }
  },
  {
   "cell_type": "code",
   "execution_count": 18,
   "outputs": [],
   "source": [
    "# create a function to map time to unix\n",
    "def add_unix_time(df, col, new_col):\n",
    "    container = []\n",
    "    for value in df[col]:\n",
    "        t_formatted = datetime.datetime.strptime(value, \"%Y-%m-%d %H:%M:%S%z\").timetuple()\n",
    "        container.append(time.mktime(t_formatted))\n",
    "    df[new_col] = container"
   ],
   "metadata": {
    "collapsed": false,
    "pycharm": {
     "name": "#%%\n"
    }
   }
  },
  {
   "cell_type": "code",
   "execution_count": 21,
   "outputs": [
    {
     "data": {
      "text/plain": "                              order_id        lat        lng  \\\n0     e750294655c2c7c34d83cc3181c09de4 -33.501675 -70.579369   \n1     6581174846221cb6c467348e87f57641 -33.440584 -70.556283   \n2     3a226ea48debc0a7ae9950d5540f2f34 -32.987022 -71.544842   \n3     7d2ed03fe4966083e74b12694b1669d8 -33.328075 -70.512659   \n4     b4b2682d77118155fe4716300ccf7f39 -33.403239 -70.564020   \n...                                ...        ...        ...   \n9995  c63cfa783ff6ea9a5577ff0b513e4297 -33.417677 -70.508377   \n9996  0b91a6dc570736f490ade9b129bbd46f -33.432885 -70.646795   \n9997  229d80f473668d9b25d60ea4d05687dd -33.424562 -70.582943   \n9998  96e2a7a69e52eaa5ce563b1164f72c8d -33.413806 -70.598500   \n9999  ac9520e37e420842ce36b65a71b48954 -33.387383 -70.502880   \n\n                  promised_time  on_demand                        shopper_id  \\\n0     2019-10-18 20:48:00+00:00       True  e63bc83a1a952fa2b3cc9d558fb943cf   \n1     2019-10-19 01:00:00+00:00      False  195f9e9d84a4ba9033c4b6a756334d8b   \n2     2019-10-19 14:54:00+00:00       True  a5b9ddc0d82e61582fca19ad43dbaacb   \n3     2019-10-18 21:47:00+00:00       True  d0b3f6bf7e249e5ebb8d3129341773a2   \n4     2019-10-19 20:00:00+00:00      False  5c5199ce02f7b77caa9c2590a39ad27d   \n...                         ...        ...                               ...   \n9995  2019-10-19 01:00:00+00:00      False  9cf7b3c6a05745b24eb07e0945ff1718   \n9996  2019-10-19 19:00:00+00:00      False  6fd0c09e971aff77c73afb87863da1c6   \n9997  2019-10-19 01:00:00+00:00      False  3ed51e3e0e8c9ca2fec3f84766cabe96   \n9998  2019-10-19 18:00:00+00:00      False  cea50f5aa525cfe6d2f445fec7c8ef31   \n9999  2019-10-19 01:00:00+00:00       True  61e4ad15c3ff928840ebd34407055b33   \n\n                       store_branch_id  total_minutes     unix_time  \n0     65ded5353c5ee48d0b7d48c591b8f430      67.684264  1.571442e+09  \n1     45fbc6d3e05ebd93369ce542e8f2322d      57.060632  1.571458e+09  \n2     07563a3fe3bbe7e3ba84431ad9d055af            NaN  1.571508e+09  \n3     f1748d6b0fd9d439f71450117eba2725      52.067742  1.571446e+09  \n4     1f0e3dad99908345f7439f8ffabdffc4     140.724822  1.571526e+09  \n...                                ...            ...           ...  \n9995  c4ca4238a0b923820dcc509a6f75849b     116.631287  1.571458e+09  \n9996  3871bd64012152bfb53fdf04b401193f      94.094497  1.571522e+09  \n9997  1f0e3dad99908345f7439f8ffabdffc4      53.784000  1.571458e+09  \n9998  1f0e3dad99908345f7439f8ffabdffc4      52.806311  1.571519e+09  \n9999  1679091c5a880faf6fb5e6087eb1b2dc      55.111234  1.571458e+09  \n\n[10000 rows x 9 columns]",
      "text/html": "<div>\n<style scoped>\n    .dataframe tbody tr th:only-of-type {\n        vertical-align: middle;\n    }\n\n    .dataframe tbody tr th {\n        vertical-align: top;\n    }\n\n    .dataframe thead th {\n        text-align: right;\n    }\n</style>\n<table border=\"1\" class=\"dataframe\">\n  <thead>\n    <tr style=\"text-align: right;\">\n      <th></th>\n      <th>order_id</th>\n      <th>lat</th>\n      <th>lng</th>\n      <th>promised_time</th>\n      <th>on_demand</th>\n      <th>shopper_id</th>\n      <th>store_branch_id</th>\n      <th>total_minutes</th>\n      <th>unix_time</th>\n    </tr>\n  </thead>\n  <tbody>\n    <tr>\n      <th>0</th>\n      <td>e750294655c2c7c34d83cc3181c09de4</td>\n      <td>-33.501675</td>\n      <td>-70.579369</td>\n      <td>2019-10-18 20:48:00+00:00</td>\n      <td>True</td>\n      <td>e63bc83a1a952fa2b3cc9d558fb943cf</td>\n      <td>65ded5353c5ee48d0b7d48c591b8f430</td>\n      <td>67.684264</td>\n      <td>1.571442e+09</td>\n    </tr>\n    <tr>\n      <th>1</th>\n      <td>6581174846221cb6c467348e87f57641</td>\n      <td>-33.440584</td>\n      <td>-70.556283</td>\n      <td>2019-10-19 01:00:00+00:00</td>\n      <td>False</td>\n      <td>195f9e9d84a4ba9033c4b6a756334d8b</td>\n      <td>45fbc6d3e05ebd93369ce542e8f2322d</td>\n      <td>57.060632</td>\n      <td>1.571458e+09</td>\n    </tr>\n    <tr>\n      <th>2</th>\n      <td>3a226ea48debc0a7ae9950d5540f2f34</td>\n      <td>-32.987022</td>\n      <td>-71.544842</td>\n      <td>2019-10-19 14:54:00+00:00</td>\n      <td>True</td>\n      <td>a5b9ddc0d82e61582fca19ad43dbaacb</td>\n      <td>07563a3fe3bbe7e3ba84431ad9d055af</td>\n      <td>NaN</td>\n      <td>1.571508e+09</td>\n    </tr>\n    <tr>\n      <th>3</th>\n      <td>7d2ed03fe4966083e74b12694b1669d8</td>\n      <td>-33.328075</td>\n      <td>-70.512659</td>\n      <td>2019-10-18 21:47:00+00:00</td>\n      <td>True</td>\n      <td>d0b3f6bf7e249e5ebb8d3129341773a2</td>\n      <td>f1748d6b0fd9d439f71450117eba2725</td>\n      <td>52.067742</td>\n      <td>1.571446e+09</td>\n    </tr>\n    <tr>\n      <th>4</th>\n      <td>b4b2682d77118155fe4716300ccf7f39</td>\n      <td>-33.403239</td>\n      <td>-70.564020</td>\n      <td>2019-10-19 20:00:00+00:00</td>\n      <td>False</td>\n      <td>5c5199ce02f7b77caa9c2590a39ad27d</td>\n      <td>1f0e3dad99908345f7439f8ffabdffc4</td>\n      <td>140.724822</td>\n      <td>1.571526e+09</td>\n    </tr>\n    <tr>\n      <th>...</th>\n      <td>...</td>\n      <td>...</td>\n      <td>...</td>\n      <td>...</td>\n      <td>...</td>\n      <td>...</td>\n      <td>...</td>\n      <td>...</td>\n      <td>...</td>\n    </tr>\n    <tr>\n      <th>9995</th>\n      <td>c63cfa783ff6ea9a5577ff0b513e4297</td>\n      <td>-33.417677</td>\n      <td>-70.508377</td>\n      <td>2019-10-19 01:00:00+00:00</td>\n      <td>False</td>\n      <td>9cf7b3c6a05745b24eb07e0945ff1718</td>\n      <td>c4ca4238a0b923820dcc509a6f75849b</td>\n      <td>116.631287</td>\n      <td>1.571458e+09</td>\n    </tr>\n    <tr>\n      <th>9996</th>\n      <td>0b91a6dc570736f490ade9b129bbd46f</td>\n      <td>-33.432885</td>\n      <td>-70.646795</td>\n      <td>2019-10-19 19:00:00+00:00</td>\n      <td>False</td>\n      <td>6fd0c09e971aff77c73afb87863da1c6</td>\n      <td>3871bd64012152bfb53fdf04b401193f</td>\n      <td>94.094497</td>\n      <td>1.571522e+09</td>\n    </tr>\n    <tr>\n      <th>9997</th>\n      <td>229d80f473668d9b25d60ea4d05687dd</td>\n      <td>-33.424562</td>\n      <td>-70.582943</td>\n      <td>2019-10-19 01:00:00+00:00</td>\n      <td>False</td>\n      <td>3ed51e3e0e8c9ca2fec3f84766cabe96</td>\n      <td>1f0e3dad99908345f7439f8ffabdffc4</td>\n      <td>53.784000</td>\n      <td>1.571458e+09</td>\n    </tr>\n    <tr>\n      <th>9998</th>\n      <td>96e2a7a69e52eaa5ce563b1164f72c8d</td>\n      <td>-33.413806</td>\n      <td>-70.598500</td>\n      <td>2019-10-19 18:00:00+00:00</td>\n      <td>False</td>\n      <td>cea50f5aa525cfe6d2f445fec7c8ef31</td>\n      <td>1f0e3dad99908345f7439f8ffabdffc4</td>\n      <td>52.806311</td>\n      <td>1.571519e+09</td>\n    </tr>\n    <tr>\n      <th>9999</th>\n      <td>ac9520e37e420842ce36b65a71b48954</td>\n      <td>-33.387383</td>\n      <td>-70.502880</td>\n      <td>2019-10-19 01:00:00+00:00</td>\n      <td>True</td>\n      <td>61e4ad15c3ff928840ebd34407055b33</td>\n      <td>1679091c5a880faf6fb5e6087eb1b2dc</td>\n      <td>55.111234</td>\n      <td>1.571458e+09</td>\n    </tr>\n  </tbody>\n</table>\n<p>10000 rows × 9 columns</p>\n</div>"
     },
     "execution_count": 21,
     "metadata": {},
     "output_type": "execute_result"
    }
   ],
   "source": [
    "# load the orders table\n",
    "orders = pd.read_csv('./data/orders.csv')\n",
    "add_unix_time(orders, 'promised_time', 'unix_time')\n",
    "orders"
   ],
   "metadata": {
    "collapsed": false,
    "pycharm": {
     "name": "#%%\n"
    }
   }
  },
  {
   "cell_type": "markdown",
   "source": [
    "A quick look at this table arises two interesting questions, how wide is our spectrum of lat/lng\n",
    "geographical data? Maybe it's scope is small it means we're really optimizing for just a city so let's\n",
    "investigate this because if we know the city we may find easy to optimize x/y coords just as\n",
    "distance between store and user."
   ],
   "metadata": {
    "collapsed": false
   }
  },
  {
   "cell_type": "markdown",
   "source": [
    "## Checking: ``shopper.csv``\n",
    "In this table we have more information on whom the shopper is..."
   ],
   "metadata": {
    "collapsed": false
   }
  },
  {
   "cell_type": "code",
   "execution_count": 22,
   "outputs": [
    {
     "data": {
      "text/plain": "                            shopper_id                         seniority  \\\n0     1fc20b0bdf697ac13dd6a15cbd2fe60a  41dc7c9e385c4d2b6c1f7836973951bf   \n1     e1c679ac73a69c01981fdd3c5ab8beda  6c90661e6d2c7579f5ce337c3391dbb9   \n2     09d369c66ca86ebeffacb133410c5ee1  6c90661e6d2c7579f5ce337c3391dbb9   \n3     db39866e62b95bb04ebb1e470f2d1347  50e13ee63f086c2fe84229348bc91b5b   \n4     8efbc238660053b19f00ca431144fdae  6c90661e6d2c7579f5ce337c3391dbb9   \n...                                ...                               ...   \n2859  da24da1311f7913f6d2d29d8238b439c  6c90661e6d2c7579f5ce337c3391dbb9   \n2860  cf95eda5ffc1d4b9586de2ca08ab40f8  50e13ee63f086c2fe84229348bc91b5b   \n2861  e8482e3ad8bc820ec756566a472b84b1  6c90661e6d2c7579f5ce337c3391dbb9   \n2862  a55a3765a02530a97eb9af7aee327486  6c90661e6d2c7579f5ce337c3391dbb9   \n2863  ed3b2414f4b604298fb86adaaae2ee46  50e13ee63f086c2fe84229348bc91b5b   \n\n      found_rate  picking_speed  accepted_rate  rating  \n0         0.8606           1.94           1.00    4.87  \n1         0.8446           1.23           0.92    4.92  \n2         0.8559           1.56           1.00    4.88  \n3            NaN           2.41            NaN     NaN  \n4         0.8770           1.31           0.92    4.88  \n...          ...            ...            ...     ...  \n2859      0.8951           1.53           0.88    4.80  \n2860      0.8695           3.00           0.56    5.00  \n2861      0.9152           1.47           0.88    4.96  \n2862      0.8695           1.20           0.96    4.80  \n2863      0.8416           1.48           0.60    4.95  \n\n[2864 rows x 6 columns]",
      "text/html": "<div>\n<style scoped>\n    .dataframe tbody tr th:only-of-type {\n        vertical-align: middle;\n    }\n\n    .dataframe tbody tr th {\n        vertical-align: top;\n    }\n\n    .dataframe thead th {\n        text-align: right;\n    }\n</style>\n<table border=\"1\" class=\"dataframe\">\n  <thead>\n    <tr style=\"text-align: right;\">\n      <th></th>\n      <th>shopper_id</th>\n      <th>seniority</th>\n      <th>found_rate</th>\n      <th>picking_speed</th>\n      <th>accepted_rate</th>\n      <th>rating</th>\n    </tr>\n  </thead>\n  <tbody>\n    <tr>\n      <th>0</th>\n      <td>1fc20b0bdf697ac13dd6a15cbd2fe60a</td>\n      <td>41dc7c9e385c4d2b6c1f7836973951bf</td>\n      <td>0.8606</td>\n      <td>1.94</td>\n      <td>1.00</td>\n      <td>4.87</td>\n    </tr>\n    <tr>\n      <th>1</th>\n      <td>e1c679ac73a69c01981fdd3c5ab8beda</td>\n      <td>6c90661e6d2c7579f5ce337c3391dbb9</td>\n      <td>0.8446</td>\n      <td>1.23</td>\n      <td>0.92</td>\n      <td>4.92</td>\n    </tr>\n    <tr>\n      <th>2</th>\n      <td>09d369c66ca86ebeffacb133410c5ee1</td>\n      <td>6c90661e6d2c7579f5ce337c3391dbb9</td>\n      <td>0.8559</td>\n      <td>1.56</td>\n      <td>1.00</td>\n      <td>4.88</td>\n    </tr>\n    <tr>\n      <th>3</th>\n      <td>db39866e62b95bb04ebb1e470f2d1347</td>\n      <td>50e13ee63f086c2fe84229348bc91b5b</td>\n      <td>NaN</td>\n      <td>2.41</td>\n      <td>NaN</td>\n      <td>NaN</td>\n    </tr>\n    <tr>\n      <th>4</th>\n      <td>8efbc238660053b19f00ca431144fdae</td>\n      <td>6c90661e6d2c7579f5ce337c3391dbb9</td>\n      <td>0.8770</td>\n      <td>1.31</td>\n      <td>0.92</td>\n      <td>4.88</td>\n    </tr>\n    <tr>\n      <th>...</th>\n      <td>...</td>\n      <td>...</td>\n      <td>...</td>\n      <td>...</td>\n      <td>...</td>\n      <td>...</td>\n    </tr>\n    <tr>\n      <th>2859</th>\n      <td>da24da1311f7913f6d2d29d8238b439c</td>\n      <td>6c90661e6d2c7579f5ce337c3391dbb9</td>\n      <td>0.8951</td>\n      <td>1.53</td>\n      <td>0.88</td>\n      <td>4.80</td>\n    </tr>\n    <tr>\n      <th>2860</th>\n      <td>cf95eda5ffc1d4b9586de2ca08ab40f8</td>\n      <td>50e13ee63f086c2fe84229348bc91b5b</td>\n      <td>0.8695</td>\n      <td>3.00</td>\n      <td>0.56</td>\n      <td>5.00</td>\n    </tr>\n    <tr>\n      <th>2861</th>\n      <td>e8482e3ad8bc820ec756566a472b84b1</td>\n      <td>6c90661e6d2c7579f5ce337c3391dbb9</td>\n      <td>0.9152</td>\n      <td>1.47</td>\n      <td>0.88</td>\n      <td>4.96</td>\n    </tr>\n    <tr>\n      <th>2862</th>\n      <td>a55a3765a02530a97eb9af7aee327486</td>\n      <td>6c90661e6d2c7579f5ce337c3391dbb9</td>\n      <td>0.8695</td>\n      <td>1.20</td>\n      <td>0.96</td>\n      <td>4.80</td>\n    </tr>\n    <tr>\n      <th>2863</th>\n      <td>ed3b2414f4b604298fb86adaaae2ee46</td>\n      <td>50e13ee63f086c2fe84229348bc91b5b</td>\n      <td>0.8416</td>\n      <td>1.48</td>\n      <td>0.60</td>\n      <td>4.95</td>\n    </tr>\n  </tbody>\n</table>\n<p>2864 rows × 6 columns</p>\n</div>"
     },
     "execution_count": 22,
     "metadata": {},
     "output_type": "execute_result"
    }
   ],
   "source": [
    "shoppers = pd.read_csv('./data/shoppers.csv')\n",
    "shoppers"
   ],
   "metadata": {
    "collapsed": false,
    "pycharm": {
     "name": "#%%\n"
    }
   }
  },
  {
   "cell_type": "markdown",
   "source": [
    "We notice right away that ``seniority`` has been tokenized, and this field may be important\n",
    "to fill other values such as ``found_rate`` or ``accepted_rate``, this is because we can fill\n",
    "with the average of said seniority group.\n",
    "\n",
    "Something important about ``seniority`` field is that there may be a certain proximity between tokens\n",
    "that has been washed away during tokenization, let's say for example that token 6c9 is not senior and\n",
    "50e is next seniority level, but the table as it's given there's not really a way to know if they're\n",
    "next to each other, so maybe before using this field we can try to calculate proximity!\n",
    "\n",
    "Before this, let's check how many levels we have on this field..."
   ],
   "metadata": {
    "collapsed": false
   }
  },
  {
   "cell_type": "code",
   "execution_count": 23,
   "outputs": [
    {
     "data": {
      "text/plain": "6c90661e6d2c7579f5ce337c3391dbb9    1643\n50e13ee63f086c2fe84229348bc91b5b     719\n41dc7c9e385c4d2b6c1f7836973951bf     440\nbb29b8d0d196b5db5a5350e5e3ae2b1f      62\nName: seniority, dtype: int64"
     },
     "execution_count": 23,
     "metadata": {},
     "output_type": "execute_result"
    }
   ],
   "source": [
    "# check how many different seniority levels we're dealing with\n",
    "shoppers['seniority'].value_counts()"
   ],
   "metadata": {
    "collapsed": false,
    "pycharm": {
     "name": "#%%\n"
    }
   }
  },
  {
   "cell_type": "markdown",
   "source": [
    "So we have four levels of seniority that's good! Before we tokenize them we'll make sure to know\n",
    "which one is next to the other, a way of doing this could be by:\n",
    "* Calculating the average cosine similarity of vectors.\n",
    "* Calculating the distance between clusters of vectors.\n",
    "* Reducing the dimensionality with PCA analysis and checking in a 2D plane.\n",
    "\n",
    "Also, it arises the question of how empty fields we have overall in data, so at the end let's create\n",
    "a pandas profile of each table."
   ],
   "metadata": {
    "collapsed": false
   }
  },
  {
   "cell_type": "markdown",
   "source": [
    "## Checking: ``storebranch.csv``\n",
    "Very straight-forward, we have the location of store and store branch\n",
    "(example: we may have a \"Santa Isabel\")."
   ],
   "metadata": {
    "collapsed": false
   }
  },
  {
   "cell_type": "code",
   "execution_count": 24,
   "outputs": [
    {
     "data": {
      "text/plain": "                      store_branch_id                          store_id  \\\n0    aff1621254f7c1be92f64550478c56e6  92cc227532d17e56e07902b254dfad10   \n1    56352739f59643540a3a6e16985f62c7  0336dcbab05b9d5ad24f4333c7658a0e   \n2    7d04bbbe5494ae9d2f5a76aa1c00fa2f  9bf31c7ff062936a96d3c8bd1f8f2ff3   \n3    2b24d495052a8ce66358eb576b8912c8  c4ca4238a0b923820dcc509a6f75849b   \n4    5487315b1286f907165907aa8fc96619  d82c8d1619ad8176d665453cfb2e55f0   \n..                                ...                               ...   \n471  045117b0e0a11a242b9765e79cbf113f  a87ff679a2f3e71d9181a67b7542122c   \n472  2cfa3753d6a524711acb5fce38eeca1a  3f67fd97162d20e6fe27748b5b372509   \n473  7486cef2522ee03547cfb970a404a874  8f468c873a32bb0619eaeb2050ba45d1   \n474  c06d06da9666a219db15cf575aff2824  9a1158154dfa42caddbd0694a4e9bdc8   \n475  eb163727917cbba1eea208541a643e74  a87ff679a2f3e71d9181a67b7542122c   \n\n           lat        lng  \n0   -33.422497 -70.609231  \n1   -33.385484 -70.555579  \n2   -33.416579 -70.565224  \n3   -33.512578 -70.655952  \n4   -33.347645 -70.542229  \n..         ...        ...  \n471 -33.036111 -71.524149  \n472 -33.406081 -70.598128  \n473 -33.397498 -70.584666  \n474 -33.390604 -70.547206  \n475 -33.428421 -70.540562  \n\n[476 rows x 4 columns]",
      "text/html": "<div>\n<style scoped>\n    .dataframe tbody tr th:only-of-type {\n        vertical-align: middle;\n    }\n\n    .dataframe tbody tr th {\n        vertical-align: top;\n    }\n\n    .dataframe thead th {\n        text-align: right;\n    }\n</style>\n<table border=\"1\" class=\"dataframe\">\n  <thead>\n    <tr style=\"text-align: right;\">\n      <th></th>\n      <th>store_branch_id</th>\n      <th>store_id</th>\n      <th>lat</th>\n      <th>lng</th>\n    </tr>\n  </thead>\n  <tbody>\n    <tr>\n      <th>0</th>\n      <td>aff1621254f7c1be92f64550478c56e6</td>\n      <td>92cc227532d17e56e07902b254dfad10</td>\n      <td>-33.422497</td>\n      <td>-70.609231</td>\n    </tr>\n    <tr>\n      <th>1</th>\n      <td>56352739f59643540a3a6e16985f62c7</td>\n      <td>0336dcbab05b9d5ad24f4333c7658a0e</td>\n      <td>-33.385484</td>\n      <td>-70.555579</td>\n    </tr>\n    <tr>\n      <th>2</th>\n      <td>7d04bbbe5494ae9d2f5a76aa1c00fa2f</td>\n      <td>9bf31c7ff062936a96d3c8bd1f8f2ff3</td>\n      <td>-33.416579</td>\n      <td>-70.565224</td>\n    </tr>\n    <tr>\n      <th>3</th>\n      <td>2b24d495052a8ce66358eb576b8912c8</td>\n      <td>c4ca4238a0b923820dcc509a6f75849b</td>\n      <td>-33.512578</td>\n      <td>-70.655952</td>\n    </tr>\n    <tr>\n      <th>4</th>\n      <td>5487315b1286f907165907aa8fc96619</td>\n      <td>d82c8d1619ad8176d665453cfb2e55f0</td>\n      <td>-33.347645</td>\n      <td>-70.542229</td>\n    </tr>\n    <tr>\n      <th>...</th>\n      <td>...</td>\n      <td>...</td>\n      <td>...</td>\n      <td>...</td>\n    </tr>\n    <tr>\n      <th>471</th>\n      <td>045117b0e0a11a242b9765e79cbf113f</td>\n      <td>a87ff679a2f3e71d9181a67b7542122c</td>\n      <td>-33.036111</td>\n      <td>-71.524149</td>\n    </tr>\n    <tr>\n      <th>472</th>\n      <td>2cfa3753d6a524711acb5fce38eeca1a</td>\n      <td>3f67fd97162d20e6fe27748b5b372509</td>\n      <td>-33.406081</td>\n      <td>-70.598128</td>\n    </tr>\n    <tr>\n      <th>473</th>\n      <td>7486cef2522ee03547cfb970a404a874</td>\n      <td>8f468c873a32bb0619eaeb2050ba45d1</td>\n      <td>-33.397498</td>\n      <td>-70.584666</td>\n    </tr>\n    <tr>\n      <th>474</th>\n      <td>c06d06da9666a219db15cf575aff2824</td>\n      <td>9a1158154dfa42caddbd0694a4e9bdc8</td>\n      <td>-33.390604</td>\n      <td>-70.547206</td>\n    </tr>\n    <tr>\n      <th>475</th>\n      <td>eb163727917cbba1eea208541a643e74</td>\n      <td>a87ff679a2f3e71d9181a67b7542122c</td>\n      <td>-33.428421</td>\n      <td>-70.540562</td>\n    </tr>\n  </tbody>\n</table>\n<p>476 rows × 4 columns</p>\n</div>"
     },
     "execution_count": 24,
     "metadata": {},
     "output_type": "execute_result"
    }
   ],
   "source": [
    "stores = pd.read_csv('./data/storebranch.csv')\n",
    "stores"
   ],
   "metadata": {
    "collapsed": false,
    "pycharm": {
     "name": "#%%\n"
    }
   }
  },
  {
   "cell_type": "markdown",
   "source": [
    "What happens if we have a local store with no store branch?\n",
    "We would guess that it has a special token for this case, let's count the token occurrences."
   ],
   "metadata": {
    "collapsed": false
   }
  },
  {
   "cell_type": "code",
   "execution_count": 25,
   "outputs": [
    {
     "data": {
      "text/plain": "c4ca4238a0b923820dcc509a6f75849b    33\n9bf31c7ff062936a96d3c8bd1f8f2ff3    23\nc0c7c76d30bd3dcaefc96f40275bdc0a    19\na87ff679a2f3e71d9181a67b7542122c    17\nf899139df5e1059396431415e770c6dd    15\n                                    ..\n8d34201a5b85900908db6cae92723617     1\ndf0aab058ce179e4f7ab135ed4e641a9     1\n30bb3825e8f631cc6075c0f87bb4978c     1\n48aedb8880cab8c45637abc7493ecddd     1\n8f468c873a32bb0619eaeb2050ba45d1     1\nName: store_id, Length: 221, dtype: int64"
     },
     "execution_count": 25,
     "metadata": {},
     "output_type": "execute_result"
    }
   ],
   "source": [
    "# count store_branch_id occurrences\n",
    "store_counts = stores['store_id'].value_counts()\n",
    "store_counts"
   ],
   "metadata": {
    "collapsed": false,
    "pycharm": {
     "name": "#%%\n"
    }
   }
  },
  {
   "cell_type": "markdown",
   "source": [
    "Because we have a lot of one-store tokens, let's check them just to know if they could\n",
    "be represented as a special store type."
   ],
   "metadata": {
    "collapsed": false
   }
  },
  {
   "cell_type": "code",
   "execution_count": 26,
   "outputs": [
    {
     "data": {
      "text/plain": "69adc1e107f7f7d035d7baf04342e1ca    1\n16c222aa19898e5058938167c8ab6c57    1\n8cb22bdd0b7ba1ab13d742e22eed8da2    1\ne0cf1f47118daebc5b16269099ad7347    1\na4a042cf4fd6bfb47701cbc8a1653ada    1\n                                   ..\n8d34201a5b85900908db6cae92723617    1\ndf0aab058ce179e4f7ab135ed4e641a9    1\n30bb3825e8f631cc6075c0f87bb4978c    1\n48aedb8880cab8c45637abc7493ecddd    1\n8f468c873a32bb0619eaeb2050ba45d1    1\nName: store_id, Length: 153, dtype: int64"
     },
     "execution_count": 26,
     "metadata": {},
     "output_type": "execute_result"
    }
   ],
   "source": [
    "store_counts[store_counts==1]"
   ],
   "metadata": {
    "collapsed": false,
    "pycharm": {
     "name": "#%%\n"
    }
   }
  },
  {
   "cell_type": "markdown",
   "source": [
    "So from 221 stores, 153 of them are independent, and they don't seem to be grouped in some\n",
    "class in particular."
   ],
   "metadata": {
    "collapsed": false
   }
  },
  {
   "cell_type": "markdown",
   "source": [
    "## Conclusions\n",
    "We can use ``orders.csv`` as the central table, then join data from the others by looking\n",
    "up information by respective ids. It should look something like this:\n",
    "\n",
    "<img alt=\"image\" height=\"600\" src=\"imgs/cornershop_db.PNG\" width=\"800\"/>\n",
    "\n",
    "We need to take care of these assignments for each table:\n",
    "\n",
    "* There are n-products for each order, so we will synthesize them in a fixed length of values.\n",
    "* We'll add distance between user and shop as redundant data made from lat/lng values.\n",
    "* We must tokenize seniority in a smart way, as right adjacency may favor any model.\n",
    "* Time values are easier to process as unix format numerical values.\n",
    "\n",
    "Finally, let's create a pandas profile for each table just to observe how skewed\n",
    "is our data, how much data is missing, etc. In the next notebooks, we'll\n",
    "convert each table to our advantage, so it can be joined in the final\n",
    "dataset we'll use at training."
   ],
   "metadata": {
    "collapsed": false
   }
  },
  {
   "cell_type": "code",
   "execution_count": 27,
   "outputs": [],
   "source": [
    "# create a pandas profile for each table\n",
    "def profile(df, name, minimal=True):\n",
    "    prof = ProfileReport(df, minimal=minimal)\n",
    "    prof.to_file(name)"
   ],
   "metadata": {
    "collapsed": false,
    "pycharm": {
     "name": "#%%\n"
    }
   }
  },
  {
   "cell_type": "code",
   "execution_count": 28,
   "outputs": [
    {
     "data": {
      "text/plain": "Summarize dataset:   0%|          | 0/12 [00:00<?, ?it/s]",
      "application/vnd.jupyter.widget-view+json": {
       "version_major": 2,
       "version_minor": 0,
       "model_id": "f52488a7d73c4fba87547e2624c6df61"
      }
     },
     "metadata": {},
     "output_type": "display_data"
    },
    {
     "data": {
      "text/plain": "Generate report structure:   0%|          | 0/1 [00:00<?, ?it/s]",
      "application/vnd.jupyter.widget-view+json": {
       "version_major": 2,
       "version_minor": 0,
       "model_id": "37de0a31e43c44aa83267d22e3cda53b"
      }
     },
     "metadata": {},
     "output_type": "display_data"
    },
    {
     "data": {
      "text/plain": "Render HTML:   0%|          | 0/1 [00:00<?, ?it/s]",
      "application/vnd.jupyter.widget-view+json": {
       "version_major": 2,
       "version_minor": 0,
       "model_id": "d28c663135264d6f9a95842127189e23"
      }
     },
     "metadata": {},
     "output_type": "display_data"
    },
    {
     "data": {
      "text/plain": "Export report to file:   0%|          | 0/1 [00:00<?, ?it/s]",
      "application/vnd.jupyter.widget-view+json": {
       "version_major": 2,
       "version_minor": 0,
       "model_id": "7635c6952f004596ae424a99c5546f68"
      }
     },
     "metadata": {},
     "output_type": "display_data"
    },
    {
     "data": {
      "text/plain": "Summarize dataset:   0%|          | 0/17 [00:00<?, ?it/s]",
      "application/vnd.jupyter.widget-view+json": {
       "version_major": 2,
       "version_minor": 0,
       "model_id": "52cfca7bb5e745f8a4f2068ca51aee04"
      }
     },
     "metadata": {},
     "output_type": "display_data"
    },
    {
     "data": {
      "text/plain": "Generate report structure:   0%|          | 0/1 [00:00<?, ?it/s]",
      "application/vnd.jupyter.widget-view+json": {
       "version_major": 2,
       "version_minor": 0,
       "model_id": "b20f51ecc2974db59ce3f0bceaa8baad"
      }
     },
     "metadata": {},
     "output_type": "display_data"
    },
    {
     "data": {
      "text/plain": "Render HTML:   0%|          | 0/1 [00:00<?, ?it/s]",
      "application/vnd.jupyter.widget-view+json": {
       "version_major": 2,
       "version_minor": 0,
       "model_id": "ad075d5b05b446eba291bbb505a90f36"
      }
     },
     "metadata": {},
     "output_type": "display_data"
    },
    {
     "data": {
      "text/plain": "Export report to file:   0%|          | 0/1 [00:00<?, ?it/s]",
      "application/vnd.jupyter.widget-view+json": {
       "version_major": 2,
       "version_minor": 0,
       "model_id": "09d37b5c90a146cf999df45667b7654c"
      }
     },
     "metadata": {},
     "output_type": "display_data"
    },
    {
     "data": {
      "text/plain": "Summarize dataset:   0%|          | 0/14 [00:00<?, ?it/s]",
      "application/vnd.jupyter.widget-view+json": {
       "version_major": 2,
       "version_minor": 0,
       "model_id": "b5b29f239b564fcca91df982c8fc6abb"
      }
     },
     "metadata": {},
     "output_type": "display_data"
    },
    {
     "data": {
      "text/plain": "Generate report structure:   0%|          | 0/1 [00:00<?, ?it/s]",
      "application/vnd.jupyter.widget-view+json": {
       "version_major": 2,
       "version_minor": 0,
       "model_id": "e2761379c71241c8be53367dac37d2a5"
      }
     },
     "metadata": {},
     "output_type": "display_data"
    },
    {
     "data": {
      "text/plain": "Render HTML:   0%|          | 0/1 [00:00<?, ?it/s]",
      "application/vnd.jupyter.widget-view+json": {
       "version_major": 2,
       "version_minor": 0,
       "model_id": "e5603d567b9e40f2a23b5e987906e521"
      }
     },
     "metadata": {},
     "output_type": "display_data"
    },
    {
     "data": {
      "text/plain": "Export report to file:   0%|          | 0/1 [00:00<?, ?it/s]",
      "application/vnd.jupyter.widget-view+json": {
       "version_major": 2,
       "version_minor": 0,
       "model_id": "3a3111c9362c417cb1ef503c73a30eb4"
      }
     },
     "metadata": {},
     "output_type": "display_data"
    },
    {
     "data": {
      "text/plain": "Summarize dataset:   0%|          | 0/12 [00:00<?, ?it/s]",
      "application/vnd.jupyter.widget-view+json": {
       "version_major": 2,
       "version_minor": 0,
       "model_id": "894aab5ad6544722ab18daaa96801e44"
      }
     },
     "metadata": {},
     "output_type": "display_data"
    },
    {
     "data": {
      "text/plain": "Generate report structure:   0%|          | 0/1 [00:00<?, ?it/s]",
      "application/vnd.jupyter.widget-view+json": {
       "version_major": 2,
       "version_minor": 0,
       "model_id": "356b2ec0a48b4f35a8361550fa60a1c1"
      }
     },
     "metadata": {},
     "output_type": "display_data"
    },
    {
     "data": {
      "text/plain": "Render HTML:   0%|          | 0/1 [00:00<?, ?it/s]",
      "application/vnd.jupyter.widget-view+json": {
       "version_major": 2,
       "version_minor": 0,
       "model_id": "c212994c18b64ff8b92401db31110b82"
      }
     },
     "metadata": {},
     "output_type": "display_data"
    },
    {
     "data": {
      "text/plain": "Export report to file:   0%|          | 0/1 [00:00<?, ?it/s]",
      "application/vnd.jupyter.widget-view+json": {
       "version_major": 2,
       "version_minor": 0,
       "model_id": "fb2b36920fe94d9b9087875b06216d0f"
      }
     },
     "metadata": {},
     "output_type": "display_data"
    }
   ],
   "source": [
    "profile(order_products, './profiles/order_products.html')\n",
    "profile(orders, './profiles/orders.html')\n",
    "profile(shoppers, './profiles/shoppers.html')\n",
    "profile(stores, './profiles/stores.html')"
   ],
   "metadata": {
    "collapsed": false,
    "pycharm": {
     "name": "#%%\n"
    }
   }
  }
 ],
 "metadata": {
  "kernelspec": {
   "display_name": "Python 3",
   "language": "python",
   "name": "python3"
  },
  "language_info": {
   "codemirror_mode": {
    "name": "ipython",
    "version": 2
   },
   "file_extension": ".py",
   "mimetype": "text/x-python",
   "name": "python",
   "nbconvert_exporter": "python",
   "pygments_lexer": "ipython2",
   "version": "2.7.6"
  }
 },
 "nbformat": 4,
 "nbformat_minor": 0
}