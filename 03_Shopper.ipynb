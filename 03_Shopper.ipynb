{
 "cells": [
  {
   "cell_type": "markdown",
   "metadata": {
    "collapsed": true,
    "pycharm": {
     "name": "#%% md\n"
    }
   },
   "source": [
    "# Converting ``shopper.csv``\n",
    "\n",
    "For the shopper table there's two main objectives:\n",
    "\n",
    "* Fill the NaN values present observed on its pandas profile.\n",
    "* Re-tokenize seniority in the table so similar values are adjacent.\n",
    "\n",
    "Let's check the table again..."
   ]
  },
  {
   "cell_type": "code",
   "execution_count": 1,
   "outputs": [],
   "source": [
    "import pandas as pd"
   ],
   "metadata": {
    "collapsed": false,
    "pycharm": {
     "name": "#%%\n"
    }
   }
  },
  {
   "cell_type": "code",
   "execution_count": 3,
   "outputs": [
    {
     "data": {
      "text/plain": "                            shopper_id                         seniority  \\\n0     1fc20b0bdf697ac13dd6a15cbd2fe60a  41dc7c9e385c4d2b6c1f7836973951bf   \n1     e1c679ac73a69c01981fdd3c5ab8beda  6c90661e6d2c7579f5ce337c3391dbb9   \n2     09d369c66ca86ebeffacb133410c5ee1  6c90661e6d2c7579f5ce337c3391dbb9   \n3     db39866e62b95bb04ebb1e470f2d1347  50e13ee63f086c2fe84229348bc91b5b   \n4     8efbc238660053b19f00ca431144fdae  6c90661e6d2c7579f5ce337c3391dbb9   \n...                                ...                               ...   \n2859  da24da1311f7913f6d2d29d8238b439c  6c90661e6d2c7579f5ce337c3391dbb9   \n2860  cf95eda5ffc1d4b9586de2ca08ab40f8  50e13ee63f086c2fe84229348bc91b5b   \n2861  e8482e3ad8bc820ec756566a472b84b1  6c90661e6d2c7579f5ce337c3391dbb9   \n2862  a55a3765a02530a97eb9af7aee327486  6c90661e6d2c7579f5ce337c3391dbb9   \n2863  ed3b2414f4b604298fb86adaaae2ee46  50e13ee63f086c2fe84229348bc91b5b   \n\n      found_rate  picking_speed  accepted_rate  rating  \n0         0.8606           1.94           1.00    4.87  \n1         0.8446           1.23           0.92    4.92  \n2         0.8559           1.56           1.00    4.88  \n3            NaN           2.41            NaN     NaN  \n4         0.8770           1.31           0.92    4.88  \n...          ...            ...            ...     ...  \n2859      0.8951           1.53           0.88    4.80  \n2860      0.8695           3.00           0.56    5.00  \n2861      0.9152           1.47           0.88    4.96  \n2862      0.8695           1.20           0.96    4.80  \n2863      0.8416           1.48           0.60    4.95  \n\n[2864 rows x 6 columns]",
      "text/html": "<div>\n<style scoped>\n    .dataframe tbody tr th:only-of-type {\n        vertical-align: middle;\n    }\n\n    .dataframe tbody tr th {\n        vertical-align: top;\n    }\n\n    .dataframe thead th {\n        text-align: right;\n    }\n</style>\n<table border=\"1\" class=\"dataframe\">\n  <thead>\n    <tr style=\"text-align: right;\">\n      <th></th>\n      <th>shopper_id</th>\n      <th>seniority</th>\n      <th>found_rate</th>\n      <th>picking_speed</th>\n      <th>accepted_rate</th>\n      <th>rating</th>\n    </tr>\n  </thead>\n  <tbody>\n    <tr>\n      <th>0</th>\n      <td>1fc20b0bdf697ac13dd6a15cbd2fe60a</td>\n      <td>41dc7c9e385c4d2b6c1f7836973951bf</td>\n      <td>0.8606</td>\n      <td>1.94</td>\n      <td>1.00</td>\n      <td>4.87</td>\n    </tr>\n    <tr>\n      <th>1</th>\n      <td>e1c679ac73a69c01981fdd3c5ab8beda</td>\n      <td>6c90661e6d2c7579f5ce337c3391dbb9</td>\n      <td>0.8446</td>\n      <td>1.23</td>\n      <td>0.92</td>\n      <td>4.92</td>\n    </tr>\n    <tr>\n      <th>2</th>\n      <td>09d369c66ca86ebeffacb133410c5ee1</td>\n      <td>6c90661e6d2c7579f5ce337c3391dbb9</td>\n      <td>0.8559</td>\n      <td>1.56</td>\n      <td>1.00</td>\n      <td>4.88</td>\n    </tr>\n    <tr>\n      <th>3</th>\n      <td>db39866e62b95bb04ebb1e470f2d1347</td>\n      <td>50e13ee63f086c2fe84229348bc91b5b</td>\n      <td>NaN</td>\n      <td>2.41</td>\n      <td>NaN</td>\n      <td>NaN</td>\n    </tr>\n    <tr>\n      <th>4</th>\n      <td>8efbc238660053b19f00ca431144fdae</td>\n      <td>6c90661e6d2c7579f5ce337c3391dbb9</td>\n      <td>0.8770</td>\n      <td>1.31</td>\n      <td>0.92</td>\n      <td>4.88</td>\n    </tr>\n    <tr>\n      <th>...</th>\n      <td>...</td>\n      <td>...</td>\n      <td>...</td>\n      <td>...</td>\n      <td>...</td>\n      <td>...</td>\n    </tr>\n    <tr>\n      <th>2859</th>\n      <td>da24da1311f7913f6d2d29d8238b439c</td>\n      <td>6c90661e6d2c7579f5ce337c3391dbb9</td>\n      <td>0.8951</td>\n      <td>1.53</td>\n      <td>0.88</td>\n      <td>4.80</td>\n    </tr>\n    <tr>\n      <th>2860</th>\n      <td>cf95eda5ffc1d4b9586de2ca08ab40f8</td>\n      <td>50e13ee63f086c2fe84229348bc91b5b</td>\n      <td>0.8695</td>\n      <td>3.00</td>\n      <td>0.56</td>\n      <td>5.00</td>\n    </tr>\n    <tr>\n      <th>2861</th>\n      <td>e8482e3ad8bc820ec756566a472b84b1</td>\n      <td>6c90661e6d2c7579f5ce337c3391dbb9</td>\n      <td>0.9152</td>\n      <td>1.47</td>\n      <td>0.88</td>\n      <td>4.96</td>\n    </tr>\n    <tr>\n      <th>2862</th>\n      <td>a55a3765a02530a97eb9af7aee327486</td>\n      <td>6c90661e6d2c7579f5ce337c3391dbb9</td>\n      <td>0.8695</td>\n      <td>1.20</td>\n      <td>0.96</td>\n      <td>4.80</td>\n    </tr>\n    <tr>\n      <th>2863</th>\n      <td>ed3b2414f4b604298fb86adaaae2ee46</td>\n      <td>50e13ee63f086c2fe84229348bc91b5b</td>\n      <td>0.8416</td>\n      <td>1.48</td>\n      <td>0.60</td>\n      <td>4.95</td>\n    </tr>\n  </tbody>\n</table>\n<p>2864 rows × 6 columns</p>\n</div>"
     },
     "execution_count": 3,
     "metadata": {},
     "output_type": "execute_result"
    }
   ],
   "source": [
    "shopper = pd.read_csv('./data/shoppers.csv')\n",
    "shopper"
   ],
   "metadata": {
    "collapsed": false,
    "pycharm": {
     "name": "#%%\n"
    }
   }
  },
  {
   "cell_type": "markdown",
   "source": [
    "## Addressing the seniority tokenization\n",
    "Seniority probably has adjacent level, let's say beginner, medium, semi-senior and senior.\n",
    "We would like to keep beginner adjacent to medium numerically speaking and far away\n",
    "from senior, it's enough to enumerate them from zero to three.\n",
    "\n",
    "First, let's check if there's an easy way of recognizing them:"
   ],
   "metadata": {
    "collapsed": false,
    "pycharm": {
     "name": "#%% md\n"
    }
   }
  },
  {
   "cell_type": "code",
   "execution_count": 4,
   "outputs": [
    {
     "data": {
      "text/plain": "6c90661e6d2c7579f5ce337c3391dbb9    1643\n50e13ee63f086c2fe84229348bc91b5b     719\n41dc7c9e385c4d2b6c1f7836973951bf     440\nbb29b8d0d196b5db5a5350e5e3ae2b1f      62\nName: seniority, dtype: int64"
     },
     "execution_count": 4,
     "metadata": {},
     "output_type": "execute_result"
    }
   ],
   "source": [
    "shopper['seniority'].value_counts()"
   ],
   "metadata": {
    "collapsed": false,
    "pycharm": {
     "name": "#%%\n"
    }
   }
  },
  {
   "cell_type": "markdown",
   "source": [
    "It seems seniority is easy enough to distinguish by frequency! This is good,\n",
    "otherwise we would need to apply some clustering or cosine similarity metrics,\n",
    "but it's enough to do the following:"
   ],
   "metadata": {
    "collapsed": false,
    "pycharm": {
     "name": "#%% md\n"
    }
   }
  },
  {
   "cell_type": "code",
   "execution_count": 5,
   "outputs": [],
   "source": [
    "seniority_dict = {'6c90661e6d2c7579f5ce337c3391dbb9': 0,\n",
    "                  '50e13ee63f086c2fe84229348bc91b5b': 1,\n",
    "                  '41dc7c9e385c4d2b6c1f7836973951bf': 2,\n",
    "                  'bb29b8d0d196b5db5a5350e5e3ae2b1f': 3}"
   ],
   "metadata": {
    "collapsed": false,
    "pycharm": {
     "name": "#%%\n"
    }
   }
  },
  {
   "cell_type": "markdown",
   "source": [
    "First, we know by frequency that '0' value is either senior or junior shoppers,\n",
    "(probably juniors are more frequent) it doesn't because we care mostly about\n",
    "the adjacency to make sense. Second, we know there's no missing data on seniority,\n",
    "so not only we will rewrite it to make more sense, but we'll use seniority\n",
    "to group the average rating of a shop of that experience and impute data on\n",
    "other fields.\n"
   ],
   "metadata": {
    "collapsed": false,
    "pycharm": {
     "name": "#%% md\n"
    }
   }
  },
  {
   "cell_type": "code",
   "execution_count": 6,
   "outputs": [],
   "source": [
    "# we'll create a helper function to impute a col using seniority col\n",
    "def specific_imputation(df):\n",
    "    df_copy = df.copy()\n",
    "    for seniority in range(4):\n",
    "        sub_df = df_copy[df_copy['seniority']==seniority]\n",
    "        sub_df.fillna(sub_df.mean(), inplace=True)\n",
    "\n",
    "    return df_copy\n",
    "\n",
    "\n",
    "# change seniority to numeric plus fill NaNs\n",
    "def fix_shoppers(df, seniority_dic):\n",
    "    # first, create a copy df\n",
    "    df_copy = df.copy()\n",
    "\n",
    "    # second, we pass through seniority and apply the dictionary\n",
    "    df_copy['seniority'] = df_copy['seniority'].apply(lambda x: seniority_dic[x])\n",
    "\n",
    "    # third, let's impute the data using average found_rate and rating per seniority\n",
    "    df_copy.fillna(df_copy.mean(), inplace=True)\n",
    "    # TODO: specific_imputation is not changing values inplace\n",
    "    # df_copy = specific_imputation(df_copy)\n",
    "    return df_copy"
   ],
   "metadata": {
    "collapsed": false,
    "pycharm": {
     "name": "#%%\n"
    }
   }
  },
  {
   "cell_type": "code",
   "execution_count": 7,
   "outputs": [
    {
     "name": "stderr",
     "output_type": "stream",
     "text": [
      "C:\\Users\\krist\\AppData\\Local\\Temp/ipykernel_9868/2857644985.py:20: FutureWarning: Dropping of nuisance columns in DataFrame reductions (with 'numeric_only=None') is deprecated; in a future version this will raise TypeError.  Select only valid columns before calling the reduction.\n",
      "  df_copy.fillna(df_copy.mean(), inplace=True)\n"
     ]
    },
    {
     "data": {
      "text/plain": "                            shopper_id  seniority  found_rate  picking_speed  \\\n0     1fc20b0bdf697ac13dd6a15cbd2fe60a          2    0.860600           1.94   \n1     e1c679ac73a69c01981fdd3c5ab8beda          0    0.844600           1.23   \n2     09d369c66ca86ebeffacb133410c5ee1          0    0.855900           1.56   \n3     db39866e62b95bb04ebb1e470f2d1347          1    0.861082           2.41   \n4     8efbc238660053b19f00ca431144fdae          0    0.877000           1.31   \n...                                ...        ...         ...            ...   \n2859  da24da1311f7913f6d2d29d8238b439c          0    0.895100           1.53   \n2860  cf95eda5ffc1d4b9586de2ca08ab40f8          1    0.869500           3.00   \n2861  e8482e3ad8bc820ec756566a472b84b1          0    0.915200           1.47   \n2862  a55a3765a02530a97eb9af7aee327486          0    0.869500           1.20   \n2863  ed3b2414f4b604298fb86adaaae2ee46          1    0.841600           1.48   \n\n      accepted_rate    rating  \n0          1.000000  4.870000  \n1          0.920000  4.920000  \n2          1.000000  4.880000  \n3          0.908276  4.848428  \n4          0.920000  4.880000  \n...             ...       ...  \n2859       0.880000  4.800000  \n2860       0.560000  5.000000  \n2861       0.880000  4.960000  \n2862       0.960000  4.800000  \n2863       0.600000  4.950000  \n\n[2864 rows x 6 columns]",
      "text/html": "<div>\n<style scoped>\n    .dataframe tbody tr th:only-of-type {\n        vertical-align: middle;\n    }\n\n    .dataframe tbody tr th {\n        vertical-align: top;\n    }\n\n    .dataframe thead th {\n        text-align: right;\n    }\n</style>\n<table border=\"1\" class=\"dataframe\">\n  <thead>\n    <tr style=\"text-align: right;\">\n      <th></th>\n      <th>shopper_id</th>\n      <th>seniority</th>\n      <th>found_rate</th>\n      <th>picking_speed</th>\n      <th>accepted_rate</th>\n      <th>rating</th>\n    </tr>\n  </thead>\n  <tbody>\n    <tr>\n      <th>0</th>\n      <td>1fc20b0bdf697ac13dd6a15cbd2fe60a</td>\n      <td>2</td>\n      <td>0.860600</td>\n      <td>1.94</td>\n      <td>1.000000</td>\n      <td>4.870000</td>\n    </tr>\n    <tr>\n      <th>1</th>\n      <td>e1c679ac73a69c01981fdd3c5ab8beda</td>\n      <td>0</td>\n      <td>0.844600</td>\n      <td>1.23</td>\n      <td>0.920000</td>\n      <td>4.920000</td>\n    </tr>\n    <tr>\n      <th>2</th>\n      <td>09d369c66ca86ebeffacb133410c5ee1</td>\n      <td>0</td>\n      <td>0.855900</td>\n      <td>1.56</td>\n      <td>1.000000</td>\n      <td>4.880000</td>\n    </tr>\n    <tr>\n      <th>3</th>\n      <td>db39866e62b95bb04ebb1e470f2d1347</td>\n      <td>1</td>\n      <td>0.861082</td>\n      <td>2.41</td>\n      <td>0.908276</td>\n      <td>4.848428</td>\n    </tr>\n    <tr>\n      <th>4</th>\n      <td>8efbc238660053b19f00ca431144fdae</td>\n      <td>0</td>\n      <td>0.877000</td>\n      <td>1.31</td>\n      <td>0.920000</td>\n      <td>4.880000</td>\n    </tr>\n    <tr>\n      <th>...</th>\n      <td>...</td>\n      <td>...</td>\n      <td>...</td>\n      <td>...</td>\n      <td>...</td>\n      <td>...</td>\n    </tr>\n    <tr>\n      <th>2859</th>\n      <td>da24da1311f7913f6d2d29d8238b439c</td>\n      <td>0</td>\n      <td>0.895100</td>\n      <td>1.53</td>\n      <td>0.880000</td>\n      <td>4.800000</td>\n    </tr>\n    <tr>\n      <th>2860</th>\n      <td>cf95eda5ffc1d4b9586de2ca08ab40f8</td>\n      <td>1</td>\n      <td>0.869500</td>\n      <td>3.00</td>\n      <td>0.560000</td>\n      <td>5.000000</td>\n    </tr>\n    <tr>\n      <th>2861</th>\n      <td>e8482e3ad8bc820ec756566a472b84b1</td>\n      <td>0</td>\n      <td>0.915200</td>\n      <td>1.47</td>\n      <td>0.880000</td>\n      <td>4.960000</td>\n    </tr>\n    <tr>\n      <th>2862</th>\n      <td>a55a3765a02530a97eb9af7aee327486</td>\n      <td>0</td>\n      <td>0.869500</td>\n      <td>1.20</td>\n      <td>0.960000</td>\n      <td>4.800000</td>\n    </tr>\n    <tr>\n      <th>2863</th>\n      <td>ed3b2414f4b604298fb86adaaae2ee46</td>\n      <td>1</td>\n      <td>0.841600</td>\n      <td>1.48</td>\n      <td>0.600000</td>\n      <td>4.950000</td>\n    </tr>\n  </tbody>\n</table>\n<p>2864 rows × 6 columns</p>\n</div>"
     },
     "execution_count": 7,
     "metadata": {},
     "output_type": "execute_result"
    }
   ],
   "source": [
    "shopper_fixed = fix_shoppers(shopper, seniority_dict)\n",
    "shopper_fixed"
   ],
   "metadata": {
    "collapsed": false,
    "pycharm": {
     "name": "#%%\n"
    }
   }
  },
  {
   "cell_type": "markdown",
   "source": [
    "Eventually, we'll use this table joined with our main order table as our complete dataset, for now we keep\n",
    "processing other tables."
   ],
   "metadata": {
    "collapsed": false,
    "pycharm": {
     "name": "#%% md\n"
    }
   }
  },
  {
   "cell_type": "code",
   "execution_count": 8,
   "outputs": [],
   "source": [
    "# saved the processed table\n",
    "shopper_fixed.to_csv('./data/shoppers_processed.csv')"
   ],
   "metadata": {
    "collapsed": false,
    "pycharm": {
     "name": "#%%\n"
    }
   }
  }
 ],
 "metadata": {
  "kernelspec": {
   "display_name": "Python 3",
   "language": "python",
   "name": "python3"
  },
  "language_info": {
   "codemirror_mode": {
    "name": "ipython",
    "version": 2
   },
   "file_extension": ".py",
   "mimetype": "text/x-python",
   "name": "python",
   "nbconvert_exporter": "python",
   "pygments_lexer": "ipython2",
   "version": "2.7.6"
  }
 },
 "nbformat": 4,
 "nbformat_minor": 0
}