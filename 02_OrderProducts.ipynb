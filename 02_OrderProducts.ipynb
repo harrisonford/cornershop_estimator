{
 "cells": [
  {
   "cell_type": "markdown",
   "metadata": {
    "collapsed": true,
    "pycharm": {
     "name": "#%% md\n"
    }
   },
   "source": [
    "# Processing ``orderproducts.csv``\n",
    "\n",
    "From our last notebook, we have to find a way to synthesize an order\n",
    "with multiple products into an overall, fixed representation of\n",
    "the order. In stricter words:\n",
    "\n",
    "\n",
    "\n",
    "$Let \\ two \\ Orders:$\n",
    "\n",
    "$O_i = [p_{i1},  p_{i2}, ... , p_{im}]; \\ Oj=[p_{j1}, p_{j2}, ... , p_{jn}]$\n",
    "\n",
    "$Where:$\n",
    "\n",
    "$p_{i} = [id_{i}, val_{i}, unit_{i}]$\n",
    "\n",
    "$And:$\n",
    "\n",
    "$m \\neq n => |o_{i}| \\neq |o_{j}|$\n",
    "\n",
    "$Find \\ f(x):$\n",
    "\n",
    "$|f(o_{i})| = |f(o_{j})|$\n",
    "\n",
    "To find a good way of synthesizing, let's check our table again."
   ]
  },
  {
   "cell_type": "code",
   "execution_count": 1,
   "outputs": [],
   "source": [
    "import numpy as np\n",
    "import pandas as pd"
   ],
   "metadata": {
    "collapsed": false,
    "pycharm": {
     "name": "#%%\n"
    }
   }
  },
  {
   "cell_type": "code",
   "execution_count": 2,
   "outputs": [
    {
     "data": {
      "text/plain": "                                order_id                        product_id  \\\n0       47099653730fb1b76537fc10ad876255  c1244453d731c77416cb4766e3bd76cb   \n1       689d8866915acf87e851c2591a23a82f  43cc2b100bec640fe563cd16f2db669f   \n2       f26d16bf6f38c9e31d0be877f4013a9e  b8f880759d014134e272d881d49989a2   \n3       161ccc896835ab41761b0e726becb6b1  dbc062b9bef805d27a6f4bea7edfe1f1   \n4       4713deca10bb5db98fae150b52d61fc0  93a060f269bb569398921100f84c519a   \n...                                  ...                               ...   \n198495  edd8fe4fd7d75de060cae811756603b0  e7f4a5ea6d480b7a1a7076fad543875e   \n198496  70c0ff9c8533539b1c04e96398fef697  f506d0401b99c6c00d8792d38ce93aa1   \n198497  dcf086aadb08ef7e695fadd723d881a7  c9970c5966ad6399d1c52aef34268699   \n198498  f5f76f8fb58cdafe94b41fd836dfcec7  2cdd75fa252b3918918c662922b11b6e   \n198499  e7ab48bb94f4790655531345aae6bd96  dd39130d6dfad68251ba147f7477e81b   \n\n        quantity buy_unit  \n0            1.0       UN  \n1            1.0       KG  \n2            1.0       UN  \n3            1.0       UN  \n4            2.0       UN  \n...          ...      ...  \n198495       3.0       UN  \n198496       6.0       UN  \n198497       1.0       UN  \n198498       3.0       UN  \n198499       1.0       UN  \n\n[198500 rows x 4 columns]",
      "text/html": "<div>\n<style scoped>\n    .dataframe tbody tr th:only-of-type {\n        vertical-align: middle;\n    }\n\n    .dataframe tbody tr th {\n        vertical-align: top;\n    }\n\n    .dataframe thead th {\n        text-align: right;\n    }\n</style>\n<table border=\"1\" class=\"dataframe\">\n  <thead>\n    <tr style=\"text-align: right;\">\n      <th></th>\n      <th>order_id</th>\n      <th>product_id</th>\n      <th>quantity</th>\n      <th>buy_unit</th>\n    </tr>\n  </thead>\n  <tbody>\n    <tr>\n      <th>0</th>\n      <td>47099653730fb1b76537fc10ad876255</td>\n      <td>c1244453d731c77416cb4766e3bd76cb</td>\n      <td>1.0</td>\n      <td>UN</td>\n    </tr>\n    <tr>\n      <th>1</th>\n      <td>689d8866915acf87e851c2591a23a82f</td>\n      <td>43cc2b100bec640fe563cd16f2db669f</td>\n      <td>1.0</td>\n      <td>KG</td>\n    </tr>\n    <tr>\n      <th>2</th>\n      <td>f26d16bf6f38c9e31d0be877f4013a9e</td>\n      <td>b8f880759d014134e272d881d49989a2</td>\n      <td>1.0</td>\n      <td>UN</td>\n    </tr>\n    <tr>\n      <th>3</th>\n      <td>161ccc896835ab41761b0e726becb6b1</td>\n      <td>dbc062b9bef805d27a6f4bea7edfe1f1</td>\n      <td>1.0</td>\n      <td>UN</td>\n    </tr>\n    <tr>\n      <th>4</th>\n      <td>4713deca10bb5db98fae150b52d61fc0</td>\n      <td>93a060f269bb569398921100f84c519a</td>\n      <td>2.0</td>\n      <td>UN</td>\n    </tr>\n    <tr>\n      <th>...</th>\n      <td>...</td>\n      <td>...</td>\n      <td>...</td>\n      <td>...</td>\n    </tr>\n    <tr>\n      <th>198495</th>\n      <td>edd8fe4fd7d75de060cae811756603b0</td>\n      <td>e7f4a5ea6d480b7a1a7076fad543875e</td>\n      <td>3.0</td>\n      <td>UN</td>\n    </tr>\n    <tr>\n      <th>198496</th>\n      <td>70c0ff9c8533539b1c04e96398fef697</td>\n      <td>f506d0401b99c6c00d8792d38ce93aa1</td>\n      <td>6.0</td>\n      <td>UN</td>\n    </tr>\n    <tr>\n      <th>198497</th>\n      <td>dcf086aadb08ef7e695fadd723d881a7</td>\n      <td>c9970c5966ad6399d1c52aef34268699</td>\n      <td>1.0</td>\n      <td>UN</td>\n    </tr>\n    <tr>\n      <th>198498</th>\n      <td>f5f76f8fb58cdafe94b41fd836dfcec7</td>\n      <td>2cdd75fa252b3918918c662922b11b6e</td>\n      <td>3.0</td>\n      <td>UN</td>\n    </tr>\n    <tr>\n      <th>198499</th>\n      <td>e7ab48bb94f4790655531345aae6bd96</td>\n      <td>dd39130d6dfad68251ba147f7477e81b</td>\n      <td>1.0</td>\n      <td>UN</td>\n    </tr>\n  </tbody>\n</table>\n<p>198500 rows × 4 columns</p>\n</div>"
     },
     "execution_count": 2,
     "metadata": {},
     "output_type": "execute_result"
    }
   ],
   "source": [
    "order_products = pd.read_csv('./data/order_products.csv')\n",
    "order_products"
   ],
   "metadata": {
    "collapsed": false,
    "pycharm": {
     "name": "#%%\n"
    }
   }
  },
  {
   "cell_type": "markdown",
   "source": [
    "## Creating a popularity weight for products\n",
    "Usually, there's a good chance that weight-based products require a special task\n",
    "from the store, which would take more time than unit-based products. Therefore,\n",
    "for each order, we can add the weights and units separately to quantify how big\n",
    "is our order without losing two possible influences.\n",
    "\n",
    "Another influence we may be losing with adding up weight and units is how\n",
    "frequently a store is requested for the same product. For example 1KG of Chicken\n",
    "could be easier to process than 1KG of Duck (if it ever exists). So before we do\n",
    "anything, let's add a popularity coefficient for each product in our database.\n",
    "\n",
    "Also it's important to note that we can use this because there's\n",
    "no missing data, so imputation is not necessary!"
   ],
   "metadata": {
    "collapsed": false,
    "pycharm": {
     "name": "#%% md\n"
    }
   }
  },
  {
   "cell_type": "code",
   "execution_count": 3,
   "outputs": [],
   "source": [
    "# create a function that adds overall popularity of product_id in database\n",
    "# calculated as how many products or weight is bought compared to others\n",
    "def add_popularity(df, new_col):\n",
    "    container = []  # this is where we save popularity\n",
    "    popularity = dict()  # we will register products that already were visited\n",
    "\n",
    "    total_uni = df['quantity'][df['buy_unit']=='UN'].sum()\n",
    "    total_wei = df['quantity'][df['buy_unit']=='KG'].sum()\n",
    "\n",
    "    for product, quant, unit in zip(df['product_id'], df['quantity'], df['buy_unit']):\n",
    "        # first let's check if we already found product before\n",
    "        if product in popularity:\n",
    "            container.append(popularity[product] * quant)\n",
    "        else:  # calculate product popularity and add to dict\n",
    "            prod_quant = df['quantity'][df['product_id'] == product].sum()\n",
    "            if unit == 'UN':\n",
    "                prod_pop = prod_quant/total_uni\n",
    "            else:  # unit is wei\n",
    "                prod_pop = prod_quant/total_wei\n",
    "            # add pop\n",
    "            popularity[product] = prod_pop\n",
    "            # add my weighted pop to container\n",
    "            container.append(prod_pop * quant)\n",
    "    # add new_col with weighted popularity\n",
    "    df[new_col] = container\n",
    "\n",
    "    return"
   ],
   "metadata": {
    "collapsed": false,
    "pycharm": {
     "name": "#%%\n"
    }
   }
  },
  {
   "cell_type": "code",
   "execution_count": 4,
   "outputs": [
    {
     "data": {
      "text/plain": "                                order_id                        product_id  \\\n0       47099653730fb1b76537fc10ad876255  c1244453d731c77416cb4766e3bd76cb   \n1       689d8866915acf87e851c2591a23a82f  43cc2b100bec640fe563cd16f2db669f   \n2       f26d16bf6f38c9e31d0be877f4013a9e  b8f880759d014134e272d881d49989a2   \n3       161ccc896835ab41761b0e726becb6b1  dbc062b9bef805d27a6f4bea7edfe1f1   \n4       4713deca10bb5db98fae150b52d61fc0  93a060f269bb569398921100f84c519a   \n...                                  ...                               ...   \n198495  edd8fe4fd7d75de060cae811756603b0  e7f4a5ea6d480b7a1a7076fad543875e   \n198496  70c0ff9c8533539b1c04e96398fef697  f506d0401b99c6c00d8792d38ce93aa1   \n198497  dcf086aadb08ef7e695fadd723d881a7  c9970c5966ad6399d1c52aef34268699   \n198498  f5f76f8fb58cdafe94b41fd836dfcec7  2cdd75fa252b3918918c662922b11b6e   \n198499  e7ab48bb94f4790655531345aae6bd96  dd39130d6dfad68251ba147f7477e81b   \n\n        quantity buy_unit  weighted_popularity  \n0            1.0       UN             0.001244  \n1            1.0       KG             0.000288  \n2            1.0       UN             0.000653  \n3            1.0       UN             0.000331  \n4            2.0       UN             0.000012  \n...          ...      ...                  ...  \n198495       3.0       UN             0.003585  \n198496       6.0       UN             0.013314  \n198497       1.0       UN             0.001726  \n198498       3.0       UN             0.001714  \n198499       1.0       UN             0.000035  \n\n[198500 rows x 5 columns]",
      "text/html": "<div>\n<style scoped>\n    .dataframe tbody tr th:only-of-type {\n        vertical-align: middle;\n    }\n\n    .dataframe tbody tr th {\n        vertical-align: top;\n    }\n\n    .dataframe thead th {\n        text-align: right;\n    }\n</style>\n<table border=\"1\" class=\"dataframe\">\n  <thead>\n    <tr style=\"text-align: right;\">\n      <th></th>\n      <th>order_id</th>\n      <th>product_id</th>\n      <th>quantity</th>\n      <th>buy_unit</th>\n      <th>weighted_popularity</th>\n    </tr>\n  </thead>\n  <tbody>\n    <tr>\n      <th>0</th>\n      <td>47099653730fb1b76537fc10ad876255</td>\n      <td>c1244453d731c77416cb4766e3bd76cb</td>\n      <td>1.0</td>\n      <td>UN</td>\n      <td>0.001244</td>\n    </tr>\n    <tr>\n      <th>1</th>\n      <td>689d8866915acf87e851c2591a23a82f</td>\n      <td>43cc2b100bec640fe563cd16f2db669f</td>\n      <td>1.0</td>\n      <td>KG</td>\n      <td>0.000288</td>\n    </tr>\n    <tr>\n      <th>2</th>\n      <td>f26d16bf6f38c9e31d0be877f4013a9e</td>\n      <td>b8f880759d014134e272d881d49989a2</td>\n      <td>1.0</td>\n      <td>UN</td>\n      <td>0.000653</td>\n    </tr>\n    <tr>\n      <th>3</th>\n      <td>161ccc896835ab41761b0e726becb6b1</td>\n      <td>dbc062b9bef805d27a6f4bea7edfe1f1</td>\n      <td>1.0</td>\n      <td>UN</td>\n      <td>0.000331</td>\n    </tr>\n    <tr>\n      <th>4</th>\n      <td>4713deca10bb5db98fae150b52d61fc0</td>\n      <td>93a060f269bb569398921100f84c519a</td>\n      <td>2.0</td>\n      <td>UN</td>\n      <td>0.000012</td>\n    </tr>\n    <tr>\n      <th>...</th>\n      <td>...</td>\n      <td>...</td>\n      <td>...</td>\n      <td>...</td>\n      <td>...</td>\n    </tr>\n    <tr>\n      <th>198495</th>\n      <td>edd8fe4fd7d75de060cae811756603b0</td>\n      <td>e7f4a5ea6d480b7a1a7076fad543875e</td>\n      <td>3.0</td>\n      <td>UN</td>\n      <td>0.003585</td>\n    </tr>\n    <tr>\n      <th>198496</th>\n      <td>70c0ff9c8533539b1c04e96398fef697</td>\n      <td>f506d0401b99c6c00d8792d38ce93aa1</td>\n      <td>6.0</td>\n      <td>UN</td>\n      <td>0.013314</td>\n    </tr>\n    <tr>\n      <th>198497</th>\n      <td>dcf086aadb08ef7e695fadd723d881a7</td>\n      <td>c9970c5966ad6399d1c52aef34268699</td>\n      <td>1.0</td>\n      <td>UN</td>\n      <td>0.001726</td>\n    </tr>\n    <tr>\n      <th>198498</th>\n      <td>f5f76f8fb58cdafe94b41fd836dfcec7</td>\n      <td>2cdd75fa252b3918918c662922b11b6e</td>\n      <td>3.0</td>\n      <td>UN</td>\n      <td>0.001714</td>\n    </tr>\n    <tr>\n      <th>198499</th>\n      <td>e7ab48bb94f4790655531345aae6bd96</td>\n      <td>dd39130d6dfad68251ba147f7477e81b</td>\n      <td>1.0</td>\n      <td>UN</td>\n      <td>0.000035</td>\n    </tr>\n  </tbody>\n</table>\n<p>198500 rows × 5 columns</p>\n</div>"
     },
     "execution_count": 4,
     "metadata": {},
     "output_type": "execute_result"
    }
   ],
   "source": [
    "# let's test weighted popularity!\n",
    "add_popularity(order_products, 'weighted_popularity')\n",
    "order_products"
   ],
   "metadata": {
    "collapsed": false,
    "pycharm": {
     "name": "#%%\n"
    }
   }
  },
  {
   "cell_type": "code",
   "execution_count": 5,
   "outputs": [
    {
     "data": {
      "text/plain": "<AxesSubplot:ylabel='Frequency'>"
     },
     "execution_count": 5,
     "metadata": {},
     "output_type": "execute_result"
    },
    {
     "data": {
      "text/plain": "<Figure size 432x288 with 1 Axes>",
      "image/png": "[encoded data removed]"
     },
     "metadata": {
      "needs_background": "light"
     },
     "output_type": "display_data"
    }
   ],
   "source": [
    "# how does it behave?\n",
    "order_products['weighted_popularity'].plot.hist(bins=20)"
   ],
   "metadata": {
    "collapsed": false,
    "pycharm": {
     "name": "#%%\n"
    }
   }
  },
  {
   "cell_type": "markdown",
   "source": [
    "Maybe it's better to use log(popularity) because of how exponentially small are it's values..."
   ],
   "metadata": {
    "collapsed": false,
    "pycharm": {
     "name": "#%% md\n"
    }
   }
  },
  {
   "cell_type": "code",
   "execution_count": 6,
   "outputs": [
    {
     "data": {
      "text/plain": "<AxesSubplot:ylabel='Frequency'>"
     },
     "execution_count": 6,
     "metadata": {},
     "output_type": "execute_result"
    },
    {
     "data": {
      "text/plain": "<Figure size 432x288 with 1 Axes>",
      "image/png": "[encoded data removed]"
     },
     "metadata": {
      "needs_background": "light"
     },
     "output_type": "display_data"
    }
   ],
   "source": [
    "normalized_popularity = np.log(order_products['weighted_popularity'])\n",
    "normalized_popularity.plot.hist(bins=20)"
   ],
   "metadata": {
    "collapsed": false,
    "pycharm": {
     "name": "#%%\n"
    }
   }
  },
  {
   "cell_type": "markdown",
   "source": [
    "Now we can z-score it!"
   ],
   "metadata": {
    "collapsed": false,
    "pycharm": {
     "name": "#%% md\n"
    }
   }
  },
  {
   "cell_type": "code",
   "execution_count": 7,
   "outputs": [
    {
     "data": {
      "text/plain": "<AxesSubplot:ylabel='Frequency'>"
     },
     "execution_count": 7,
     "metadata": {},
     "output_type": "execute_result"
    },
    {
     "data": {
      "text/plain": "<Figure size 432x288 with 1 Axes>",
      "image/png": "[encoded data removed]"
     },
     "metadata": {
      "needs_background": "light"
     },
     "output_type": "display_data"
    }
   ],
   "source": [
    "zscore_popularity = (normalized_popularity - normalized_popularity.mean())/normalized_popularity.std()\n",
    "zscore_popularity.plot.hist(bins=20)"
   ],
   "metadata": {
    "collapsed": false,
    "pycharm": {
     "name": "#%%\n"
    }
   }
  },
  {
   "cell_type": "markdown",
   "source": [
    "When we model, we may try using any of these two scales, raw popularity or zscored(log(popularity)).\n",
    "How good each one performs depends on how well our model handles non-linearity.\n",
    "\n",
    "Another interesting point is if we compute the normalization of popularity before or after adding\n",
    "everything for the order_id, let's check it out."
   ],
   "metadata": {
    "collapsed": false,
    "pycharm": {
     "name": "#%% md\n"
    }
   }
  },
  {
   "cell_type": "code",
   "execution_count": 8,
   "outputs": [],
   "source": [
    "# create a function that transforms order_id into 4 values: {sum_uni, sum_wei, pop_uni, pop_wei}\n",
    "# returns compressed version as a dictionary with order_id as the key\n",
    "def compress_order_product(df):\n",
    "    orders = dict()  # will contain sum_uni, sum_wei, pop_uni, pop_wei\n",
    "    for order, quant, unit, pop in zip(df['order_id'], df['quantity'], df['buy_unit'], df['weighted_popularity']):\n",
    "        is_wei = unit == 'KG'  # this will help us to locate values inside an order\n",
    "        if not order in orders: # we need to create a new order in dict\n",
    "            orders[order] = [0, 0.0, 0.0, 0.0]\n",
    "        # add this product influence to dict\n",
    "        orders[order][0 + is_wei] += quant\n",
    "        orders[order][2 + is_wei] += pop\n",
    "    return orders"
   ],
   "metadata": {
    "collapsed": false,
    "pycharm": {
     "name": "#%%\n"
    }
   }
  },
  {
   "cell_type": "code",
   "execution_count": 10,
   "outputs": [
    {
     "data": {
      "text/plain": "                                  sum_uni  sum_wei   pop_uni   pop_wei\n47099653730fb1b76537fc10ad876255     44.0   12.700  0.044183  0.111676\n689d8866915acf87e851c2591a23a82f     34.0    2.300  0.042219  0.095997\nf26d16bf6f38c9e31d0be877f4013a9e     35.0    0.240  0.021813  0.014432\n161ccc896835ab41761b0e726becb6b1     20.0    3.235  0.019516  0.289888\n4713deca10bb5db98fae150b52d61fc0    116.0    0.300  0.128703  0.001429\n...                                   ...      ...       ...       ...\n0ebd72696ae12532c87d9f3abcfb186e      1.0    0.000  0.000012  0.000000\n6927e22f7f1a09ebbcd3e23877962aba      1.0    0.000  0.000029  0.000000\n0ff3474dc3a636d3eb9dcc56ee3c7c8b      1.0    0.000  0.000003  0.000000\n52a5da88b7693ea11a9ec6423c302726      1.0    0.000  0.000006  0.000000\n904c86ee2a6ba6f0076e299b81babee2      2.0    0.000  0.000012  0.000000\n\n[9978 rows x 4 columns]",
      "text/html": "<div>\n<style scoped>\n    .dataframe tbody tr th:only-of-type {\n        vertical-align: middle;\n    }\n\n    .dataframe tbody tr th {\n        vertical-align: top;\n    }\n\n    .dataframe thead th {\n        text-align: right;\n    }\n</style>\n<table border=\"1\" class=\"dataframe\">\n  <thead>\n    <tr style=\"text-align: right;\">\n      <th></th>\n      <th>sum_uni</th>\n      <th>sum_wei</th>\n      <th>pop_uni</th>\n      <th>pop_wei</th>\n    </tr>\n  </thead>\n  <tbody>\n    <tr>\n      <th>47099653730fb1b76537fc10ad876255</th>\n      <td>44.0</td>\n      <td>12.700</td>\n      <td>0.044183</td>\n      <td>0.111676</td>\n    </tr>\n    <tr>\n      <th>689d8866915acf87e851c2591a23a82f</th>\n      <td>34.0</td>\n      <td>2.300</td>\n      <td>0.042219</td>\n      <td>0.095997</td>\n    </tr>\n    <tr>\n      <th>f26d16bf6f38c9e31d0be877f4013a9e</th>\n      <td>35.0</td>\n      <td>0.240</td>\n      <td>0.021813</td>\n      <td>0.014432</td>\n    </tr>\n    <tr>\n      <th>161ccc896835ab41761b0e726becb6b1</th>\n      <td>20.0</td>\n      <td>3.235</td>\n      <td>0.019516</td>\n      <td>0.289888</td>\n    </tr>\n    <tr>\n      <th>4713deca10bb5db98fae150b52d61fc0</th>\n      <td>116.0</td>\n      <td>0.300</td>\n      <td>0.128703</td>\n      <td>0.001429</td>\n    </tr>\n    <tr>\n      <th>...</th>\n      <td>...</td>\n      <td>...</td>\n      <td>...</td>\n      <td>...</td>\n    </tr>\n    <tr>\n      <th>0ebd72696ae12532c87d9f3abcfb186e</th>\n      <td>1.0</td>\n      <td>0.000</td>\n      <td>0.000012</td>\n      <td>0.000000</td>\n    </tr>\n    <tr>\n      <th>6927e22f7f1a09ebbcd3e23877962aba</th>\n      <td>1.0</td>\n      <td>0.000</td>\n      <td>0.000029</td>\n      <td>0.000000</td>\n    </tr>\n    <tr>\n      <th>0ff3474dc3a636d3eb9dcc56ee3c7c8b</th>\n      <td>1.0</td>\n      <td>0.000</td>\n      <td>0.000003</td>\n      <td>0.000000</td>\n    </tr>\n    <tr>\n      <th>52a5da88b7693ea11a9ec6423c302726</th>\n      <td>1.0</td>\n      <td>0.000</td>\n      <td>0.000006</td>\n      <td>0.000000</td>\n    </tr>\n    <tr>\n      <th>904c86ee2a6ba6f0076e299b81babee2</th>\n      <td>2.0</td>\n      <td>0.000</td>\n      <td>0.000012</td>\n      <td>0.000000</td>\n    </tr>\n  </tbody>\n</table>\n<p>9978 rows × 4 columns</p>\n</div>"
     },
     "execution_count": 10,
     "metadata": {},
     "output_type": "execute_result"
    }
   ],
   "source": [
    "# let's test this function!\n",
    "orders_dict = compress_order_product(order_products)\n",
    "# maybe convert to dataframe to analyze\n",
    "compressed_orders = pd.DataFrame.from_dict(orders_dict, orient='index', columns=['sum_uni', 'sum_wei',\n",
    "                                                                                 'pop_uni', 'pop_wei'])\n",
    "compressed_orders"
   ],
   "metadata": {
    "collapsed": false,
    "pycharm": {
     "name": "#%%\n"
    }
   }
  },
  {
   "cell_type": "code",
   "execution_count": 11,
   "outputs": [
    {
     "data": {
      "text/plain": "<AxesSubplot:>"
     },
     "execution_count": 11,
     "metadata": {},
     "output_type": "execute_result"
    },
    {
     "data": {
      "text/plain": "<Figure size 432x288 with 1 Axes>",
      "image/png": "[encoded data removed]"
     },
     "metadata": {
      "needs_background": "light"
     },
     "output_type": "display_data"
    }
   ],
   "source": [
    "# let's check the distribution of summed popularity\n",
    "compressed_orders['pop_uni'].hist()"
   ],
   "metadata": {
    "collapsed": false,
    "pycharm": {
     "name": "#%%\n"
    }
   }
  },
  {
   "cell_type": "code",
   "execution_count": 12,
   "outputs": [
    {
     "data": {
      "text/plain": "<AxesSubplot:>"
     },
     "execution_count": 12,
     "metadata": {},
     "output_type": "execute_result"
    },
    {
     "data": {
      "text/plain": "<Figure size 432x288 with 1 Axes>",
      "image/png": "[encoded data removed]"
     },
     "metadata": {
      "needs_background": "light"
     },
     "output_type": "display_data"
    }
   ],
   "source": [
    "compressed_orders['pop_wei'].hist()"
   ],
   "metadata": {
    "collapsed": false,
    "pycharm": {
     "name": "#%%\n"
    }
   }
  },
  {
   "cell_type": "code",
   "execution_count": 13,
   "outputs": [
    {
     "data": {
      "text/plain": "<AxesSubplot:>"
     },
     "execution_count": 13,
     "metadata": {},
     "output_type": "execute_result"
    },
    {
     "data": {
      "text/plain": "<Figure size 432x288 with 1 Axes>",
      "image/png": "[encoded data removed]"
     },
     "metadata": {
      "needs_background": "light"
     },
     "output_type": "display_data"
    }
   ],
   "source": [
    "compressed_orders['sum_uni'].hist()"
   ],
   "metadata": {
    "collapsed": false,
    "pycharm": {
     "name": "#%%\n"
    }
   }
  },
  {
   "cell_type": "code",
   "execution_count": 14,
   "outputs": [
    {
     "data": {
      "text/plain": "<AxesSubplot:>"
     },
     "execution_count": 14,
     "metadata": {},
     "output_type": "execute_result"
    },
    {
     "data": {
      "text/plain": "<Figure size 432x288 with 1 Axes>",
      "image/png": "[encoded data removed]"
     },
     "metadata": {
      "needs_background": "light"
     },
     "output_type": "display_data"
    }
   ],
   "source": [
    "compressed_orders['sum_wei'].hist()"
   ],
   "metadata": {
    "collapsed": false,
    "pycharm": {
     "name": "#%%\n"
    }
   }
  },
  {
   "cell_type": "markdown",
   "source": [
    "## Conclusions\n",
    "By using a compression of the order, consisting of the sum of weighted and unitary products, along with\n",
    "a popularity scale of the products the bag contains, we can reflect two characteristics in the order:\n",
    "* How \"big\" is the order.\n",
    "* How \"weird\" is the order.\n",
    "\n",
    "In case our compressed vector representing the order is \"too compressed\" we can make more feature\n",
    "engineering in the order, for example creating sparse vectors representing each order in some way\n",
    "and then reducing dimension. For now, we'll keep going."
   ],
   "metadata": {
    "collapsed": false,
    "pycharm": {
     "name": "#%% md\n"
    }
   }
  },
  {
   "cell_type": "code",
   "execution_count": 18,
   "outputs": [
    {
     "data": {
      "text/plain": "                                 index  sum_uni  sum_wei   pop_uni   pop_wei  \\\n0     47099653730fb1b76537fc10ad876255     44.0   12.700  0.044183  0.111676   \n1     689d8866915acf87e851c2591a23a82f     34.0    2.300  0.042219  0.095997   \n2     f26d16bf6f38c9e31d0be877f4013a9e     35.0    0.240  0.021813  0.014432   \n3     161ccc896835ab41761b0e726becb6b1     20.0    3.235  0.019516  0.289888   \n4     4713deca10bb5db98fae150b52d61fc0    116.0    0.300  0.128703  0.001429   \n...                                ...      ...      ...       ...       ...   \n9973  0ebd72696ae12532c87d9f3abcfb186e      1.0    0.000  0.000012  0.000000   \n9974  6927e22f7f1a09ebbcd3e23877962aba      1.0    0.000  0.000029  0.000000   \n9975  0ff3474dc3a636d3eb9dcc56ee3c7c8b      1.0    0.000  0.000003  0.000000   \n9976  52a5da88b7693ea11a9ec6423c302726      1.0    0.000  0.000006  0.000000   \n9977  904c86ee2a6ba6f0076e299b81babee2      2.0    0.000  0.000012  0.000000   \n\n                              order_id  \n0     47099653730fb1b76537fc10ad876255  \n1     689d8866915acf87e851c2591a23a82f  \n2     f26d16bf6f38c9e31d0be877f4013a9e  \n3     161ccc896835ab41761b0e726becb6b1  \n4     4713deca10bb5db98fae150b52d61fc0  \n...                                ...  \n9973  0ebd72696ae12532c87d9f3abcfb186e  \n9974  6927e22f7f1a09ebbcd3e23877962aba  \n9975  0ff3474dc3a636d3eb9dcc56ee3c7c8b  \n9976  52a5da88b7693ea11a9ec6423c302726  \n9977  904c86ee2a6ba6f0076e299b81babee2  \n\n[9978 rows x 6 columns]",
      "text/html": "<div>\n<style scoped>\n    .dataframe tbody tr th:only-of-type {\n        vertical-align: middle;\n    }\n\n    .dataframe tbody tr th {\n        vertical-align: top;\n    }\n\n    .dataframe thead th {\n        text-align: right;\n    }\n</style>\n<table border=\"1\" class=\"dataframe\">\n  <thead>\n    <tr style=\"text-align: right;\">\n      <th></th>\n      <th>index</th>\n      <th>sum_uni</th>\n      <th>sum_wei</th>\n      <th>pop_uni</th>\n      <th>pop_wei</th>\n      <th>order_id</th>\n    </tr>\n  </thead>\n  <tbody>\n    <tr>\n      <th>0</th>\n      <td>47099653730fb1b76537fc10ad876255</td>\n      <td>44.0</td>\n      <td>12.700</td>\n      <td>0.044183</td>\n      <td>0.111676</td>\n      <td>47099653730fb1b76537fc10ad876255</td>\n    </tr>\n    <tr>\n      <th>1</th>\n      <td>689d8866915acf87e851c2591a23a82f</td>\n      <td>34.0</td>\n      <td>2.300</td>\n      <td>0.042219</td>\n      <td>0.095997</td>\n      <td>689d8866915acf87e851c2591a23a82f</td>\n    </tr>\n    <tr>\n      <th>2</th>\n      <td>f26d16bf6f38c9e31d0be877f4013a9e</td>\n      <td>35.0</td>\n      <td>0.240</td>\n      <td>0.021813</td>\n      <td>0.014432</td>\n      <td>f26d16bf6f38c9e31d0be877f4013a9e</td>\n    </tr>\n    <tr>\n      <th>3</th>\n      <td>161ccc896835ab41761b0e726becb6b1</td>\n      <td>20.0</td>\n      <td>3.235</td>\n      <td>0.019516</td>\n      <td>0.289888</td>\n      <td>161ccc896835ab41761b0e726becb6b1</td>\n    </tr>\n    <tr>\n      <th>4</th>\n      <td>4713deca10bb5db98fae150b52d61fc0</td>\n      <td>116.0</td>\n      <td>0.300</td>\n      <td>0.128703</td>\n      <td>0.001429</td>\n      <td>4713deca10bb5db98fae150b52d61fc0</td>\n    </tr>\n    <tr>\n      <th>...</th>\n      <td>...</td>\n      <td>...</td>\n      <td>...</td>\n      <td>...</td>\n      <td>...</td>\n      <td>...</td>\n    </tr>\n    <tr>\n      <th>9973</th>\n      <td>0ebd72696ae12532c87d9f3abcfb186e</td>\n      <td>1.0</td>\n      <td>0.000</td>\n      <td>0.000012</td>\n      <td>0.000000</td>\n      <td>0ebd72696ae12532c87d9f3abcfb186e</td>\n    </tr>\n    <tr>\n      <th>9974</th>\n      <td>6927e22f7f1a09ebbcd3e23877962aba</td>\n      <td>1.0</td>\n      <td>0.000</td>\n      <td>0.000029</td>\n      <td>0.000000</td>\n      <td>6927e22f7f1a09ebbcd3e23877962aba</td>\n    </tr>\n    <tr>\n      <th>9975</th>\n      <td>0ff3474dc3a636d3eb9dcc56ee3c7c8b</td>\n      <td>1.0</td>\n      <td>0.000</td>\n      <td>0.000003</td>\n      <td>0.000000</td>\n      <td>0ff3474dc3a636d3eb9dcc56ee3c7c8b</td>\n    </tr>\n    <tr>\n      <th>9976</th>\n      <td>52a5da88b7693ea11a9ec6423c302726</td>\n      <td>1.0</td>\n      <td>0.000</td>\n      <td>0.000006</td>\n      <td>0.000000</td>\n      <td>52a5da88b7693ea11a9ec6423c302726</td>\n    </tr>\n    <tr>\n      <th>9977</th>\n      <td>904c86ee2a6ba6f0076e299b81babee2</td>\n      <td>2.0</td>\n      <td>0.000</td>\n      <td>0.000012</td>\n      <td>0.000000</td>\n      <td>904c86ee2a6ba6f0076e299b81babee2</td>\n    </tr>\n  </tbody>\n</table>\n<p>9978 rows × 6 columns</p>\n</div>"
     },
     "execution_count": 18,
     "metadata": {},
     "output_type": "execute_result"
    }
   ],
   "source": [
    "# save the processed table\n",
    "# before that we'll retake the indexing and add it as a column\n",
    "compressed_orders['order_id'] = compressed_orders.index\n",
    "compressed_orders.reset_index(inplace=True)"
   ],
   "metadata": {
    "collapsed": false,
    "pycharm": {
     "name": "#%%\n"
    }
   }
  },
  {
   "cell_type": "code",
   "execution_count": 19,
   "outputs": [
    {
     "data": {
      "text/plain": "      sum_uni  sum_wei   pop_uni   pop_wei                          order_id\n0        44.0   12.700  0.044183  0.111676  47099653730fb1b76537fc10ad876255\n1        34.0    2.300  0.042219  0.095997  689d8866915acf87e851c2591a23a82f\n2        35.0    0.240  0.021813  0.014432  f26d16bf6f38c9e31d0be877f4013a9e\n3        20.0    3.235  0.019516  0.289888  161ccc896835ab41761b0e726becb6b1\n4       116.0    0.300  0.128703  0.001429  4713deca10bb5db98fae150b52d61fc0\n...       ...      ...       ...       ...                               ...\n9973      1.0    0.000  0.000012  0.000000  0ebd72696ae12532c87d9f3abcfb186e\n9974      1.0    0.000  0.000029  0.000000  6927e22f7f1a09ebbcd3e23877962aba\n9975      1.0    0.000  0.000003  0.000000  0ff3474dc3a636d3eb9dcc56ee3c7c8b\n9976      1.0    0.000  0.000006  0.000000  52a5da88b7693ea11a9ec6423c302726\n9977      2.0    0.000  0.000012  0.000000  904c86ee2a6ba6f0076e299b81babee2\n\n[9978 rows x 5 columns]",
      "text/html": "<div>\n<style scoped>\n    .dataframe tbody tr th:only-of-type {\n        vertical-align: middle;\n    }\n\n    .dataframe tbody tr th {\n        vertical-align: top;\n    }\n\n    .dataframe thead th {\n        text-align: right;\n    }\n</style>\n<table border=\"1\" class=\"dataframe\">\n  <thead>\n    <tr style=\"text-align: right;\">\n      <th></th>\n      <th>sum_uni</th>\n      <th>sum_wei</th>\n      <th>pop_uni</th>\n      <th>pop_wei</th>\n      <th>order_id</th>\n    </tr>\n  </thead>\n  <tbody>\n    <tr>\n      <th>0</th>\n      <td>44.0</td>\n      <td>12.700</td>\n      <td>0.044183</td>\n      <td>0.111676</td>\n      <td>47099653730fb1b76537fc10ad876255</td>\n    </tr>\n    <tr>\n      <th>1</th>\n      <td>34.0</td>\n      <td>2.300</td>\n      <td>0.042219</td>\n      <td>0.095997</td>\n      <td>689d8866915acf87e851c2591a23a82f</td>\n    </tr>\n    <tr>\n      <th>2</th>\n      <td>35.0</td>\n      <td>0.240</td>\n      <td>0.021813</td>\n      <td>0.014432</td>\n      <td>f26d16bf6f38c9e31d0be877f4013a9e</td>\n    </tr>\n    <tr>\n      <th>3</th>\n      <td>20.0</td>\n      <td>3.235</td>\n      <td>0.019516</td>\n      <td>0.289888</td>\n      <td>161ccc896835ab41761b0e726becb6b1</td>\n    </tr>\n    <tr>\n      <th>4</th>\n      <td>116.0</td>\n      <td>0.300</td>\n      <td>0.128703</td>\n      <td>0.001429</td>\n      <td>4713deca10bb5db98fae150b52d61fc0</td>\n    </tr>\n    <tr>\n      <th>...</th>\n      <td>...</td>\n      <td>...</td>\n      <td>...</td>\n      <td>...</td>\n      <td>...</td>\n    </tr>\n    <tr>\n      <th>9973</th>\n      <td>1.0</td>\n      <td>0.000</td>\n      <td>0.000012</td>\n      <td>0.000000</td>\n      <td>0ebd72696ae12532c87d9f3abcfb186e</td>\n    </tr>\n    <tr>\n      <th>9974</th>\n      <td>1.0</td>\n      <td>0.000</td>\n      <td>0.000029</td>\n      <td>0.000000</td>\n      <td>6927e22f7f1a09ebbcd3e23877962aba</td>\n    </tr>\n    <tr>\n      <th>9975</th>\n      <td>1.0</td>\n      <td>0.000</td>\n      <td>0.000003</td>\n      <td>0.000000</td>\n      <td>0ff3474dc3a636d3eb9dcc56ee3c7c8b</td>\n    </tr>\n    <tr>\n      <th>9976</th>\n      <td>1.0</td>\n      <td>0.000</td>\n      <td>0.000006</td>\n      <td>0.000000</td>\n      <td>52a5da88b7693ea11a9ec6423c302726</td>\n    </tr>\n    <tr>\n      <th>9977</th>\n      <td>2.0</td>\n      <td>0.000</td>\n      <td>0.000012</td>\n      <td>0.000000</td>\n      <td>904c86ee2a6ba6f0076e299b81babee2</td>\n    </tr>\n  </tbody>\n</table>\n<p>9978 rows × 5 columns</p>\n</div>"
     },
     "execution_count": 19,
     "metadata": {},
     "output_type": "execute_result"
    }
   ],
   "source": [
    "compressed_orders.drop('index', axis=1, inplace=True)\n",
    "compressed_orders"
   ],
   "metadata": {
    "collapsed": false,
    "pycharm": {
     "name": "#%%\n"
    }
   }
  },
  {
   "cell_type": "code",
   "execution_count": 20,
   "outputs": [],
   "source": [
    "# now we save it\n",
    "compressed_orders.to_csv('./data/order_products_processed.csv')"
   ],
   "metadata": {
    "collapsed": false,
    "pycharm": {
     "name": "#%%\n"
    }
   }
  }
 ],
 "metadata": {
  "kernelspec": {
   "display_name": "Python 3",
   "language": "python",
   "name": "python3"
  },
  "language_info": {
   "codemirror_mode": {
    "name": "ipython",
    "version": 2
   },
   "file_extension": ".py",
   "mimetype": "text/x-python",
   "name": "python",
   "nbconvert_exporter": "python",
   "pygments_lexer": "ipython2",
   "version": "2.7.6"
  }
 },
 "nbformat": 4,
 "nbformat_minor": 0
}