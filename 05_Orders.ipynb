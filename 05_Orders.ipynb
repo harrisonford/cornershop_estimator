{
 "cells": [
  {
   "cell_type": "markdown",
   "metadata": {
    "collapsed": true,
    "pycharm": {
     "name": "#%% md\n"
    }
   },
   "source": [
    "# Processing and joining Datasets into ``orders.csv``\n",
    "\n",
    "This is our final stage with the creation of our dataset. We'll check what it has to be done\n",
    "with orders.csv prior to joining data from other tables. Let's check our initial table!"
   ]
  },
  {
   "cell_type": "code",
   "execution_count": 1,
   "outputs": [],
   "source": [
    "import pandas as pd\n",
    "import datetime\n",
    "from pandas_profiling import ProfileReport"
   ],
   "metadata": {
    "collapsed": false,
    "pycharm": {
     "name": "#%%\n"
    }
   }
  },
  {
   "cell_type": "code",
   "execution_count": 2,
   "outputs": [
    {
     "data": {
      "text/plain": "                              order_id        lat        lng  \\\n0     e750294655c2c7c34d83cc3181c09de4 -33.501675 -70.579369   \n1     6581174846221cb6c467348e87f57641 -33.440584 -70.556283   \n2     3a226ea48debc0a7ae9950d5540f2f34 -32.987022 -71.544842   \n3     7d2ed03fe4966083e74b12694b1669d8 -33.328075 -70.512659   \n4     b4b2682d77118155fe4716300ccf7f39 -33.403239 -70.564020   \n...                                ...        ...        ...   \n9995  c63cfa783ff6ea9a5577ff0b513e4297 -33.417677 -70.508377   \n9996  0b91a6dc570736f490ade9b129bbd46f -33.432885 -70.646795   \n9997  229d80f473668d9b25d60ea4d05687dd -33.424562 -70.582943   \n9998  96e2a7a69e52eaa5ce563b1164f72c8d -33.413806 -70.598500   \n9999  ac9520e37e420842ce36b65a71b48954 -33.387383 -70.502880   \n\n                  promised_time  on_demand                        shopper_id  \\\n0     2019-10-18 20:48:00+00:00       True  e63bc83a1a952fa2b3cc9d558fb943cf   \n1     2019-10-19 01:00:00+00:00      False  195f9e9d84a4ba9033c4b6a756334d8b   \n2     2019-10-19 14:54:00+00:00       True  a5b9ddc0d82e61582fca19ad43dbaacb   \n3     2019-10-18 21:47:00+00:00       True  d0b3f6bf7e249e5ebb8d3129341773a2   \n4     2019-10-19 20:00:00+00:00      False  5c5199ce02f7b77caa9c2590a39ad27d   \n...                         ...        ...                               ...   \n9995  2019-10-19 01:00:00+00:00      False  9cf7b3c6a05745b24eb07e0945ff1718   \n9996  2019-10-19 19:00:00+00:00      False  6fd0c09e971aff77c73afb87863da1c6   \n9997  2019-10-19 01:00:00+00:00      False  3ed51e3e0e8c9ca2fec3f84766cabe96   \n9998  2019-10-19 18:00:00+00:00      False  cea50f5aa525cfe6d2f445fec7c8ef31   \n9999  2019-10-19 01:00:00+00:00       True  61e4ad15c3ff928840ebd34407055b33   \n\n                       store_branch_id  total_minutes  \n0     65ded5353c5ee48d0b7d48c591b8f430      67.684264  \n1     45fbc6d3e05ebd93369ce542e8f2322d      57.060632  \n2     07563a3fe3bbe7e3ba84431ad9d055af            NaN  \n3     f1748d6b0fd9d439f71450117eba2725      52.067742  \n4     1f0e3dad99908345f7439f8ffabdffc4     140.724822  \n...                                ...            ...  \n9995  c4ca4238a0b923820dcc509a6f75849b     116.631287  \n9996  3871bd64012152bfb53fdf04b401193f      94.094497  \n9997  1f0e3dad99908345f7439f8ffabdffc4      53.784000  \n9998  1f0e3dad99908345f7439f8ffabdffc4      52.806311  \n9999  1679091c5a880faf6fb5e6087eb1b2dc      55.111234  \n\n[10000 rows x 8 columns]",
      "text/html": "<div>\n<style scoped>\n    .dataframe tbody tr th:only-of-type {\n        vertical-align: middle;\n    }\n\n    .dataframe tbody tr th {\n        vertical-align: top;\n    }\n\n    .dataframe thead th {\n        text-align: right;\n    }\n</style>\n<table border=\"1\" class=\"dataframe\">\n  <thead>\n    <tr style=\"text-align: right;\">\n      <th></th>\n      <th>order_id</th>\n      <th>lat</th>\n      <th>lng</th>\n      <th>promised_time</th>\n      <th>on_demand</th>\n      <th>shopper_id</th>\n      <th>store_branch_id</th>\n      <th>total_minutes</th>\n    </tr>\n  </thead>\n  <tbody>\n    <tr>\n      <th>0</th>\n      <td>e750294655c2c7c34d83cc3181c09de4</td>\n      <td>-33.501675</td>\n      <td>-70.579369</td>\n      <td>2019-10-18 20:48:00+00:00</td>\n      <td>True</td>\n      <td>e63bc83a1a952fa2b3cc9d558fb943cf</td>\n      <td>65ded5353c5ee48d0b7d48c591b8f430</td>\n      <td>67.684264</td>\n    </tr>\n    <tr>\n      <th>1</th>\n      <td>6581174846221cb6c467348e87f57641</td>\n      <td>-33.440584</td>\n      <td>-70.556283</td>\n      <td>2019-10-19 01:00:00+00:00</td>\n      <td>False</td>\n      <td>195f9e9d84a4ba9033c4b6a756334d8b</td>\n      <td>45fbc6d3e05ebd93369ce542e8f2322d</td>\n      <td>57.060632</td>\n    </tr>\n    <tr>\n      <th>2</th>\n      <td>3a226ea48debc0a7ae9950d5540f2f34</td>\n      <td>-32.987022</td>\n      <td>-71.544842</td>\n      <td>2019-10-19 14:54:00+00:00</td>\n      <td>True</td>\n      <td>a5b9ddc0d82e61582fca19ad43dbaacb</td>\n      <td>07563a3fe3bbe7e3ba84431ad9d055af</td>\n      <td>NaN</td>\n    </tr>\n    <tr>\n      <th>3</th>\n      <td>7d2ed03fe4966083e74b12694b1669d8</td>\n      <td>-33.328075</td>\n      <td>-70.512659</td>\n      <td>2019-10-18 21:47:00+00:00</td>\n      <td>True</td>\n      <td>d0b3f6bf7e249e5ebb8d3129341773a2</td>\n      <td>f1748d6b0fd9d439f71450117eba2725</td>\n      <td>52.067742</td>\n    </tr>\n    <tr>\n      <th>4</th>\n      <td>b4b2682d77118155fe4716300ccf7f39</td>\n      <td>-33.403239</td>\n      <td>-70.564020</td>\n      <td>2019-10-19 20:00:00+00:00</td>\n      <td>False</td>\n      <td>5c5199ce02f7b77caa9c2590a39ad27d</td>\n      <td>1f0e3dad99908345f7439f8ffabdffc4</td>\n      <td>140.724822</td>\n    </tr>\n    <tr>\n      <th>...</th>\n      <td>...</td>\n      <td>...</td>\n      <td>...</td>\n      <td>...</td>\n      <td>...</td>\n      <td>...</td>\n      <td>...</td>\n      <td>...</td>\n    </tr>\n    <tr>\n      <th>9995</th>\n      <td>c63cfa783ff6ea9a5577ff0b513e4297</td>\n      <td>-33.417677</td>\n      <td>-70.508377</td>\n      <td>2019-10-19 01:00:00+00:00</td>\n      <td>False</td>\n      <td>9cf7b3c6a05745b24eb07e0945ff1718</td>\n      <td>c4ca4238a0b923820dcc509a6f75849b</td>\n      <td>116.631287</td>\n    </tr>\n    <tr>\n      <th>9996</th>\n      <td>0b91a6dc570736f490ade9b129bbd46f</td>\n      <td>-33.432885</td>\n      <td>-70.646795</td>\n      <td>2019-10-19 19:00:00+00:00</td>\n      <td>False</td>\n      <td>6fd0c09e971aff77c73afb87863da1c6</td>\n      <td>3871bd64012152bfb53fdf04b401193f</td>\n      <td>94.094497</td>\n    </tr>\n    <tr>\n      <th>9997</th>\n      <td>229d80f473668d9b25d60ea4d05687dd</td>\n      <td>-33.424562</td>\n      <td>-70.582943</td>\n      <td>2019-10-19 01:00:00+00:00</td>\n      <td>False</td>\n      <td>3ed51e3e0e8c9ca2fec3f84766cabe96</td>\n      <td>1f0e3dad99908345f7439f8ffabdffc4</td>\n      <td>53.784000</td>\n    </tr>\n    <tr>\n      <th>9998</th>\n      <td>96e2a7a69e52eaa5ce563b1164f72c8d</td>\n      <td>-33.413806</td>\n      <td>-70.598500</td>\n      <td>2019-10-19 18:00:00+00:00</td>\n      <td>False</td>\n      <td>cea50f5aa525cfe6d2f445fec7c8ef31</td>\n      <td>1f0e3dad99908345f7439f8ffabdffc4</td>\n      <td>52.806311</td>\n    </tr>\n    <tr>\n      <th>9999</th>\n      <td>ac9520e37e420842ce36b65a71b48954</td>\n      <td>-33.387383</td>\n      <td>-70.502880</td>\n      <td>2019-10-19 01:00:00+00:00</td>\n      <td>True</td>\n      <td>61e4ad15c3ff928840ebd34407055b33</td>\n      <td>1679091c5a880faf6fb5e6087eb1b2dc</td>\n      <td>55.111234</td>\n    </tr>\n  </tbody>\n</table>\n<p>10000 rows × 8 columns</p>\n</div>"
     },
     "execution_count": 2,
     "metadata": {},
     "output_type": "execute_result"
    }
   ],
   "source": [
    "orders = pd.read_csv('./data/orders.csv')\n",
    "orders"
   ],
   "metadata": {
    "collapsed": false,
    "pycharm": {
     "name": "#%%\n"
    }
   }
  },
  {
   "cell_type": "markdown",
   "source": [
    "Before we join the tables, let's add the unix representation of promised_time,\n",
    "we created a way of doing this on our 01 notebook.\n",
    "\n",
    "EDIT: Unix representation is not as good, we can be more specific by\n",
    "transforming date in two values: 'day' and 'hour'. We'll use only these two\n",
    "values because from our unix time findings we have only a weekend's range\n",
    "of data from Friday to Sunday in October 2019, otherwise we would\n",
    "enrich the time features."
   ],
   "metadata": {
    "collapsed": false,
    "pycharm": {
     "name": "#%% md\n"
    }
   }
  },
  {
   "cell_type": "code",
   "execution_count": 3,
   "outputs": [],
   "source": [
    "# create a function to map time to unix\n",
    "def add_time_features(df):\n",
    "    days = []\n",
    "    hours = []\n",
    "    for value in df['promised_time']:\n",
    "        t_formatted = datetime.datetime.strptime(value, \"%Y-%m-%d %H:%M:%S%z\").timetuple()\n",
    "        days.append(t_formatted[2])\n",
    "        hours.append(t_formatted[3])\n",
    "    df['day'] = days\n",
    "    df['hour'] = hours"
   ],
   "metadata": {
    "collapsed": false,
    "pycharm": {
     "name": "#%%\n"
    }
   }
  },
  {
   "cell_type": "code",
   "execution_count": 4,
   "outputs": [
    {
     "data": {
      "text/plain": "                              order_id        lat        lng  on_demand  \\\n0     e750294655c2c7c34d83cc3181c09de4 -33.501675 -70.579369       True   \n1     6581174846221cb6c467348e87f57641 -33.440584 -70.556283      False   \n2     3a226ea48debc0a7ae9950d5540f2f34 -32.987022 -71.544842       True   \n3     7d2ed03fe4966083e74b12694b1669d8 -33.328075 -70.512659       True   \n4     b4b2682d77118155fe4716300ccf7f39 -33.403239 -70.564020      False   \n...                                ...        ...        ...        ...   \n9995  c63cfa783ff6ea9a5577ff0b513e4297 -33.417677 -70.508377      False   \n9996  0b91a6dc570736f490ade9b129bbd46f -33.432885 -70.646795      False   \n9997  229d80f473668d9b25d60ea4d05687dd -33.424562 -70.582943      False   \n9998  96e2a7a69e52eaa5ce563b1164f72c8d -33.413806 -70.598500      False   \n9999  ac9520e37e420842ce36b65a71b48954 -33.387383 -70.502880       True   \n\n                            shopper_id                   store_branch_id  \\\n0     e63bc83a1a952fa2b3cc9d558fb943cf  65ded5353c5ee48d0b7d48c591b8f430   \n1     195f9e9d84a4ba9033c4b6a756334d8b  45fbc6d3e05ebd93369ce542e8f2322d   \n2     a5b9ddc0d82e61582fca19ad43dbaacb  07563a3fe3bbe7e3ba84431ad9d055af   \n3     d0b3f6bf7e249e5ebb8d3129341773a2  f1748d6b0fd9d439f71450117eba2725   \n4     5c5199ce02f7b77caa9c2590a39ad27d  1f0e3dad99908345f7439f8ffabdffc4   \n...                                ...                               ...   \n9995  9cf7b3c6a05745b24eb07e0945ff1718  c4ca4238a0b923820dcc509a6f75849b   \n9996  6fd0c09e971aff77c73afb87863da1c6  3871bd64012152bfb53fdf04b401193f   \n9997  3ed51e3e0e8c9ca2fec3f84766cabe96  1f0e3dad99908345f7439f8ffabdffc4   \n9998  cea50f5aa525cfe6d2f445fec7c8ef31  1f0e3dad99908345f7439f8ffabdffc4   \n9999  61e4ad15c3ff928840ebd34407055b33  1679091c5a880faf6fb5e6087eb1b2dc   \n\n      total_minutes  day  hour  \n0         67.684264   18    20  \n1         57.060632   19     1  \n2               NaN   19    14  \n3         52.067742   18    21  \n4        140.724822   19    20  \n...             ...  ...   ...  \n9995     116.631287   19     1  \n9996      94.094497   19    19  \n9997      53.784000   19     1  \n9998      52.806311   19    18  \n9999      55.111234   19     1  \n\n[10000 rows x 9 columns]",
      "text/html": "<div>\n<style scoped>\n    .dataframe tbody tr th:only-of-type {\n        vertical-align: middle;\n    }\n\n    .dataframe tbody tr th {\n        vertical-align: top;\n    }\n\n    .dataframe thead th {\n        text-align: right;\n    }\n</style>\n<table border=\"1\" class=\"dataframe\">\n  <thead>\n    <tr style=\"text-align: right;\">\n      <th></th>\n      <th>order_id</th>\n      <th>lat</th>\n      <th>lng</th>\n      <th>on_demand</th>\n      <th>shopper_id</th>\n      <th>store_branch_id</th>\n      <th>total_minutes</th>\n      <th>day</th>\n      <th>hour</th>\n    </tr>\n  </thead>\n  <tbody>\n    <tr>\n      <th>0</th>\n      <td>e750294655c2c7c34d83cc3181c09de4</td>\n      <td>-33.501675</td>\n      <td>-70.579369</td>\n      <td>True</td>\n      <td>e63bc83a1a952fa2b3cc9d558fb943cf</td>\n      <td>65ded5353c5ee48d0b7d48c591b8f430</td>\n      <td>67.684264</td>\n      <td>18</td>\n      <td>20</td>\n    </tr>\n    <tr>\n      <th>1</th>\n      <td>6581174846221cb6c467348e87f57641</td>\n      <td>-33.440584</td>\n      <td>-70.556283</td>\n      <td>False</td>\n      <td>195f9e9d84a4ba9033c4b6a756334d8b</td>\n      <td>45fbc6d3e05ebd93369ce542e8f2322d</td>\n      <td>57.060632</td>\n      <td>19</td>\n      <td>1</td>\n    </tr>\n    <tr>\n      <th>2</th>\n      <td>3a226ea48debc0a7ae9950d5540f2f34</td>\n      <td>-32.987022</td>\n      <td>-71.544842</td>\n      <td>True</td>\n      <td>a5b9ddc0d82e61582fca19ad43dbaacb</td>\n      <td>07563a3fe3bbe7e3ba84431ad9d055af</td>\n      <td>NaN</td>\n      <td>19</td>\n      <td>14</td>\n    </tr>\n    <tr>\n      <th>3</th>\n      <td>7d2ed03fe4966083e74b12694b1669d8</td>\n      <td>-33.328075</td>\n      <td>-70.512659</td>\n      <td>True</td>\n      <td>d0b3f6bf7e249e5ebb8d3129341773a2</td>\n      <td>f1748d6b0fd9d439f71450117eba2725</td>\n      <td>52.067742</td>\n      <td>18</td>\n      <td>21</td>\n    </tr>\n    <tr>\n      <th>4</th>\n      <td>b4b2682d77118155fe4716300ccf7f39</td>\n      <td>-33.403239</td>\n      <td>-70.564020</td>\n      <td>False</td>\n      <td>5c5199ce02f7b77caa9c2590a39ad27d</td>\n      <td>1f0e3dad99908345f7439f8ffabdffc4</td>\n      <td>140.724822</td>\n      <td>19</td>\n      <td>20</td>\n    </tr>\n    <tr>\n      <th>...</th>\n      <td>...</td>\n      <td>...</td>\n      <td>...</td>\n      <td>...</td>\n      <td>...</td>\n      <td>...</td>\n      <td>...</td>\n      <td>...</td>\n      <td>...</td>\n    </tr>\n    <tr>\n      <th>9995</th>\n      <td>c63cfa783ff6ea9a5577ff0b513e4297</td>\n      <td>-33.417677</td>\n      <td>-70.508377</td>\n      <td>False</td>\n      <td>9cf7b3c6a05745b24eb07e0945ff1718</td>\n      <td>c4ca4238a0b923820dcc509a6f75849b</td>\n      <td>116.631287</td>\n      <td>19</td>\n      <td>1</td>\n    </tr>\n    <tr>\n      <th>9996</th>\n      <td>0b91a6dc570736f490ade9b129bbd46f</td>\n      <td>-33.432885</td>\n      <td>-70.646795</td>\n      <td>False</td>\n      <td>6fd0c09e971aff77c73afb87863da1c6</td>\n      <td>3871bd64012152bfb53fdf04b401193f</td>\n      <td>94.094497</td>\n      <td>19</td>\n      <td>19</td>\n    </tr>\n    <tr>\n      <th>9997</th>\n      <td>229d80f473668d9b25d60ea4d05687dd</td>\n      <td>-33.424562</td>\n      <td>-70.582943</td>\n      <td>False</td>\n      <td>3ed51e3e0e8c9ca2fec3f84766cabe96</td>\n      <td>1f0e3dad99908345f7439f8ffabdffc4</td>\n      <td>53.784000</td>\n      <td>19</td>\n      <td>1</td>\n    </tr>\n    <tr>\n      <th>9998</th>\n      <td>96e2a7a69e52eaa5ce563b1164f72c8d</td>\n      <td>-33.413806</td>\n      <td>-70.598500</td>\n      <td>False</td>\n      <td>cea50f5aa525cfe6d2f445fec7c8ef31</td>\n      <td>1f0e3dad99908345f7439f8ffabdffc4</td>\n      <td>52.806311</td>\n      <td>19</td>\n      <td>18</td>\n    </tr>\n    <tr>\n      <th>9999</th>\n      <td>ac9520e37e420842ce36b65a71b48954</td>\n      <td>-33.387383</td>\n      <td>-70.502880</td>\n      <td>True</td>\n      <td>61e4ad15c3ff928840ebd34407055b33</td>\n      <td>1679091c5a880faf6fb5e6087eb1b2dc</td>\n      <td>55.111234</td>\n      <td>19</td>\n      <td>1</td>\n    </tr>\n  </tbody>\n</table>\n<p>10000 rows × 9 columns</p>\n</div>"
     },
     "execution_count": 4,
     "metadata": {},
     "output_type": "execute_result"
    }
   ],
   "source": [
    "# add time features\n",
    "add_time_features(orders)\n",
    "# also delete time string\n",
    "orders.drop('promised_time', axis=1, inplace=True)\n",
    "orders"
   ],
   "metadata": {
    "collapsed": false,
    "pycharm": {
     "name": "#%%\n"
    }
   }
  },
  {
   "cell_type": "markdown",
   "source": [
    "## Joining processed tables\n",
    "\n",
    "### Adding ``order_products_processed.csv`` by ``order_id``\n",
    "\n",
    "Let's load and join the table."
   ],
   "metadata": {
    "collapsed": false,
    "pycharm": {
     "name": "#%% md\n"
    }
   }
  },
  {
   "cell_type": "code",
   "execution_count": 5,
   "outputs": [
    {
     "data": {
      "text/plain": "      sum_uni  sum_wei   pop_uni   pop_wei                          order_id\n0        44.0   12.700  3.121386  5.239230  47099653730fb1b76537fc10ad876255\n1        34.0    2.300 -3.448815  4.034073  689d8866915acf87e851c2591a23a82f\n2        35.0    0.240 -4.221307  1.475045  f26d16bf6f38c9e31d0be877f4013a9e\n3        20.0    3.235  2.130173  5.720114  161ccc896835ab41761b0e726becb6b1\n4       116.0    0.300 -8.079476  0.455584  4713deca10bb5db98fae150b52d61fc0\n...       ...      ...       ...       ...                               ...\n9973      1.0    0.000 -1.666715  0.000000  0ebd72696ae12532c87d9f3abcfb186e\n9974      1.0    0.000 -1.262733  0.000000  6927e22f7f1a09ebbcd3e23877962aba\n9975      1.0    0.000 -2.277916  0.000000  0ff3474dc3a636d3eb9dcc56ee3c7c8b\n9976      1.0    0.000 -1.972315  0.000000  52a5da88b7693ea11a9ec6423c302726\n9977      2.0    0.000 -1.666715  0.000000  904c86ee2a6ba6f0076e299b81babee2\n\n[9978 rows x 5 columns]",
      "text/html": "<div>\n<style scoped>\n    .dataframe tbody tr th:only-of-type {\n        vertical-align: middle;\n    }\n\n    .dataframe tbody tr th {\n        vertical-align: top;\n    }\n\n    .dataframe thead th {\n        text-align: right;\n    }\n</style>\n<table border=\"1\" class=\"dataframe\">\n  <thead>\n    <tr style=\"text-align: right;\">\n      <th></th>\n      <th>sum_uni</th>\n      <th>sum_wei</th>\n      <th>pop_uni</th>\n      <th>pop_wei</th>\n      <th>order_id</th>\n    </tr>\n  </thead>\n  <tbody>\n    <tr>\n      <th>0</th>\n      <td>44.0</td>\n      <td>12.700</td>\n      <td>3.121386</td>\n      <td>5.239230</td>\n      <td>47099653730fb1b76537fc10ad876255</td>\n    </tr>\n    <tr>\n      <th>1</th>\n      <td>34.0</td>\n      <td>2.300</td>\n      <td>-3.448815</td>\n      <td>4.034073</td>\n      <td>689d8866915acf87e851c2591a23a82f</td>\n    </tr>\n    <tr>\n      <th>2</th>\n      <td>35.0</td>\n      <td>0.240</td>\n      <td>-4.221307</td>\n      <td>1.475045</td>\n      <td>f26d16bf6f38c9e31d0be877f4013a9e</td>\n    </tr>\n    <tr>\n      <th>3</th>\n      <td>20.0</td>\n      <td>3.235</td>\n      <td>2.130173</td>\n      <td>5.720114</td>\n      <td>161ccc896835ab41761b0e726becb6b1</td>\n    </tr>\n    <tr>\n      <th>4</th>\n      <td>116.0</td>\n      <td>0.300</td>\n      <td>-8.079476</td>\n      <td>0.455584</td>\n      <td>4713deca10bb5db98fae150b52d61fc0</td>\n    </tr>\n    <tr>\n      <th>...</th>\n      <td>...</td>\n      <td>...</td>\n      <td>...</td>\n      <td>...</td>\n      <td>...</td>\n    </tr>\n    <tr>\n      <th>9973</th>\n      <td>1.0</td>\n      <td>0.000</td>\n      <td>-1.666715</td>\n      <td>0.000000</td>\n      <td>0ebd72696ae12532c87d9f3abcfb186e</td>\n    </tr>\n    <tr>\n      <th>9974</th>\n      <td>1.0</td>\n      <td>0.000</td>\n      <td>-1.262733</td>\n      <td>0.000000</td>\n      <td>6927e22f7f1a09ebbcd3e23877962aba</td>\n    </tr>\n    <tr>\n      <th>9975</th>\n      <td>1.0</td>\n      <td>0.000</td>\n      <td>-2.277916</td>\n      <td>0.000000</td>\n      <td>0ff3474dc3a636d3eb9dcc56ee3c7c8b</td>\n    </tr>\n    <tr>\n      <th>9976</th>\n      <td>1.0</td>\n      <td>0.000</td>\n      <td>-1.972315</td>\n      <td>0.000000</td>\n      <td>52a5da88b7693ea11a9ec6423c302726</td>\n    </tr>\n    <tr>\n      <th>9977</th>\n      <td>2.0</td>\n      <td>0.000</td>\n      <td>-1.666715</td>\n      <td>0.000000</td>\n      <td>904c86ee2a6ba6f0076e299b81babee2</td>\n    </tr>\n  </tbody>\n</table>\n<p>9978 rows × 5 columns</p>\n</div>"
     },
     "execution_count": 5,
     "metadata": {},
     "output_type": "execute_result"
    }
   ],
   "source": [
    "order_products = pd.read_csv('./data/order_products_processed.csv')\n",
    "# TODO: eliminate this stupid residue index with Unnamed: 0, maybe loading lazy csv\n",
    "order_products.drop('Unnamed: 0', axis=1, inplace=True)  # seems like we left residue\n",
    "order_products\n"
   ],
   "metadata": {
    "collapsed": false,
    "pycharm": {
     "name": "#%%\n"
    }
   }
  },
  {
   "cell_type": "code",
   "execution_count": 6,
   "outputs": [
    {
     "data": {
      "text/plain": "                              order_id        lat        lng  on_demand  \\\n0     e750294655c2c7c34d83cc3181c09de4 -33.501675 -70.579369       True   \n1     6581174846221cb6c467348e87f57641 -33.440584 -70.556283      False   \n2     3a226ea48debc0a7ae9950d5540f2f34 -32.987022 -71.544842       True   \n3     7d2ed03fe4966083e74b12694b1669d8 -33.328075 -70.512659       True   \n4     b4b2682d77118155fe4716300ccf7f39 -33.403239 -70.564020      False   \n...                                ...        ...        ...        ...   \n9995  c63cfa783ff6ea9a5577ff0b513e4297 -33.417677 -70.508377      False   \n9996  0b91a6dc570736f490ade9b129bbd46f -33.432885 -70.646795      False   \n9997  229d80f473668d9b25d60ea4d05687dd -33.424562 -70.582943      False   \n9998  96e2a7a69e52eaa5ce563b1164f72c8d -33.413806 -70.598500      False   \n9999  ac9520e37e420842ce36b65a71b48954 -33.387383 -70.502880       True   \n\n                            shopper_id                   store_branch_id  \\\n0     e63bc83a1a952fa2b3cc9d558fb943cf  65ded5353c5ee48d0b7d48c591b8f430   \n1     195f9e9d84a4ba9033c4b6a756334d8b  45fbc6d3e05ebd93369ce542e8f2322d   \n2     a5b9ddc0d82e61582fca19ad43dbaacb  07563a3fe3bbe7e3ba84431ad9d055af   \n3     d0b3f6bf7e249e5ebb8d3129341773a2  f1748d6b0fd9d439f71450117eba2725   \n4     5c5199ce02f7b77caa9c2590a39ad27d  1f0e3dad99908345f7439f8ffabdffc4   \n...                                ...                               ...   \n9995  9cf7b3c6a05745b24eb07e0945ff1718  c4ca4238a0b923820dcc509a6f75849b   \n9996  6fd0c09e971aff77c73afb87863da1c6  3871bd64012152bfb53fdf04b401193f   \n9997  3ed51e3e0e8c9ca2fec3f84766cabe96  1f0e3dad99908345f7439f8ffabdffc4   \n9998  cea50f5aa525cfe6d2f445fec7c8ef31  1f0e3dad99908345f7439f8ffabdffc4   \n9999  61e4ad15c3ff928840ebd34407055b33  1679091c5a880faf6fb5e6087eb1b2dc   \n\n      total_minutes  day  hour  sum_uni  sum_wei    pop_uni    pop_wei  \n0         67.684264   18    20     16.0    2.756 -11.722202   5.802893  \n1         57.060632   19     1     11.0    0.000  -2.337251   0.000000  \n2               NaN   19    14     18.0    0.000  -5.956135   0.000000  \n3         52.067742   18    21      1.0    0.000  -1.262733   0.000000  \n4        140.724822   19    20     91.0    6.721   2.115241  10.121384  \n...             ...  ...   ...      ...      ...        ...        ...  \n9995     116.631287   19     1    116.0   16.634   3.946069  17.214263  \n9996      94.094497   19    19     24.0    0.600  -2.864198  -1.715620  \n9997      53.784000   19     1     16.0    3.502   4.382179   6.994387  \n9998      52.806311   19    18      1.0    0.000  -1.793551   0.000000  \n9999      55.111234   19     1     18.0    0.536   5.767336   0.323137  \n\n[10000 rows x 13 columns]",
      "text/html": "<div>\n<style scoped>\n    .dataframe tbody tr th:only-of-type {\n        vertical-align: middle;\n    }\n\n    .dataframe tbody tr th {\n        vertical-align: top;\n    }\n\n    .dataframe thead th {\n        text-align: right;\n    }\n</style>\n<table border=\"1\" class=\"dataframe\">\n  <thead>\n    <tr style=\"text-align: right;\">\n      <th></th>\n      <th>order_id</th>\n      <th>lat</th>\n      <th>lng</th>\n      <th>on_demand</th>\n      <th>shopper_id</th>\n      <th>store_branch_id</th>\n      <th>total_minutes</th>\n      <th>day</th>\n      <th>hour</th>\n      <th>sum_uni</th>\n      <th>sum_wei</th>\n      <th>pop_uni</th>\n      <th>pop_wei</th>\n    </tr>\n  </thead>\n  <tbody>\n    <tr>\n      <th>0</th>\n      <td>e750294655c2c7c34d83cc3181c09de4</td>\n      <td>-33.501675</td>\n      <td>-70.579369</td>\n      <td>True</td>\n      <td>e63bc83a1a952fa2b3cc9d558fb943cf</td>\n      <td>65ded5353c5ee48d0b7d48c591b8f430</td>\n      <td>67.684264</td>\n      <td>18</td>\n      <td>20</td>\n      <td>16.0</td>\n      <td>2.756</td>\n      <td>-11.722202</td>\n      <td>5.802893</td>\n    </tr>\n    <tr>\n      <th>1</th>\n      <td>6581174846221cb6c467348e87f57641</td>\n      <td>-33.440584</td>\n      <td>-70.556283</td>\n      <td>False</td>\n      <td>195f9e9d84a4ba9033c4b6a756334d8b</td>\n      <td>45fbc6d3e05ebd93369ce542e8f2322d</td>\n      <td>57.060632</td>\n      <td>19</td>\n      <td>1</td>\n      <td>11.0</td>\n      <td>0.000</td>\n      <td>-2.337251</td>\n      <td>0.000000</td>\n    </tr>\n    <tr>\n      <th>2</th>\n      <td>3a226ea48debc0a7ae9950d5540f2f34</td>\n      <td>-32.987022</td>\n      <td>-71.544842</td>\n      <td>True</td>\n      <td>a5b9ddc0d82e61582fca19ad43dbaacb</td>\n      <td>07563a3fe3bbe7e3ba84431ad9d055af</td>\n      <td>NaN</td>\n      <td>19</td>\n      <td>14</td>\n      <td>18.0</td>\n      <td>0.000</td>\n      <td>-5.956135</td>\n      <td>0.000000</td>\n    </tr>\n    <tr>\n      <th>3</th>\n      <td>7d2ed03fe4966083e74b12694b1669d8</td>\n      <td>-33.328075</td>\n      <td>-70.512659</td>\n      <td>True</td>\n      <td>d0b3f6bf7e249e5ebb8d3129341773a2</td>\n      <td>f1748d6b0fd9d439f71450117eba2725</td>\n      <td>52.067742</td>\n      <td>18</td>\n      <td>21</td>\n      <td>1.0</td>\n      <td>0.000</td>\n      <td>-1.262733</td>\n      <td>0.000000</td>\n    </tr>\n    <tr>\n      <th>4</th>\n      <td>b4b2682d77118155fe4716300ccf7f39</td>\n      <td>-33.403239</td>\n      <td>-70.564020</td>\n      <td>False</td>\n      <td>5c5199ce02f7b77caa9c2590a39ad27d</td>\n      <td>1f0e3dad99908345f7439f8ffabdffc4</td>\n      <td>140.724822</td>\n      <td>19</td>\n      <td>20</td>\n      <td>91.0</td>\n      <td>6.721</td>\n      <td>2.115241</td>\n      <td>10.121384</td>\n    </tr>\n    <tr>\n      <th>...</th>\n      <td>...</td>\n      <td>...</td>\n      <td>...</td>\n      <td>...</td>\n      <td>...</td>\n      <td>...</td>\n      <td>...</td>\n      <td>...</td>\n      <td>...</td>\n      <td>...</td>\n      <td>...</td>\n      <td>...</td>\n      <td>...</td>\n    </tr>\n    <tr>\n      <th>9995</th>\n      <td>c63cfa783ff6ea9a5577ff0b513e4297</td>\n      <td>-33.417677</td>\n      <td>-70.508377</td>\n      <td>False</td>\n      <td>9cf7b3c6a05745b24eb07e0945ff1718</td>\n      <td>c4ca4238a0b923820dcc509a6f75849b</td>\n      <td>116.631287</td>\n      <td>19</td>\n      <td>1</td>\n      <td>116.0</td>\n      <td>16.634</td>\n      <td>3.946069</td>\n      <td>17.214263</td>\n    </tr>\n    <tr>\n      <th>9996</th>\n      <td>0b91a6dc570736f490ade9b129bbd46f</td>\n      <td>-33.432885</td>\n      <td>-70.646795</td>\n      <td>False</td>\n      <td>6fd0c09e971aff77c73afb87863da1c6</td>\n      <td>3871bd64012152bfb53fdf04b401193f</td>\n      <td>94.094497</td>\n      <td>19</td>\n      <td>19</td>\n      <td>24.0</td>\n      <td>0.600</td>\n      <td>-2.864198</td>\n      <td>-1.715620</td>\n    </tr>\n    <tr>\n      <th>9997</th>\n      <td>229d80f473668d9b25d60ea4d05687dd</td>\n      <td>-33.424562</td>\n      <td>-70.582943</td>\n      <td>False</td>\n      <td>3ed51e3e0e8c9ca2fec3f84766cabe96</td>\n      <td>1f0e3dad99908345f7439f8ffabdffc4</td>\n      <td>53.784000</td>\n      <td>19</td>\n      <td>1</td>\n      <td>16.0</td>\n      <td>3.502</td>\n      <td>4.382179</td>\n      <td>6.994387</td>\n    </tr>\n    <tr>\n      <th>9998</th>\n      <td>96e2a7a69e52eaa5ce563b1164f72c8d</td>\n      <td>-33.413806</td>\n      <td>-70.598500</td>\n      <td>False</td>\n      <td>cea50f5aa525cfe6d2f445fec7c8ef31</td>\n      <td>1f0e3dad99908345f7439f8ffabdffc4</td>\n      <td>52.806311</td>\n      <td>19</td>\n      <td>18</td>\n      <td>1.0</td>\n      <td>0.000</td>\n      <td>-1.793551</td>\n      <td>0.000000</td>\n    </tr>\n    <tr>\n      <th>9999</th>\n      <td>ac9520e37e420842ce36b65a71b48954</td>\n      <td>-33.387383</td>\n      <td>-70.502880</td>\n      <td>True</td>\n      <td>61e4ad15c3ff928840ebd34407055b33</td>\n      <td>1679091c5a880faf6fb5e6087eb1b2dc</td>\n      <td>55.111234</td>\n      <td>19</td>\n      <td>1</td>\n      <td>18.0</td>\n      <td>0.536</td>\n      <td>5.767336</td>\n      <td>0.323137</td>\n    </tr>\n  </tbody>\n</table>\n<p>10000 rows × 13 columns</p>\n</div>"
     },
     "execution_count": 6,
     "metadata": {},
     "output_type": "execute_result"
    }
   ],
   "source": [
    "# join tables\n",
    "merged = orders.join(order_products.set_index('order_id'), on='order_id')\n",
    "merged"
   ],
   "metadata": {
    "collapsed": false,
    "pycharm": {
     "name": "#%%\n"
    }
   }
  },
  {
   "cell_type": "markdown",
   "source": [
    "### Adding ``shoppers_processed.csv`` by ``shopper_id``\n",
    "\n",
    "Same method as the first table:"
   ],
   "metadata": {
    "collapsed": false,
    "pycharm": {
     "name": "#%% md\n"
    }
   }
  },
  {
   "cell_type": "code",
   "execution_count": 7,
   "outputs": [
    {
     "data": {
      "text/plain": "                            shopper_id  seniority  found_rate  picking_speed  \\\n0     1fc20b0bdf697ac13dd6a15cbd2fe60a          2    0.860600           1.94   \n1     e1c679ac73a69c01981fdd3c5ab8beda          0    0.844600           1.23   \n2     09d369c66ca86ebeffacb133410c5ee1          0    0.855900           1.56   \n3     db39866e62b95bb04ebb1e470f2d1347          1    0.861082           2.41   \n4     8efbc238660053b19f00ca431144fdae          0    0.877000           1.31   \n...                                ...        ...         ...            ...   \n2859  da24da1311f7913f6d2d29d8238b439c          0    0.895100           1.53   \n2860  cf95eda5ffc1d4b9586de2ca08ab40f8          1    0.869500           3.00   \n2861  e8482e3ad8bc820ec756566a472b84b1          0    0.915200           1.47   \n2862  a55a3765a02530a97eb9af7aee327486          0    0.869500           1.20   \n2863  ed3b2414f4b604298fb86adaaae2ee46          1    0.841600           1.48   \n\n      accepted_rate    rating  \n0          1.000000  4.870000  \n1          0.920000  4.920000  \n2          1.000000  4.880000  \n3          0.908276  4.848428  \n4          0.920000  4.880000  \n...             ...       ...  \n2859       0.880000  4.800000  \n2860       0.560000  5.000000  \n2861       0.880000  4.960000  \n2862       0.960000  4.800000  \n2863       0.600000  4.950000  \n\n[2864 rows x 6 columns]",
      "text/html": "<div>\n<style scoped>\n    .dataframe tbody tr th:only-of-type {\n        vertical-align: middle;\n    }\n\n    .dataframe tbody tr th {\n        vertical-align: top;\n    }\n\n    .dataframe thead th {\n        text-align: right;\n    }\n</style>\n<table border=\"1\" class=\"dataframe\">\n  <thead>\n    <tr style=\"text-align: right;\">\n      <th></th>\n      <th>shopper_id</th>\n      <th>seniority</th>\n      <th>found_rate</th>\n      <th>picking_speed</th>\n      <th>accepted_rate</th>\n      <th>rating</th>\n    </tr>\n  </thead>\n  <tbody>\n    <tr>\n      <th>0</th>\n      <td>1fc20b0bdf697ac13dd6a15cbd2fe60a</td>\n      <td>2</td>\n      <td>0.860600</td>\n      <td>1.94</td>\n      <td>1.000000</td>\n      <td>4.870000</td>\n    </tr>\n    <tr>\n      <th>1</th>\n      <td>e1c679ac73a69c01981fdd3c5ab8beda</td>\n      <td>0</td>\n      <td>0.844600</td>\n      <td>1.23</td>\n      <td>0.920000</td>\n      <td>4.920000</td>\n    </tr>\n    <tr>\n      <th>2</th>\n      <td>09d369c66ca86ebeffacb133410c5ee1</td>\n      <td>0</td>\n      <td>0.855900</td>\n      <td>1.56</td>\n      <td>1.000000</td>\n      <td>4.880000</td>\n    </tr>\n    <tr>\n      <th>3</th>\n      <td>db39866e62b95bb04ebb1e470f2d1347</td>\n      <td>1</td>\n      <td>0.861082</td>\n      <td>2.41</td>\n      <td>0.908276</td>\n      <td>4.848428</td>\n    </tr>\n    <tr>\n      <th>4</th>\n      <td>8efbc238660053b19f00ca431144fdae</td>\n      <td>0</td>\n      <td>0.877000</td>\n      <td>1.31</td>\n      <td>0.920000</td>\n      <td>4.880000</td>\n    </tr>\n    <tr>\n      <th>...</th>\n      <td>...</td>\n      <td>...</td>\n      <td>...</td>\n      <td>...</td>\n      <td>...</td>\n      <td>...</td>\n    </tr>\n    <tr>\n      <th>2859</th>\n      <td>da24da1311f7913f6d2d29d8238b439c</td>\n      <td>0</td>\n      <td>0.895100</td>\n      <td>1.53</td>\n      <td>0.880000</td>\n      <td>4.800000</td>\n    </tr>\n    <tr>\n      <th>2860</th>\n      <td>cf95eda5ffc1d4b9586de2ca08ab40f8</td>\n      <td>1</td>\n      <td>0.869500</td>\n      <td>3.00</td>\n      <td>0.560000</td>\n      <td>5.000000</td>\n    </tr>\n    <tr>\n      <th>2861</th>\n      <td>e8482e3ad8bc820ec756566a472b84b1</td>\n      <td>0</td>\n      <td>0.915200</td>\n      <td>1.47</td>\n      <td>0.880000</td>\n      <td>4.960000</td>\n    </tr>\n    <tr>\n      <th>2862</th>\n      <td>a55a3765a02530a97eb9af7aee327486</td>\n      <td>0</td>\n      <td>0.869500</td>\n      <td>1.20</td>\n      <td>0.960000</td>\n      <td>4.800000</td>\n    </tr>\n    <tr>\n      <th>2863</th>\n      <td>ed3b2414f4b604298fb86adaaae2ee46</td>\n      <td>1</td>\n      <td>0.841600</td>\n      <td>1.48</td>\n      <td>0.600000</td>\n      <td>4.950000</td>\n    </tr>\n  </tbody>\n</table>\n<p>2864 rows × 6 columns</p>\n</div>"
     },
     "execution_count": 7,
     "metadata": {},
     "output_type": "execute_result"
    }
   ],
   "source": [
    "# load table\n",
    "shoppers = pd.read_csv('./data/shoppers_processed.csv')\n",
    "shoppers.drop('Unnamed: 0', axis=1, inplace=True)  # left residue again\n",
    "shoppers"
   ],
   "metadata": {
    "collapsed": false,
    "pycharm": {
     "name": "#%%\n"
    }
   }
  },
  {
   "cell_type": "code",
   "execution_count": 8,
   "outputs": [
    {
     "data": {
      "text/plain": "                              order_id        lat        lng  on_demand  \\\n0     e750294655c2c7c34d83cc3181c09de4 -33.501675 -70.579369       True   \n1     6581174846221cb6c467348e87f57641 -33.440584 -70.556283      False   \n2     3a226ea48debc0a7ae9950d5540f2f34 -32.987022 -71.544842       True   \n3     7d2ed03fe4966083e74b12694b1669d8 -33.328075 -70.512659       True   \n4     b4b2682d77118155fe4716300ccf7f39 -33.403239 -70.564020      False   \n...                                ...        ...        ...        ...   \n9995  c63cfa783ff6ea9a5577ff0b513e4297 -33.417677 -70.508377      False   \n9996  0b91a6dc570736f490ade9b129bbd46f -33.432885 -70.646795      False   \n9997  229d80f473668d9b25d60ea4d05687dd -33.424562 -70.582943      False   \n9998  96e2a7a69e52eaa5ce563b1164f72c8d -33.413806 -70.598500      False   \n9999  ac9520e37e420842ce36b65a71b48954 -33.387383 -70.502880       True   \n\n                            shopper_id                   store_branch_id  \\\n0     e63bc83a1a952fa2b3cc9d558fb943cf  65ded5353c5ee48d0b7d48c591b8f430   \n1     195f9e9d84a4ba9033c4b6a756334d8b  45fbc6d3e05ebd93369ce542e8f2322d   \n2     a5b9ddc0d82e61582fca19ad43dbaacb  07563a3fe3bbe7e3ba84431ad9d055af   \n3     d0b3f6bf7e249e5ebb8d3129341773a2  f1748d6b0fd9d439f71450117eba2725   \n4     5c5199ce02f7b77caa9c2590a39ad27d  1f0e3dad99908345f7439f8ffabdffc4   \n...                                ...                               ...   \n9995  9cf7b3c6a05745b24eb07e0945ff1718  c4ca4238a0b923820dcc509a6f75849b   \n9996  6fd0c09e971aff77c73afb87863da1c6  3871bd64012152bfb53fdf04b401193f   \n9997  3ed51e3e0e8c9ca2fec3f84766cabe96  1f0e3dad99908345f7439f8ffabdffc4   \n9998  cea50f5aa525cfe6d2f445fec7c8ef31  1f0e3dad99908345f7439f8ffabdffc4   \n9999  61e4ad15c3ff928840ebd34407055b33  1679091c5a880faf6fb5e6087eb1b2dc   \n\n      total_minutes  day  hour  sum_uni  sum_wei    pop_uni    pop_wei  \\\n0         67.684264   18    20     16.0    2.756 -11.722202   5.802893   \n1         57.060632   19     1     11.0    0.000  -2.337251   0.000000   \n2               NaN   19    14     18.0    0.000  -5.956135   0.000000   \n3         52.067742   18    21      1.0    0.000  -1.262733   0.000000   \n4        140.724822   19    20     91.0    6.721   2.115241  10.121384   \n...             ...  ...   ...      ...      ...        ...        ...   \n9995     116.631287   19     1    116.0   16.634   3.946069  17.214263   \n9996      94.094497   19    19     24.0    0.600  -2.864198  -1.715620   \n9997      53.784000   19     1     16.0    3.502   4.382179   6.994387   \n9998      52.806311   19    18      1.0    0.000  -1.793551   0.000000   \n9999      55.111234   19     1     18.0    0.536   5.767336   0.323137   \n\n      seniority  found_rate  picking_speed  accepted_rate  rating  \n0             0      0.9024           1.30       0.920000    4.76  \n1             2      0.7610           2.54       0.920000    4.96  \n2             1      0.8313           2.57       0.760000    4.92  \n3             2      0.8776           2.80       0.960000    4.76  \n4             1      0.7838           2.40       0.960000    4.96  \n...         ...         ...            ...            ...     ...  \n9995          0      0.8658           1.30       0.960000    4.92  \n9996          0      0.8970           1.41       1.000000    4.68  \n9997          0      0.8424           1.40       1.000000    4.76  \n9998          0      0.8529           1.98       0.933333    4.86  \n9999          0      0.8946           1.82       1.000000    4.84  \n\n[10000 rows x 18 columns]",
      "text/html": "<div>\n<style scoped>\n    .dataframe tbody tr th:only-of-type {\n        vertical-align: middle;\n    }\n\n    .dataframe tbody tr th {\n        vertical-align: top;\n    }\n\n    .dataframe thead th {\n        text-align: right;\n    }\n</style>\n<table border=\"1\" class=\"dataframe\">\n  <thead>\n    <tr style=\"text-align: right;\">\n      <th></th>\n      <th>order_id</th>\n      <th>lat</th>\n      <th>lng</th>\n      <th>on_demand</th>\n      <th>shopper_id</th>\n      <th>store_branch_id</th>\n      <th>total_minutes</th>\n      <th>day</th>\n      <th>hour</th>\n      <th>sum_uni</th>\n      <th>sum_wei</th>\n      <th>pop_uni</th>\n      <th>pop_wei</th>\n      <th>seniority</th>\n      <th>found_rate</th>\n      <th>picking_speed</th>\n      <th>accepted_rate</th>\n      <th>rating</th>\n    </tr>\n  </thead>\n  <tbody>\n    <tr>\n      <th>0</th>\n      <td>e750294655c2c7c34d83cc3181c09de4</td>\n      <td>-33.501675</td>\n      <td>-70.579369</td>\n      <td>True</td>\n      <td>e63bc83a1a952fa2b3cc9d558fb943cf</td>\n      <td>65ded5353c5ee48d0b7d48c591b8f430</td>\n      <td>67.684264</td>\n      <td>18</td>\n      <td>20</td>\n      <td>16.0</td>\n      <td>2.756</td>\n      <td>-11.722202</td>\n      <td>5.802893</td>\n      <td>0</td>\n      <td>0.9024</td>\n      <td>1.30</td>\n      <td>0.920000</td>\n      <td>4.76</td>\n    </tr>\n    <tr>\n      <th>1</th>\n      <td>6581174846221cb6c467348e87f57641</td>\n      <td>-33.440584</td>\n      <td>-70.556283</td>\n      <td>False</td>\n      <td>195f9e9d84a4ba9033c4b6a756334d8b</td>\n      <td>45fbc6d3e05ebd93369ce542e8f2322d</td>\n      <td>57.060632</td>\n      <td>19</td>\n      <td>1</td>\n      <td>11.0</td>\n      <td>0.000</td>\n      <td>-2.337251</td>\n      <td>0.000000</td>\n      <td>2</td>\n      <td>0.7610</td>\n      <td>2.54</td>\n      <td>0.920000</td>\n      <td>4.96</td>\n    </tr>\n    <tr>\n      <th>2</th>\n      <td>3a226ea48debc0a7ae9950d5540f2f34</td>\n      <td>-32.987022</td>\n      <td>-71.544842</td>\n      <td>True</td>\n      <td>a5b9ddc0d82e61582fca19ad43dbaacb</td>\n      <td>07563a3fe3bbe7e3ba84431ad9d055af</td>\n      <td>NaN</td>\n      <td>19</td>\n      <td>14</td>\n      <td>18.0</td>\n      <td>0.000</td>\n      <td>-5.956135</td>\n      <td>0.000000</td>\n      <td>1</td>\n      <td>0.8313</td>\n      <td>2.57</td>\n      <td>0.760000</td>\n      <td>4.92</td>\n    </tr>\n    <tr>\n      <th>3</th>\n      <td>7d2ed03fe4966083e74b12694b1669d8</td>\n      <td>-33.328075</td>\n      <td>-70.512659</td>\n      <td>True</td>\n      <td>d0b3f6bf7e249e5ebb8d3129341773a2</td>\n      <td>f1748d6b0fd9d439f71450117eba2725</td>\n      <td>52.067742</td>\n      <td>18</td>\n      <td>21</td>\n      <td>1.0</td>\n      <td>0.000</td>\n      <td>-1.262733</td>\n      <td>0.000000</td>\n      <td>2</td>\n      <td>0.8776</td>\n      <td>2.80</td>\n      <td>0.960000</td>\n      <td>4.76</td>\n    </tr>\n    <tr>\n      <th>4</th>\n      <td>b4b2682d77118155fe4716300ccf7f39</td>\n      <td>-33.403239</td>\n      <td>-70.564020</td>\n      <td>False</td>\n      <td>5c5199ce02f7b77caa9c2590a39ad27d</td>\n      <td>1f0e3dad99908345f7439f8ffabdffc4</td>\n      <td>140.724822</td>\n      <td>19</td>\n      <td>20</td>\n      <td>91.0</td>\n      <td>6.721</td>\n      <td>2.115241</td>\n      <td>10.121384</td>\n      <td>1</td>\n      <td>0.7838</td>\n      <td>2.40</td>\n      <td>0.960000</td>\n      <td>4.96</td>\n    </tr>\n    <tr>\n      <th>...</th>\n      <td>...</td>\n      <td>...</td>\n      <td>...</td>\n      <td>...</td>\n      <td>...</td>\n      <td>...</td>\n      <td>...</td>\n      <td>...</td>\n      <td>...</td>\n      <td>...</td>\n      <td>...</td>\n      <td>...</td>\n      <td>...</td>\n      <td>...</td>\n      <td>...</td>\n      <td>...</td>\n      <td>...</td>\n      <td>...</td>\n    </tr>\n    <tr>\n      <th>9995</th>\n      <td>c63cfa783ff6ea9a5577ff0b513e4297</td>\n      <td>-33.417677</td>\n      <td>-70.508377</td>\n      <td>False</td>\n      <td>9cf7b3c6a05745b24eb07e0945ff1718</td>\n      <td>c4ca4238a0b923820dcc509a6f75849b</td>\n      <td>116.631287</td>\n      <td>19</td>\n      <td>1</td>\n      <td>116.0</td>\n      <td>16.634</td>\n      <td>3.946069</td>\n      <td>17.214263</td>\n      <td>0</td>\n      <td>0.8658</td>\n      <td>1.30</td>\n      <td>0.960000</td>\n      <td>4.92</td>\n    </tr>\n    <tr>\n      <th>9996</th>\n      <td>0b91a6dc570736f490ade9b129bbd46f</td>\n      <td>-33.432885</td>\n      <td>-70.646795</td>\n      <td>False</td>\n      <td>6fd0c09e971aff77c73afb87863da1c6</td>\n      <td>3871bd64012152bfb53fdf04b401193f</td>\n      <td>94.094497</td>\n      <td>19</td>\n      <td>19</td>\n      <td>24.0</td>\n      <td>0.600</td>\n      <td>-2.864198</td>\n      <td>-1.715620</td>\n      <td>0</td>\n      <td>0.8970</td>\n      <td>1.41</td>\n      <td>1.000000</td>\n      <td>4.68</td>\n    </tr>\n    <tr>\n      <th>9997</th>\n      <td>229d80f473668d9b25d60ea4d05687dd</td>\n      <td>-33.424562</td>\n      <td>-70.582943</td>\n      <td>False</td>\n      <td>3ed51e3e0e8c9ca2fec3f84766cabe96</td>\n      <td>1f0e3dad99908345f7439f8ffabdffc4</td>\n      <td>53.784000</td>\n      <td>19</td>\n      <td>1</td>\n      <td>16.0</td>\n      <td>3.502</td>\n      <td>4.382179</td>\n      <td>6.994387</td>\n      <td>0</td>\n      <td>0.8424</td>\n      <td>1.40</td>\n      <td>1.000000</td>\n      <td>4.76</td>\n    </tr>\n    <tr>\n      <th>9998</th>\n      <td>96e2a7a69e52eaa5ce563b1164f72c8d</td>\n      <td>-33.413806</td>\n      <td>-70.598500</td>\n      <td>False</td>\n      <td>cea50f5aa525cfe6d2f445fec7c8ef31</td>\n      <td>1f0e3dad99908345f7439f8ffabdffc4</td>\n      <td>52.806311</td>\n      <td>19</td>\n      <td>18</td>\n      <td>1.0</td>\n      <td>0.000</td>\n      <td>-1.793551</td>\n      <td>0.000000</td>\n      <td>0</td>\n      <td>0.8529</td>\n      <td>1.98</td>\n      <td>0.933333</td>\n      <td>4.86</td>\n    </tr>\n    <tr>\n      <th>9999</th>\n      <td>ac9520e37e420842ce36b65a71b48954</td>\n      <td>-33.387383</td>\n      <td>-70.502880</td>\n      <td>True</td>\n      <td>61e4ad15c3ff928840ebd34407055b33</td>\n      <td>1679091c5a880faf6fb5e6087eb1b2dc</td>\n      <td>55.111234</td>\n      <td>19</td>\n      <td>1</td>\n      <td>18.0</td>\n      <td>0.536</td>\n      <td>5.767336</td>\n      <td>0.323137</td>\n      <td>0</td>\n      <td>0.8946</td>\n      <td>1.82</td>\n      <td>1.000000</td>\n      <td>4.84</td>\n    </tr>\n  </tbody>\n</table>\n<p>10000 rows × 18 columns</p>\n</div>"
     },
     "execution_count": 8,
     "metadata": {},
     "output_type": "execute_result"
    }
   ],
   "source": [
    "# join by shopper id\n",
    "merged = merged.join(shoppers.set_index('shopper_id'), on='shopper_id')\n",
    "merged"
   ],
   "metadata": {
    "collapsed": false,
    "pycharm": {
     "name": "#%%\n"
    }
   }
  },
  {
   "cell_type": "markdown",
   "source": [
    "### Adding ``storebranch_processed.csv`` by ``store_branch_id``\n",
    "\n",
    "Yep, same process:"
   ],
   "metadata": {
    "collapsed": false,
    "pycharm": {
     "name": "#%% md\n"
    }
   }
  },
  {
   "cell_type": "code",
   "execution_count": 9,
   "outputs": [
    {
     "data": {
      "text/plain": "                      store_branch_id  lat_store  lng_store  branch_size  city\n0    aff1621254f7c1be92f64550478c56e6 -33.422497 -70.609231            1     0\n1    56352739f59643540a3a6e16985f62c7 -33.385484 -70.555579            3     0\n2    7d04bbbe5494ae9d2f5a76aa1c00fa2f -33.416579 -70.565224           23     0\n3    2b24d495052a8ce66358eb576b8912c8 -33.512578 -70.655952           33     0\n4    5487315b1286f907165907aa8fc96619 -33.347645 -70.542229            2     0\n..                                ...        ...        ...          ...   ...\n471  045117b0e0a11a242b9765e79cbf113f -33.036111 -71.524149           17     3\n472  2cfa3753d6a524711acb5fce38eeca1a -33.406081 -70.598128            1     0\n473  7486cef2522ee03547cfb970a404a874 -33.397498 -70.584666            1     0\n474  c06d06da9666a219db15cf575aff2824 -33.390604 -70.547206            7     0\n475  eb163727917cbba1eea208541a643e74 -33.428421 -70.540562           17     0\n\n[476 rows x 5 columns]",
      "text/html": "<div>\n<style scoped>\n    .dataframe tbody tr th:only-of-type {\n        vertical-align: middle;\n    }\n\n    .dataframe tbody tr th {\n        vertical-align: top;\n    }\n\n    .dataframe thead th {\n        text-align: right;\n    }\n</style>\n<table border=\"1\" class=\"dataframe\">\n  <thead>\n    <tr style=\"text-align: right;\">\n      <th></th>\n      <th>store_branch_id</th>\n      <th>lat_store</th>\n      <th>lng_store</th>\n      <th>branch_size</th>\n      <th>city</th>\n    </tr>\n  </thead>\n  <tbody>\n    <tr>\n      <th>0</th>\n      <td>aff1621254f7c1be92f64550478c56e6</td>\n      <td>-33.422497</td>\n      <td>-70.609231</td>\n      <td>1</td>\n      <td>0</td>\n    </tr>\n    <tr>\n      <th>1</th>\n      <td>56352739f59643540a3a6e16985f62c7</td>\n      <td>-33.385484</td>\n      <td>-70.555579</td>\n      <td>3</td>\n      <td>0</td>\n    </tr>\n    <tr>\n      <th>2</th>\n      <td>7d04bbbe5494ae9d2f5a76aa1c00fa2f</td>\n      <td>-33.416579</td>\n      <td>-70.565224</td>\n      <td>23</td>\n      <td>0</td>\n    </tr>\n    <tr>\n      <th>3</th>\n      <td>2b24d495052a8ce66358eb576b8912c8</td>\n      <td>-33.512578</td>\n      <td>-70.655952</td>\n      <td>33</td>\n      <td>0</td>\n    </tr>\n    <tr>\n      <th>4</th>\n      <td>5487315b1286f907165907aa8fc96619</td>\n      <td>-33.347645</td>\n      <td>-70.542229</td>\n      <td>2</td>\n      <td>0</td>\n    </tr>\n    <tr>\n      <th>...</th>\n      <td>...</td>\n      <td>...</td>\n      <td>...</td>\n      <td>...</td>\n      <td>...</td>\n    </tr>\n    <tr>\n      <th>471</th>\n      <td>045117b0e0a11a242b9765e79cbf113f</td>\n      <td>-33.036111</td>\n      <td>-71.524149</td>\n      <td>17</td>\n      <td>3</td>\n    </tr>\n    <tr>\n      <th>472</th>\n      <td>2cfa3753d6a524711acb5fce38eeca1a</td>\n      <td>-33.406081</td>\n      <td>-70.598128</td>\n      <td>1</td>\n      <td>0</td>\n    </tr>\n    <tr>\n      <th>473</th>\n      <td>7486cef2522ee03547cfb970a404a874</td>\n      <td>-33.397498</td>\n      <td>-70.584666</td>\n      <td>1</td>\n      <td>0</td>\n    </tr>\n    <tr>\n      <th>474</th>\n      <td>c06d06da9666a219db15cf575aff2824</td>\n      <td>-33.390604</td>\n      <td>-70.547206</td>\n      <td>7</td>\n      <td>0</td>\n    </tr>\n    <tr>\n      <th>475</th>\n      <td>eb163727917cbba1eea208541a643e74</td>\n      <td>-33.428421</td>\n      <td>-70.540562</td>\n      <td>17</td>\n      <td>0</td>\n    </tr>\n  </tbody>\n</table>\n<p>476 rows × 5 columns</p>\n</div>"
     },
     "execution_count": 9,
     "metadata": {},
     "output_type": "execute_result"
    }
   ],
   "source": [
    "# load the table\n",
    "stores = pd.read_csv('./data/storebranch_processed.csv')\n",
    "stores.drop('Unnamed: 0', axis=1, inplace=True)  # will fix next iteration I promise :)\n",
    "# before we join, let's rename the lat, lng to lat_store, lng_store\n",
    "stores.rename(columns={'lat': 'lat_store', 'lng': 'lng_store'}, inplace=True)\n",
    "stores"
   ],
   "metadata": {
    "collapsed": false,
    "pycharm": {
     "name": "#%%\n"
    }
   }
  },
  {
   "cell_type": "code",
   "execution_count": 10,
   "outputs": [
    {
     "data": {
      "text/plain": "                              order_id        lat        lng  on_demand  \\\n0     e750294655c2c7c34d83cc3181c09de4 -33.501675 -70.579369       True   \n1     6581174846221cb6c467348e87f57641 -33.440584 -70.556283      False   \n2     3a226ea48debc0a7ae9950d5540f2f34 -32.987022 -71.544842       True   \n3     7d2ed03fe4966083e74b12694b1669d8 -33.328075 -70.512659       True   \n4     b4b2682d77118155fe4716300ccf7f39 -33.403239 -70.564020      False   \n...                                ...        ...        ...        ...   \n9995  c63cfa783ff6ea9a5577ff0b513e4297 -33.417677 -70.508377      False   \n9996  0b91a6dc570736f490ade9b129bbd46f -33.432885 -70.646795      False   \n9997  229d80f473668d9b25d60ea4d05687dd -33.424562 -70.582943      False   \n9998  96e2a7a69e52eaa5ce563b1164f72c8d -33.413806 -70.598500      False   \n9999  ac9520e37e420842ce36b65a71b48954 -33.387383 -70.502880       True   \n\n                            shopper_id                   store_branch_id  \\\n0     e63bc83a1a952fa2b3cc9d558fb943cf  65ded5353c5ee48d0b7d48c591b8f430   \n1     195f9e9d84a4ba9033c4b6a756334d8b  45fbc6d3e05ebd93369ce542e8f2322d   \n2     a5b9ddc0d82e61582fca19ad43dbaacb  07563a3fe3bbe7e3ba84431ad9d055af   \n3     d0b3f6bf7e249e5ebb8d3129341773a2  f1748d6b0fd9d439f71450117eba2725   \n4     5c5199ce02f7b77caa9c2590a39ad27d  1f0e3dad99908345f7439f8ffabdffc4   \n...                                ...                               ...   \n9995  9cf7b3c6a05745b24eb07e0945ff1718  c4ca4238a0b923820dcc509a6f75849b   \n9996  6fd0c09e971aff77c73afb87863da1c6  3871bd64012152bfb53fdf04b401193f   \n9997  3ed51e3e0e8c9ca2fec3f84766cabe96  1f0e3dad99908345f7439f8ffabdffc4   \n9998  cea50f5aa525cfe6d2f445fec7c8ef31  1f0e3dad99908345f7439f8ffabdffc4   \n9999  61e4ad15c3ff928840ebd34407055b33  1679091c5a880faf6fb5e6087eb1b2dc   \n\n      total_minutes  day  hour  sum_uni  ...    pop_wei  seniority  \\\n0         67.684264   18    20     16.0  ...   5.802893          0   \n1         57.060632   19     1     11.0  ...   0.000000          2   \n2               NaN   19    14     18.0  ...   0.000000          1   \n3         52.067742   18    21      1.0  ...   0.000000          2   \n4        140.724822   19    20     91.0  ...  10.121384          1   \n...             ...  ...   ...      ...  ...        ...        ...   \n9995     116.631287   19     1    116.0  ...  17.214263          0   \n9996      94.094497   19    19     24.0  ...  -1.715620          0   \n9997      53.784000   19     1     16.0  ...   6.994387          0   \n9998      52.806311   19    18      1.0  ...   0.000000          0   \n9999      55.111234   19     1     18.0  ...   0.323137          0   \n\n      found_rate  picking_speed  accepted_rate  rating  lat_store  lng_store  \\\n0         0.9024           1.30       0.920000    4.76 -33.485280 -70.579250   \n1         0.7610           2.54       0.920000    4.96 -33.441246 -70.535450   \n2         0.8313           2.57       0.760000    4.92 -33.008213 -71.545615   \n3         0.8776           2.80       0.960000    4.76 -33.355258 -70.537787   \n4         0.7838           2.40       0.960000    4.96 -33.386547 -70.568075   \n...          ...            ...            ...     ...        ...        ...   \n9995      0.8658           1.30       0.960000    4.92 -33.402024 -70.516727   \n9996      0.8970           1.41       1.000000    4.68 -33.451695 -70.692160   \n9997      0.8424           1.40       1.000000    4.76 -33.386547 -70.568075   \n9998      0.8529           1.98       0.933333    4.86 -33.386547 -70.568075   \n9999      0.8946           1.82       1.000000    4.84 -33.370765 -70.512420   \n\n      branch_size  city  \n0              33     0  \n1              33     0  \n2              33     3  \n3               2     0  \n4              33     0  \n...           ...   ...  \n9995           33     0  \n9996           33     0  \n9997           33     0  \n9998           33     0  \n9999           33     0  \n\n[10000 rows x 22 columns]",
      "text/html": "<div>\n<style scoped>\n    .dataframe tbody tr th:only-of-type {\n        vertical-align: middle;\n    }\n\n    .dataframe tbody tr th {\n        vertical-align: top;\n    }\n\n    .dataframe thead th {\n        text-align: right;\n    }\n</style>\n<table border=\"1\" class=\"dataframe\">\n  <thead>\n    <tr style=\"text-align: right;\">\n      <th></th>\n      <th>order_id</th>\n      <th>lat</th>\n      <th>lng</th>\n      <th>on_demand</th>\n      <th>shopper_id</th>\n      <th>store_branch_id</th>\n      <th>total_minutes</th>\n      <th>day</th>\n      <th>hour</th>\n      <th>sum_uni</th>\n      <th>...</th>\n      <th>pop_wei</th>\n      <th>seniority</th>\n      <th>found_rate</th>\n      <th>picking_speed</th>\n      <th>accepted_rate</th>\n      <th>rating</th>\n      <th>lat_store</th>\n      <th>lng_store</th>\n      <th>branch_size</th>\n      <th>city</th>\n    </tr>\n  </thead>\n  <tbody>\n    <tr>\n      <th>0</th>\n      <td>e750294655c2c7c34d83cc3181c09de4</td>\n      <td>-33.501675</td>\n      <td>-70.579369</td>\n      <td>True</td>\n      <td>e63bc83a1a952fa2b3cc9d558fb943cf</td>\n      <td>65ded5353c5ee48d0b7d48c591b8f430</td>\n      <td>67.684264</td>\n      <td>18</td>\n      <td>20</td>\n      <td>16.0</td>\n      <td>...</td>\n      <td>5.802893</td>\n      <td>0</td>\n      <td>0.9024</td>\n      <td>1.30</td>\n      <td>0.920000</td>\n      <td>4.76</td>\n      <td>-33.485280</td>\n      <td>-70.579250</td>\n      <td>33</td>\n      <td>0</td>\n    </tr>\n    <tr>\n      <th>1</th>\n      <td>6581174846221cb6c467348e87f57641</td>\n      <td>-33.440584</td>\n      <td>-70.556283</td>\n      <td>False</td>\n      <td>195f9e9d84a4ba9033c4b6a756334d8b</td>\n      <td>45fbc6d3e05ebd93369ce542e8f2322d</td>\n      <td>57.060632</td>\n      <td>19</td>\n      <td>1</td>\n      <td>11.0</td>\n      <td>...</td>\n      <td>0.000000</td>\n      <td>2</td>\n      <td>0.7610</td>\n      <td>2.54</td>\n      <td>0.920000</td>\n      <td>4.96</td>\n      <td>-33.441246</td>\n      <td>-70.535450</td>\n      <td>33</td>\n      <td>0</td>\n    </tr>\n    <tr>\n      <th>2</th>\n      <td>3a226ea48debc0a7ae9950d5540f2f34</td>\n      <td>-32.987022</td>\n      <td>-71.544842</td>\n      <td>True</td>\n      <td>a5b9ddc0d82e61582fca19ad43dbaacb</td>\n      <td>07563a3fe3bbe7e3ba84431ad9d055af</td>\n      <td>NaN</td>\n      <td>19</td>\n      <td>14</td>\n      <td>18.0</td>\n      <td>...</td>\n      <td>0.000000</td>\n      <td>1</td>\n      <td>0.8313</td>\n      <td>2.57</td>\n      <td>0.760000</td>\n      <td>4.92</td>\n      <td>-33.008213</td>\n      <td>-71.545615</td>\n      <td>33</td>\n      <td>3</td>\n    </tr>\n    <tr>\n      <th>3</th>\n      <td>7d2ed03fe4966083e74b12694b1669d8</td>\n      <td>-33.328075</td>\n      <td>-70.512659</td>\n      <td>True</td>\n      <td>d0b3f6bf7e249e5ebb8d3129341773a2</td>\n      <td>f1748d6b0fd9d439f71450117eba2725</td>\n      <td>52.067742</td>\n      <td>18</td>\n      <td>21</td>\n      <td>1.0</td>\n      <td>...</td>\n      <td>0.000000</td>\n      <td>2</td>\n      <td>0.8776</td>\n      <td>2.80</td>\n      <td>0.960000</td>\n      <td>4.76</td>\n      <td>-33.355258</td>\n      <td>-70.537787</td>\n      <td>2</td>\n      <td>0</td>\n    </tr>\n    <tr>\n      <th>4</th>\n      <td>b4b2682d77118155fe4716300ccf7f39</td>\n      <td>-33.403239</td>\n      <td>-70.564020</td>\n      <td>False</td>\n      <td>5c5199ce02f7b77caa9c2590a39ad27d</td>\n      <td>1f0e3dad99908345f7439f8ffabdffc4</td>\n      <td>140.724822</td>\n      <td>19</td>\n      <td>20</td>\n      <td>91.0</td>\n      <td>...</td>\n      <td>10.121384</td>\n      <td>1</td>\n      <td>0.7838</td>\n      <td>2.40</td>\n      <td>0.960000</td>\n      <td>4.96</td>\n      <td>-33.386547</td>\n      <td>-70.568075</td>\n      <td>33</td>\n      <td>0</td>\n    </tr>\n    <tr>\n      <th>...</th>\n      <td>...</td>\n      <td>...</td>\n      <td>...</td>\n      <td>...</td>\n      <td>...</td>\n      <td>...</td>\n      <td>...</td>\n      <td>...</td>\n      <td>...</td>\n      <td>...</td>\n      <td>...</td>\n      <td>...</td>\n      <td>...</td>\n      <td>...</td>\n      <td>...</td>\n      <td>...</td>\n      <td>...</td>\n      <td>...</td>\n      <td>...</td>\n      <td>...</td>\n      <td>...</td>\n    </tr>\n    <tr>\n      <th>9995</th>\n      <td>c63cfa783ff6ea9a5577ff0b513e4297</td>\n      <td>-33.417677</td>\n      <td>-70.508377</td>\n      <td>False</td>\n      <td>9cf7b3c6a05745b24eb07e0945ff1718</td>\n      <td>c4ca4238a0b923820dcc509a6f75849b</td>\n      <td>116.631287</td>\n      <td>19</td>\n      <td>1</td>\n      <td>116.0</td>\n      <td>...</td>\n      <td>17.214263</td>\n      <td>0</td>\n      <td>0.8658</td>\n      <td>1.30</td>\n      <td>0.960000</td>\n      <td>4.92</td>\n      <td>-33.402024</td>\n      <td>-70.516727</td>\n      <td>33</td>\n      <td>0</td>\n    </tr>\n    <tr>\n      <th>9996</th>\n      <td>0b91a6dc570736f490ade9b129bbd46f</td>\n      <td>-33.432885</td>\n      <td>-70.646795</td>\n      <td>False</td>\n      <td>6fd0c09e971aff77c73afb87863da1c6</td>\n      <td>3871bd64012152bfb53fdf04b401193f</td>\n      <td>94.094497</td>\n      <td>19</td>\n      <td>19</td>\n      <td>24.0</td>\n      <td>...</td>\n      <td>-1.715620</td>\n      <td>0</td>\n      <td>0.8970</td>\n      <td>1.41</td>\n      <td>1.000000</td>\n      <td>4.68</td>\n      <td>-33.451695</td>\n      <td>-70.692160</td>\n      <td>33</td>\n      <td>0</td>\n    </tr>\n    <tr>\n      <th>9997</th>\n      <td>229d80f473668d9b25d60ea4d05687dd</td>\n      <td>-33.424562</td>\n      <td>-70.582943</td>\n      <td>False</td>\n      <td>3ed51e3e0e8c9ca2fec3f84766cabe96</td>\n      <td>1f0e3dad99908345f7439f8ffabdffc4</td>\n      <td>53.784000</td>\n      <td>19</td>\n      <td>1</td>\n      <td>16.0</td>\n      <td>...</td>\n      <td>6.994387</td>\n      <td>0</td>\n      <td>0.8424</td>\n      <td>1.40</td>\n      <td>1.000000</td>\n      <td>4.76</td>\n      <td>-33.386547</td>\n      <td>-70.568075</td>\n      <td>33</td>\n      <td>0</td>\n    </tr>\n    <tr>\n      <th>9998</th>\n      <td>96e2a7a69e52eaa5ce563b1164f72c8d</td>\n      <td>-33.413806</td>\n      <td>-70.598500</td>\n      <td>False</td>\n      <td>cea50f5aa525cfe6d2f445fec7c8ef31</td>\n      <td>1f0e3dad99908345f7439f8ffabdffc4</td>\n      <td>52.806311</td>\n      <td>19</td>\n      <td>18</td>\n      <td>1.0</td>\n      <td>...</td>\n      <td>0.000000</td>\n      <td>0</td>\n      <td>0.8529</td>\n      <td>1.98</td>\n      <td>0.933333</td>\n      <td>4.86</td>\n      <td>-33.386547</td>\n      <td>-70.568075</td>\n      <td>33</td>\n      <td>0</td>\n    </tr>\n    <tr>\n      <th>9999</th>\n      <td>ac9520e37e420842ce36b65a71b48954</td>\n      <td>-33.387383</td>\n      <td>-70.502880</td>\n      <td>True</td>\n      <td>61e4ad15c3ff928840ebd34407055b33</td>\n      <td>1679091c5a880faf6fb5e6087eb1b2dc</td>\n      <td>55.111234</td>\n      <td>19</td>\n      <td>1</td>\n      <td>18.0</td>\n      <td>...</td>\n      <td>0.323137</td>\n      <td>0</td>\n      <td>0.8946</td>\n      <td>1.82</td>\n      <td>1.000000</td>\n      <td>4.84</td>\n      <td>-33.370765</td>\n      <td>-70.512420</td>\n      <td>33</td>\n      <td>0</td>\n    </tr>\n  </tbody>\n</table>\n<p>10000 rows × 22 columns</p>\n</div>"
     },
     "execution_count": 10,
     "metadata": {},
     "output_type": "execute_result"
    }
   ],
   "source": [
    "# join table by store_branch_id\n",
    "merged = merged.join(stores.set_index('store_branch_id'), on='store_branch_id')\n",
    "merged"
   ],
   "metadata": {
    "collapsed": false,
    "pycharm": {
     "name": "#%%\n"
    }
   }
  },
  {
   "cell_type": "markdown",
   "source": [
    "### Eliminating residual id's\n",
    "\n",
    "When we model, id values are not necessary so let's drop them!"
   ],
   "metadata": {
    "collapsed": false,
    "pycharm": {
     "name": "#%% md\n"
    }
   }
  },
  {
   "cell_type": "code",
   "execution_count": 11,
   "outputs": [
    {
     "data": {
      "text/plain": "            lat        lng  on_demand  total_minutes  day  hour  sum_uni  \\\n0    -33.501675 -70.579369       True      67.684264   18    20     16.0   \n1    -33.440584 -70.556283      False      57.060632   19     1     11.0   \n2    -32.987022 -71.544842       True            NaN   19    14     18.0   \n3    -33.328075 -70.512659       True      52.067742   18    21      1.0   \n4    -33.403239 -70.564020      False     140.724822   19    20     91.0   \n...         ...        ...        ...            ...  ...   ...      ...   \n9995 -33.417677 -70.508377      False     116.631287   19     1    116.0   \n9996 -33.432885 -70.646795      False      94.094497   19    19     24.0   \n9997 -33.424562 -70.582943      False      53.784000   19     1     16.0   \n9998 -33.413806 -70.598500      False      52.806311   19    18      1.0   \n9999 -33.387383 -70.502880       True      55.111234   19     1     18.0   \n\n      sum_wei    pop_uni    pop_wei  seniority  found_rate  picking_speed  \\\n0       2.756 -11.722202   5.802893          0      0.9024           1.30   \n1       0.000  -2.337251   0.000000          2      0.7610           2.54   \n2       0.000  -5.956135   0.000000          1      0.8313           2.57   \n3       0.000  -1.262733   0.000000          2      0.8776           2.80   \n4       6.721   2.115241  10.121384          1      0.7838           2.40   \n...       ...        ...        ...        ...         ...            ...   \n9995   16.634   3.946069  17.214263          0      0.8658           1.30   \n9996    0.600  -2.864198  -1.715620          0      0.8970           1.41   \n9997    3.502   4.382179   6.994387          0      0.8424           1.40   \n9998    0.000  -1.793551   0.000000          0      0.8529           1.98   \n9999    0.536   5.767336   0.323137          0      0.8946           1.82   \n\n      accepted_rate  rating  lat_store  lng_store  branch_size  city  \n0          0.920000    4.76 -33.485280 -70.579250           33     0  \n1          0.920000    4.96 -33.441246 -70.535450           33     0  \n2          0.760000    4.92 -33.008213 -71.545615           33     3  \n3          0.960000    4.76 -33.355258 -70.537787            2     0  \n4          0.960000    4.96 -33.386547 -70.568075           33     0  \n...             ...     ...        ...        ...          ...   ...  \n9995       0.960000    4.92 -33.402024 -70.516727           33     0  \n9996       1.000000    4.68 -33.451695 -70.692160           33     0  \n9997       1.000000    4.76 -33.386547 -70.568075           33     0  \n9998       0.933333    4.86 -33.386547 -70.568075           33     0  \n9999       1.000000    4.84 -33.370765 -70.512420           33     0  \n\n[10000 rows x 19 columns]",
      "text/html": "<div>\n<style scoped>\n    .dataframe tbody tr th:only-of-type {\n        vertical-align: middle;\n    }\n\n    .dataframe tbody tr th {\n        vertical-align: top;\n    }\n\n    .dataframe thead th {\n        text-align: right;\n    }\n</style>\n<table border=\"1\" class=\"dataframe\">\n  <thead>\n    <tr style=\"text-align: right;\">\n      <th></th>\n      <th>lat</th>\n      <th>lng</th>\n      <th>on_demand</th>\n      <th>total_minutes</th>\n      <th>day</th>\n      <th>hour</th>\n      <th>sum_uni</th>\n      <th>sum_wei</th>\n      <th>pop_uni</th>\n      <th>pop_wei</th>\n      <th>seniority</th>\n      <th>found_rate</th>\n      <th>picking_speed</th>\n      <th>accepted_rate</th>\n      <th>rating</th>\n      <th>lat_store</th>\n      <th>lng_store</th>\n      <th>branch_size</th>\n      <th>city</th>\n    </tr>\n  </thead>\n  <tbody>\n    <tr>\n      <th>0</th>\n      <td>-33.501675</td>\n      <td>-70.579369</td>\n      <td>True</td>\n      <td>67.684264</td>\n      <td>18</td>\n      <td>20</td>\n      <td>16.0</td>\n      <td>2.756</td>\n      <td>-11.722202</td>\n      <td>5.802893</td>\n      <td>0</td>\n      <td>0.9024</td>\n      <td>1.30</td>\n      <td>0.920000</td>\n      <td>4.76</td>\n      <td>-33.485280</td>\n      <td>-70.579250</td>\n      <td>33</td>\n      <td>0</td>\n    </tr>\n    <tr>\n      <th>1</th>\n      <td>-33.440584</td>\n      <td>-70.556283</td>\n      <td>False</td>\n      <td>57.060632</td>\n      <td>19</td>\n      <td>1</td>\n      <td>11.0</td>\n      <td>0.000</td>\n      <td>-2.337251</td>\n      <td>0.000000</td>\n      <td>2</td>\n      <td>0.7610</td>\n      <td>2.54</td>\n      <td>0.920000</td>\n      <td>4.96</td>\n      <td>-33.441246</td>\n      <td>-70.535450</td>\n      <td>33</td>\n      <td>0</td>\n    </tr>\n    <tr>\n      <th>2</th>\n      <td>-32.987022</td>\n      <td>-71.544842</td>\n      <td>True</td>\n      <td>NaN</td>\n      <td>19</td>\n      <td>14</td>\n      <td>18.0</td>\n      <td>0.000</td>\n      <td>-5.956135</td>\n      <td>0.000000</td>\n      <td>1</td>\n      <td>0.8313</td>\n      <td>2.57</td>\n      <td>0.760000</td>\n      <td>4.92</td>\n      <td>-33.008213</td>\n      <td>-71.545615</td>\n      <td>33</td>\n      <td>3</td>\n    </tr>\n    <tr>\n      <th>3</th>\n      <td>-33.328075</td>\n      <td>-70.512659</td>\n      <td>True</td>\n      <td>52.067742</td>\n      <td>18</td>\n      <td>21</td>\n      <td>1.0</td>\n      <td>0.000</td>\n      <td>-1.262733</td>\n      <td>0.000000</td>\n      <td>2</td>\n      <td>0.8776</td>\n      <td>2.80</td>\n      <td>0.960000</td>\n      <td>4.76</td>\n      <td>-33.355258</td>\n      <td>-70.537787</td>\n      <td>2</td>\n      <td>0</td>\n    </tr>\n    <tr>\n      <th>4</th>\n      <td>-33.403239</td>\n      <td>-70.564020</td>\n      <td>False</td>\n      <td>140.724822</td>\n      <td>19</td>\n      <td>20</td>\n      <td>91.0</td>\n      <td>6.721</td>\n      <td>2.115241</td>\n      <td>10.121384</td>\n      <td>1</td>\n      <td>0.7838</td>\n      <td>2.40</td>\n      <td>0.960000</td>\n      <td>4.96</td>\n      <td>-33.386547</td>\n      <td>-70.568075</td>\n      <td>33</td>\n      <td>0</td>\n    </tr>\n    <tr>\n      <th>...</th>\n      <td>...</td>\n      <td>...</td>\n      <td>...</td>\n      <td>...</td>\n      <td>...</td>\n      <td>...</td>\n      <td>...</td>\n      <td>...</td>\n      <td>...</td>\n      <td>...</td>\n      <td>...</td>\n      <td>...</td>\n      <td>...</td>\n      <td>...</td>\n      <td>...</td>\n      <td>...</td>\n      <td>...</td>\n      <td>...</td>\n      <td>...</td>\n    </tr>\n    <tr>\n      <th>9995</th>\n      <td>-33.417677</td>\n      <td>-70.508377</td>\n      <td>False</td>\n      <td>116.631287</td>\n      <td>19</td>\n      <td>1</td>\n      <td>116.0</td>\n      <td>16.634</td>\n      <td>3.946069</td>\n      <td>17.214263</td>\n      <td>0</td>\n      <td>0.8658</td>\n      <td>1.30</td>\n      <td>0.960000</td>\n      <td>4.92</td>\n      <td>-33.402024</td>\n      <td>-70.516727</td>\n      <td>33</td>\n      <td>0</td>\n    </tr>\n    <tr>\n      <th>9996</th>\n      <td>-33.432885</td>\n      <td>-70.646795</td>\n      <td>False</td>\n      <td>94.094497</td>\n      <td>19</td>\n      <td>19</td>\n      <td>24.0</td>\n      <td>0.600</td>\n      <td>-2.864198</td>\n      <td>-1.715620</td>\n      <td>0</td>\n      <td>0.8970</td>\n      <td>1.41</td>\n      <td>1.000000</td>\n      <td>4.68</td>\n      <td>-33.451695</td>\n      <td>-70.692160</td>\n      <td>33</td>\n      <td>0</td>\n    </tr>\n    <tr>\n      <th>9997</th>\n      <td>-33.424562</td>\n      <td>-70.582943</td>\n      <td>False</td>\n      <td>53.784000</td>\n      <td>19</td>\n      <td>1</td>\n      <td>16.0</td>\n      <td>3.502</td>\n      <td>4.382179</td>\n      <td>6.994387</td>\n      <td>0</td>\n      <td>0.8424</td>\n      <td>1.40</td>\n      <td>1.000000</td>\n      <td>4.76</td>\n      <td>-33.386547</td>\n      <td>-70.568075</td>\n      <td>33</td>\n      <td>0</td>\n    </tr>\n    <tr>\n      <th>9998</th>\n      <td>-33.413806</td>\n      <td>-70.598500</td>\n      <td>False</td>\n      <td>52.806311</td>\n      <td>19</td>\n      <td>18</td>\n      <td>1.0</td>\n      <td>0.000</td>\n      <td>-1.793551</td>\n      <td>0.000000</td>\n      <td>0</td>\n      <td>0.8529</td>\n      <td>1.98</td>\n      <td>0.933333</td>\n      <td>4.86</td>\n      <td>-33.386547</td>\n      <td>-70.568075</td>\n      <td>33</td>\n      <td>0</td>\n    </tr>\n    <tr>\n      <th>9999</th>\n      <td>-33.387383</td>\n      <td>-70.502880</td>\n      <td>True</td>\n      <td>55.111234</td>\n      <td>19</td>\n      <td>1</td>\n      <td>18.0</td>\n      <td>0.536</td>\n      <td>5.767336</td>\n      <td>0.323137</td>\n      <td>0</td>\n      <td>0.8946</td>\n      <td>1.82</td>\n      <td>1.000000</td>\n      <td>4.84</td>\n      <td>-33.370765</td>\n      <td>-70.512420</td>\n      <td>33</td>\n      <td>0</td>\n    </tr>\n  </tbody>\n</table>\n<p>10000 rows × 19 columns</p>\n</div>"
     },
     "execution_count": 11,
     "metadata": {},
     "output_type": "execute_result"
    }
   ],
   "source": [
    "merged.drop(['order_id', 'shopper_id', 'store_branch_id'], axis=1, inplace=True)\n",
    "merged"
   ],
   "metadata": {
    "collapsed": false,
    "pycharm": {
     "name": "#%%\n"
    }
   }
  },
  {
   "cell_type": "code",
   "execution_count": 12,
   "outputs": [
    {
     "data": {
      "text/plain": "Summarize dataset:   0%|          | 0/27 [00:00<?, ?it/s]",
      "application/vnd.jupyter.widget-view+json": {
       "version_major": 2,
       "version_minor": 0,
       "model_id": "b0be1d6eeef147d785f3c3623f4e9f14"
      }
     },
     "metadata": {},
     "output_type": "display_data"
    },
    {
     "data": {
      "text/plain": "Generate report structure:   0%|          | 0/1 [00:00<?, ?it/s]",
      "application/vnd.jupyter.widget-view+json": {
       "version_major": 2,
       "version_minor": 0,
       "model_id": "836ca68c1f994298baf68aab94f2ce93"
      }
     },
     "metadata": {},
     "output_type": "display_data"
    },
    {
     "data": {
      "text/plain": "Render HTML:   0%|          | 0/1 [00:00<?, ?it/s]",
      "application/vnd.jupyter.widget-view+json": {
       "version_major": 2,
       "version_minor": 0,
       "model_id": "2cc76a39631f48229a502b3e5c8011f1"
      }
     },
     "metadata": {},
     "output_type": "display_data"
    },
    {
     "data": {
      "text/plain": "Export report to file:   0%|          | 0/1 [00:00<?, ?it/s]",
      "application/vnd.jupyter.widget-view+json": {
       "version_major": 2,
       "version_minor": 0,
       "model_id": "2cae0c6640354b138fad3ceb77c74739"
      }
     },
     "metadata": {},
     "output_type": "display_data"
    }
   ],
   "source": [
    "# create a profile and save the dataset\n",
    "# create a pandas profile for each table\n",
    "def profile(df, name, minimal=True):\n",
    "    prof = ProfileReport(df, minimal=minimal)\n",
    "    prof.to_file(name)\n",
    "\n",
    "\n",
    "profile(merged, './profiles/dataset.html')\n",
    "merged.to_csv('./data/dataset.csv', index=False)"
   ],
   "metadata": {
    "collapsed": false,
    "pycharm": {
     "name": "#%%\n"
    }
   }
  }
 ],
 "metadata": {
  "kernelspec": {
   "display_name": "Python 3",
   "language": "python",
   "name": "python3"
  },
  "language_info": {
   "codemirror_mode": {
    "name": "ipython",
    "version": 2
   },
   "file_extension": ".py",
   "mimetype": "text/x-python",
   "name": "python",
   "nbconvert_exporter": "python",
   "pygments_lexer": "ipython2",
   "version": "2.7.6"
  }
 },
 "nbformat": 4,
 "nbformat_minor": 0
}