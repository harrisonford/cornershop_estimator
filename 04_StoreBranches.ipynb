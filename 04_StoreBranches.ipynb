{
 "cells": [
  {
   "cell_type": "markdown",
   "metadata": {
    "collapsed": true,
    "pycharm": {
     "name": "#%% md\n"
    }
   },
   "source": [
    "# Converting ``storebranch.csv``\n",
    "This is our final table to convert, and it's the simplest one, we only need to join\n",
    "store's lat and lng location to the main table through store_branch_id, let's check it again!\n",
    "\n",
    "Also, there's no missing data according to the pandas profile, so our process is very\n",
    "straight-forward."
   ]
  },
  {
   "cell_type": "code",
   "execution_count": 15,
   "outputs": [],
   "source": [
    "import pandas as pd\n",
    "import matplotlib.pyplot as plt\n",
    "from sklearn.cluster import KMeans"
   ],
   "metadata": {
    "collapsed": false,
    "pycharm": {
     "name": "#%%\n"
    }
   }
  },
  {
   "cell_type": "code",
   "execution_count": 3,
   "outputs": [
    {
     "data": {
      "text/plain": "                      store_branch_id                          store_id  \\\n0    aff1621254f7c1be92f64550478c56e6  92cc227532d17e56e07902b254dfad10   \n1    56352739f59643540a3a6e16985f62c7  0336dcbab05b9d5ad24f4333c7658a0e   \n2    7d04bbbe5494ae9d2f5a76aa1c00fa2f  9bf31c7ff062936a96d3c8bd1f8f2ff3   \n3    2b24d495052a8ce66358eb576b8912c8  c4ca4238a0b923820dcc509a6f75849b   \n4    5487315b1286f907165907aa8fc96619  d82c8d1619ad8176d665453cfb2e55f0   \n..                                ...                               ...   \n471  045117b0e0a11a242b9765e79cbf113f  a87ff679a2f3e71d9181a67b7542122c   \n472  2cfa3753d6a524711acb5fce38eeca1a  3f67fd97162d20e6fe27748b5b372509   \n473  7486cef2522ee03547cfb970a404a874  8f468c873a32bb0619eaeb2050ba45d1   \n474  c06d06da9666a219db15cf575aff2824  9a1158154dfa42caddbd0694a4e9bdc8   \n475  eb163727917cbba1eea208541a643e74  a87ff679a2f3e71d9181a67b7542122c   \n\n           lat        lng  \n0   -33.422497 -70.609231  \n1   -33.385484 -70.555579  \n2   -33.416579 -70.565224  \n3   -33.512578 -70.655952  \n4   -33.347645 -70.542229  \n..         ...        ...  \n471 -33.036111 -71.524149  \n472 -33.406081 -70.598128  \n473 -33.397498 -70.584666  \n474 -33.390604 -70.547206  \n475 -33.428421 -70.540562  \n\n[476 rows x 4 columns]",
      "text/html": "<div>\n<style scoped>\n    .dataframe tbody tr th:only-of-type {\n        vertical-align: middle;\n    }\n\n    .dataframe tbody tr th {\n        vertical-align: top;\n    }\n\n    .dataframe thead th {\n        text-align: right;\n    }\n</style>\n<table border=\"1\" class=\"dataframe\">\n  <thead>\n    <tr style=\"text-align: right;\">\n      <th></th>\n      <th>store_branch_id</th>\n      <th>store_id</th>\n      <th>lat</th>\n      <th>lng</th>\n    </tr>\n  </thead>\n  <tbody>\n    <tr>\n      <th>0</th>\n      <td>aff1621254f7c1be92f64550478c56e6</td>\n      <td>92cc227532d17e56e07902b254dfad10</td>\n      <td>-33.422497</td>\n      <td>-70.609231</td>\n    </tr>\n    <tr>\n      <th>1</th>\n      <td>56352739f59643540a3a6e16985f62c7</td>\n      <td>0336dcbab05b9d5ad24f4333c7658a0e</td>\n      <td>-33.385484</td>\n      <td>-70.555579</td>\n    </tr>\n    <tr>\n      <th>2</th>\n      <td>7d04bbbe5494ae9d2f5a76aa1c00fa2f</td>\n      <td>9bf31c7ff062936a96d3c8bd1f8f2ff3</td>\n      <td>-33.416579</td>\n      <td>-70.565224</td>\n    </tr>\n    <tr>\n      <th>3</th>\n      <td>2b24d495052a8ce66358eb576b8912c8</td>\n      <td>c4ca4238a0b923820dcc509a6f75849b</td>\n      <td>-33.512578</td>\n      <td>-70.655952</td>\n    </tr>\n    <tr>\n      <th>4</th>\n      <td>5487315b1286f907165907aa8fc96619</td>\n      <td>d82c8d1619ad8176d665453cfb2e55f0</td>\n      <td>-33.347645</td>\n      <td>-70.542229</td>\n    </tr>\n    <tr>\n      <th>...</th>\n      <td>...</td>\n      <td>...</td>\n      <td>...</td>\n      <td>...</td>\n    </tr>\n    <tr>\n      <th>471</th>\n      <td>045117b0e0a11a242b9765e79cbf113f</td>\n      <td>a87ff679a2f3e71d9181a67b7542122c</td>\n      <td>-33.036111</td>\n      <td>-71.524149</td>\n    </tr>\n    <tr>\n      <th>472</th>\n      <td>2cfa3753d6a524711acb5fce38eeca1a</td>\n      <td>3f67fd97162d20e6fe27748b5b372509</td>\n      <td>-33.406081</td>\n      <td>-70.598128</td>\n    </tr>\n    <tr>\n      <th>473</th>\n      <td>7486cef2522ee03547cfb970a404a874</td>\n      <td>8f468c873a32bb0619eaeb2050ba45d1</td>\n      <td>-33.397498</td>\n      <td>-70.584666</td>\n    </tr>\n    <tr>\n      <th>474</th>\n      <td>c06d06da9666a219db15cf575aff2824</td>\n      <td>9a1158154dfa42caddbd0694a4e9bdc8</td>\n      <td>-33.390604</td>\n      <td>-70.547206</td>\n    </tr>\n    <tr>\n      <th>475</th>\n      <td>eb163727917cbba1eea208541a643e74</td>\n      <td>a87ff679a2f3e71d9181a67b7542122c</td>\n      <td>-33.428421</td>\n      <td>-70.540562</td>\n    </tr>\n  </tbody>\n</table>\n<p>476 rows × 4 columns</p>\n</div>"
     },
     "execution_count": 3,
     "metadata": {},
     "output_type": "execute_result"
    }
   ],
   "source": [
    "stores = pd.read_csv('./data/storebranch.csv')\n",
    "stores"
   ],
   "metadata": {
    "collapsed": false,
    "pycharm": {
     "name": "#%%\n"
    }
   }
  },
  {
   "cell_type": "code",
   "execution_count": 4,
   "outputs": [
    {
     "data": {
      "text/plain": "aff1621254f7c1be92f64550478c56e6    1\nb0bef4c9a6e50d43880191492d4fc827    1\n9a4400501febb2a95e79248486a5f6d3    1\n5129a5ddcd0dcd755232baa04c231698    1\nf2e43fa3400d826df4195a9ac70dca62    1\n                                   ..\nae1eaa32d10b6c886981755d579fb4d8    1\nb9141aff1412dc76340b3822d9ea6c72    1\n6c14da109e294d1e8155be8aa4b1ce8e    1\n10a5ab2db37feedfdeaab192ead4ac0e    1\neb163727917cbba1eea208541a643e74    1\nName: store_branch_id, Length: 476, dtype: int64"
     },
     "execution_count": 4,
     "metadata": {},
     "output_type": "execute_result"
    }
   ],
   "source": [
    "# check the number of unique values for store_branch_id and store_id\n",
    "stores['store_branch_id'].value_counts()"
   ],
   "metadata": {
    "collapsed": false,
    "pycharm": {
     "name": "#%%\n"
    }
   }
  },
  {
   "cell_type": "code",
   "execution_count": 5,
   "outputs": [
    {
     "data": {
      "text/plain": "c4ca4238a0b923820dcc509a6f75849b    33\n9bf31c7ff062936a96d3c8bd1f8f2ff3    23\nc0c7c76d30bd3dcaefc96f40275bdc0a    19\na87ff679a2f3e71d9181a67b7542122c    17\nf899139df5e1059396431415e770c6dd    15\n                                    ..\n8d34201a5b85900908db6cae92723617     1\ndf0aab058ce179e4f7ab135ed4e641a9     1\n30bb3825e8f631cc6075c0f87bb4978c     1\n48aedb8880cab8c45637abc7493ecddd     1\n8f468c873a32bb0619eaeb2050ba45d1     1\nName: store_id, Length: 221, dtype: int64"
     },
     "execution_count": 5,
     "metadata": {},
     "output_type": "execute_result"
    }
   ],
   "source": [
    "stores['store_id'].value_counts()"
   ],
   "metadata": {
    "collapsed": false,
    "pycharm": {
     "name": "#%%\n"
    }
   }
  },
  {
   "cell_type": "markdown",
   "source": [
    "So store_id holds the branch name which is repeated on the data and store_branch_id is the\n",
    "unique identifier to join, we will add a new field where we count the number of stores\n",
    "a branch has, which could be related to how well the store performs time-wise."
   ],
   "metadata": {
    "collapsed": false,
    "pycharm": {
     "name": "#%% md\n"
    }
   }
  },
  {
   "cell_type": "code",
   "execution_count": 11,
   "outputs": [],
   "source": [
    "# add the total count to the dataframe for each store branch\n",
    "def add_branch_count(df):\n",
    "    container = []  # stores the field values\n",
    "    hashtable = dict()  # stores the count for each branch\n",
    "    # first we count stores and add them to the dict with O(n) complexity\n",
    "    for store in df['store_id']:\n",
    "        if store in hashtable:  # we sum it up\n",
    "            hashtable[store] += 1\n",
    "        else:  # we need to initialize it\n",
    "            hashtable[store] = 1\n",
    "    # now we can use the hashtable to add the count to each field\n",
    "    for store in df['store_id']:\n",
    "        container.append(hashtable[store])\n",
    "    df['branch_size'] = container\n",
    "\n",
    "    return"
   ],
   "metadata": {
    "collapsed": false,
    "pycharm": {
     "name": "#%%\n"
    }
   }
  },
  {
   "cell_type": "code",
   "execution_count": 12,
   "outputs": [
    {
     "data": {
      "text/plain": "                      store_branch_id                          store_id  \\\n0    aff1621254f7c1be92f64550478c56e6  92cc227532d17e56e07902b254dfad10   \n1    56352739f59643540a3a6e16985f62c7  0336dcbab05b9d5ad24f4333c7658a0e   \n2    7d04bbbe5494ae9d2f5a76aa1c00fa2f  9bf31c7ff062936a96d3c8bd1f8f2ff3   \n3    2b24d495052a8ce66358eb576b8912c8  c4ca4238a0b923820dcc509a6f75849b   \n4    5487315b1286f907165907aa8fc96619  d82c8d1619ad8176d665453cfb2e55f0   \n..                                ...                               ...   \n471  045117b0e0a11a242b9765e79cbf113f  a87ff679a2f3e71d9181a67b7542122c   \n472  2cfa3753d6a524711acb5fce38eeca1a  3f67fd97162d20e6fe27748b5b372509   \n473  7486cef2522ee03547cfb970a404a874  8f468c873a32bb0619eaeb2050ba45d1   \n474  c06d06da9666a219db15cf575aff2824  9a1158154dfa42caddbd0694a4e9bdc8   \n475  eb163727917cbba1eea208541a643e74  a87ff679a2f3e71d9181a67b7542122c   \n\n           lat        lng  branch_size  \n0   -33.422497 -70.609231            1  \n1   -33.385484 -70.555579            3  \n2   -33.416579 -70.565224           23  \n3   -33.512578 -70.655952           33  \n4   -33.347645 -70.542229            2  \n..         ...        ...          ...  \n471 -33.036111 -71.524149           17  \n472 -33.406081 -70.598128            1  \n473 -33.397498 -70.584666            1  \n474 -33.390604 -70.547206            7  \n475 -33.428421 -70.540562           17  \n\n[476 rows x 5 columns]",
      "text/html": "<div>\n<style scoped>\n    .dataframe tbody tr th:only-of-type {\n        vertical-align: middle;\n    }\n\n    .dataframe tbody tr th {\n        vertical-align: top;\n    }\n\n    .dataframe thead th {\n        text-align: right;\n    }\n</style>\n<table border=\"1\" class=\"dataframe\">\n  <thead>\n    <tr style=\"text-align: right;\">\n      <th></th>\n      <th>store_branch_id</th>\n      <th>store_id</th>\n      <th>lat</th>\n      <th>lng</th>\n      <th>branch_size</th>\n    </tr>\n  </thead>\n  <tbody>\n    <tr>\n      <th>0</th>\n      <td>aff1621254f7c1be92f64550478c56e6</td>\n      <td>92cc227532d17e56e07902b254dfad10</td>\n      <td>-33.422497</td>\n      <td>-70.609231</td>\n      <td>1</td>\n    </tr>\n    <tr>\n      <th>1</th>\n      <td>56352739f59643540a3a6e16985f62c7</td>\n      <td>0336dcbab05b9d5ad24f4333c7658a0e</td>\n      <td>-33.385484</td>\n      <td>-70.555579</td>\n      <td>3</td>\n    </tr>\n    <tr>\n      <th>2</th>\n      <td>7d04bbbe5494ae9d2f5a76aa1c00fa2f</td>\n      <td>9bf31c7ff062936a96d3c8bd1f8f2ff3</td>\n      <td>-33.416579</td>\n      <td>-70.565224</td>\n      <td>23</td>\n    </tr>\n    <tr>\n      <th>3</th>\n      <td>2b24d495052a8ce66358eb576b8912c8</td>\n      <td>c4ca4238a0b923820dcc509a6f75849b</td>\n      <td>-33.512578</td>\n      <td>-70.655952</td>\n      <td>33</td>\n    </tr>\n    <tr>\n      <th>4</th>\n      <td>5487315b1286f907165907aa8fc96619</td>\n      <td>d82c8d1619ad8176d665453cfb2e55f0</td>\n      <td>-33.347645</td>\n      <td>-70.542229</td>\n      <td>2</td>\n    </tr>\n    <tr>\n      <th>...</th>\n      <td>...</td>\n      <td>...</td>\n      <td>...</td>\n      <td>...</td>\n      <td>...</td>\n    </tr>\n    <tr>\n      <th>471</th>\n      <td>045117b0e0a11a242b9765e79cbf113f</td>\n      <td>a87ff679a2f3e71d9181a67b7542122c</td>\n      <td>-33.036111</td>\n      <td>-71.524149</td>\n      <td>17</td>\n    </tr>\n    <tr>\n      <th>472</th>\n      <td>2cfa3753d6a524711acb5fce38eeca1a</td>\n      <td>3f67fd97162d20e6fe27748b5b372509</td>\n      <td>-33.406081</td>\n      <td>-70.598128</td>\n      <td>1</td>\n    </tr>\n    <tr>\n      <th>473</th>\n      <td>7486cef2522ee03547cfb970a404a874</td>\n      <td>8f468c873a32bb0619eaeb2050ba45d1</td>\n      <td>-33.397498</td>\n      <td>-70.584666</td>\n      <td>1</td>\n    </tr>\n    <tr>\n      <th>474</th>\n      <td>c06d06da9666a219db15cf575aff2824</td>\n      <td>9a1158154dfa42caddbd0694a4e9bdc8</td>\n      <td>-33.390604</td>\n      <td>-70.547206</td>\n      <td>7</td>\n    </tr>\n    <tr>\n      <th>475</th>\n      <td>eb163727917cbba1eea208541a643e74</td>\n      <td>a87ff679a2f3e71d9181a67b7542122c</td>\n      <td>-33.428421</td>\n      <td>-70.540562</td>\n      <td>17</td>\n    </tr>\n  </tbody>\n</table>\n<p>476 rows × 5 columns</p>\n</div>"
     },
     "execution_count": 12,
     "metadata": {},
     "output_type": "execute_result"
    }
   ],
   "source": [
    "# test the function\n",
    "add_branch_count(stores)\n",
    "stores"
   ],
   "metadata": {
    "collapsed": false,
    "pycharm": {
     "name": "#%%\n"
    }
   }
  },
  {
   "cell_type": "markdown",
   "source": [
    "Now all we need to confirm is the extension of the stores, are we in a city or multiple cities?"
   ],
   "metadata": {
    "collapsed": false,
    "pycharm": {
     "name": "#%% md\n"
    }
   }
  },
  {
   "cell_type": "code",
   "execution_count": 34,
   "outputs": [
    {
     "data": {
      "text/plain": "<Figure size 432x288 with 1 Axes>",
      "image/png": "[encoded data removed]"
     },
     "metadata": {
      "needs_background": "light"
     },
     "output_type": "display_data"
    }
   ],
   "source": [
    "plt.scatter(stores['lat'], stores['lng'])\n",
    "plt.show()"
   ],
   "metadata": {
    "collapsed": false,
    "pycharm": {
     "name": "#%%\n"
    }
   }
  },
  {
   "cell_type": "markdown",
   "source": [
    "It seems obvious that we have 4 cities in the database (for example the biggest cluster is\n",
    "definitely Santiago). We could also tag lat, lng as part of a cluster which could make more\n",
    "sense for a model. For the model it won't matter if we tag a value as 'Santiago' or '1'.\n",
    "\n",
    "Because we know there are four clusters we can use a k-means model directly."
   ],
   "metadata": {
    "collapsed": false,
    "pycharm": {
     "name": "#%% md\n"
    }
   }
  },
  {
   "cell_type": "code",
   "execution_count": 28,
   "outputs": [
    {
     "data": {
      "text/plain": "KMeans(n_clusters=4, random_state=0)"
     },
     "execution_count": 28,
     "metadata": {},
     "output_type": "execute_result"
    }
   ],
   "source": [
    "# create a k-means cluster for lat, lng data\n",
    "kmeans = KMeans(n_clusters=4, random_state=0).fit(stores[['lat', 'lng']])\n",
    "kmeans"
   ],
   "metadata": {
    "collapsed": false,
    "pycharm": {
     "name": "#%%\n"
    }
   }
  },
  {
   "cell_type": "code",
   "execution_count": 30,
   "outputs": [
    {
     "data": {
      "text/plain": "array([0, 0, 0, 0, 0, 0, 0, 0, 0, 0, 0, 0, 0, 0, 0, 0, 3, 0, 0, 1])"
     },
     "execution_count": 30,
     "metadata": {},
     "output_type": "execute_result"
    }
   ],
   "source": [
    "# test the model with an example\n",
    "predictions = kmeans.predict(stores[['lat', 'lng']])\n",
    "predictions[:20]"
   ],
   "metadata": {
    "collapsed": false,
    "pycharm": {
     "name": "#%%\n"
    }
   }
  },
  {
   "cell_type": "code",
   "execution_count": 32,
   "outputs": [
    {
     "data": {
      "text/plain": "<Figure size 432x288 with 1 Axes>",
      "image/png": "[encoded data removed]"
     },
     "metadata": {
      "needs_background": "light"
     },
     "output_type": "display_data"
    }
   ],
   "source": [
    "# ploy the clustered scatter\n",
    "palette = [\"blue\",\"red\",\"green\",\"yellow\"]\n",
    "colors = [palette[i] for i in predictions]\n",
    "plt.scatter(stores['lat'], stores['lng'], c=colors)\n",
    "plt.show()"
   ],
   "metadata": {
    "collapsed": false,
    "pycharm": {
     "name": "#%%\n"
    }
   }
  },
  {
   "cell_type": "markdown",
   "source": [
    "The cluster looks good, let's add it to the table"
   ],
   "metadata": {
    "collapsed": false,
    "pycharm": {
     "name": "#%% md\n"
    }
   }
  },
  {
   "cell_type": "code",
   "execution_count": 33,
   "outputs": [
    {
     "data": {
      "text/plain": "                      store_branch_id                          store_id  \\\n0    aff1621254f7c1be92f64550478c56e6  92cc227532d17e56e07902b254dfad10   \n1    56352739f59643540a3a6e16985f62c7  0336dcbab05b9d5ad24f4333c7658a0e   \n2    7d04bbbe5494ae9d2f5a76aa1c00fa2f  9bf31c7ff062936a96d3c8bd1f8f2ff3   \n3    2b24d495052a8ce66358eb576b8912c8  c4ca4238a0b923820dcc509a6f75849b   \n4    5487315b1286f907165907aa8fc96619  d82c8d1619ad8176d665453cfb2e55f0   \n..                                ...                               ...   \n471  045117b0e0a11a242b9765e79cbf113f  a87ff679a2f3e71d9181a67b7542122c   \n472  2cfa3753d6a524711acb5fce38eeca1a  3f67fd97162d20e6fe27748b5b372509   \n473  7486cef2522ee03547cfb970a404a874  8f468c873a32bb0619eaeb2050ba45d1   \n474  c06d06da9666a219db15cf575aff2824  9a1158154dfa42caddbd0694a4e9bdc8   \n475  eb163727917cbba1eea208541a643e74  a87ff679a2f3e71d9181a67b7542122c   \n\n           lat        lng  branch_size  city  \n0   -33.422497 -70.609231            1     0  \n1   -33.385484 -70.555579            3     0  \n2   -33.416579 -70.565224           23     0  \n3   -33.512578 -70.655952           33     0  \n4   -33.347645 -70.542229            2     0  \n..         ...        ...          ...   ...  \n471 -33.036111 -71.524149           17     3  \n472 -33.406081 -70.598128            1     0  \n473 -33.397498 -70.584666            1     0  \n474 -33.390604 -70.547206            7     0  \n475 -33.428421 -70.540562           17     0  \n\n[476 rows x 6 columns]",
      "text/html": "<div>\n<style scoped>\n    .dataframe tbody tr th:only-of-type {\n        vertical-align: middle;\n    }\n\n    .dataframe tbody tr th {\n        vertical-align: top;\n    }\n\n    .dataframe thead th {\n        text-align: right;\n    }\n</style>\n<table border=\"1\" class=\"dataframe\">\n  <thead>\n    <tr style=\"text-align: right;\">\n      <th></th>\n      <th>store_branch_id</th>\n      <th>store_id</th>\n      <th>lat</th>\n      <th>lng</th>\n      <th>branch_size</th>\n      <th>city</th>\n    </tr>\n  </thead>\n  <tbody>\n    <tr>\n      <th>0</th>\n      <td>aff1621254f7c1be92f64550478c56e6</td>\n      <td>92cc227532d17e56e07902b254dfad10</td>\n      <td>-33.422497</td>\n      <td>-70.609231</td>\n      <td>1</td>\n      <td>0</td>\n    </tr>\n    <tr>\n      <th>1</th>\n      <td>56352739f59643540a3a6e16985f62c7</td>\n      <td>0336dcbab05b9d5ad24f4333c7658a0e</td>\n      <td>-33.385484</td>\n      <td>-70.555579</td>\n      <td>3</td>\n      <td>0</td>\n    </tr>\n    <tr>\n      <th>2</th>\n      <td>7d04bbbe5494ae9d2f5a76aa1c00fa2f</td>\n      <td>9bf31c7ff062936a96d3c8bd1f8f2ff3</td>\n      <td>-33.416579</td>\n      <td>-70.565224</td>\n      <td>23</td>\n      <td>0</td>\n    </tr>\n    <tr>\n      <th>3</th>\n      <td>2b24d495052a8ce66358eb576b8912c8</td>\n      <td>c4ca4238a0b923820dcc509a6f75849b</td>\n      <td>-33.512578</td>\n      <td>-70.655952</td>\n      <td>33</td>\n      <td>0</td>\n    </tr>\n    <tr>\n      <th>4</th>\n      <td>5487315b1286f907165907aa8fc96619</td>\n      <td>d82c8d1619ad8176d665453cfb2e55f0</td>\n      <td>-33.347645</td>\n      <td>-70.542229</td>\n      <td>2</td>\n      <td>0</td>\n    </tr>\n    <tr>\n      <th>...</th>\n      <td>...</td>\n      <td>...</td>\n      <td>...</td>\n      <td>...</td>\n      <td>...</td>\n      <td>...</td>\n    </tr>\n    <tr>\n      <th>471</th>\n      <td>045117b0e0a11a242b9765e79cbf113f</td>\n      <td>a87ff679a2f3e71d9181a67b7542122c</td>\n      <td>-33.036111</td>\n      <td>-71.524149</td>\n      <td>17</td>\n      <td>3</td>\n    </tr>\n    <tr>\n      <th>472</th>\n      <td>2cfa3753d6a524711acb5fce38eeca1a</td>\n      <td>3f67fd97162d20e6fe27748b5b372509</td>\n      <td>-33.406081</td>\n      <td>-70.598128</td>\n      <td>1</td>\n      <td>0</td>\n    </tr>\n    <tr>\n      <th>473</th>\n      <td>7486cef2522ee03547cfb970a404a874</td>\n      <td>8f468c873a32bb0619eaeb2050ba45d1</td>\n      <td>-33.397498</td>\n      <td>-70.584666</td>\n      <td>1</td>\n      <td>0</td>\n    </tr>\n    <tr>\n      <th>474</th>\n      <td>c06d06da9666a219db15cf575aff2824</td>\n      <td>9a1158154dfa42caddbd0694a4e9bdc8</td>\n      <td>-33.390604</td>\n      <td>-70.547206</td>\n      <td>7</td>\n      <td>0</td>\n    </tr>\n    <tr>\n      <th>475</th>\n      <td>eb163727917cbba1eea208541a643e74</td>\n      <td>a87ff679a2f3e71d9181a67b7542122c</td>\n      <td>-33.428421</td>\n      <td>-70.540562</td>\n      <td>17</td>\n      <td>0</td>\n    </tr>\n  </tbody>\n</table>\n<p>476 rows × 6 columns</p>\n</div>"
     },
     "execution_count": 33,
     "metadata": {},
     "output_type": "execute_result"
    }
   ],
   "source": [
    "stores['city'] = predictions\n",
    "stores"
   ],
   "metadata": {
    "collapsed": false,
    "pycharm": {
     "name": "#%%\n"
    }
   }
  },
  {
   "cell_type": "markdown",
   "source": [
    "## Conclusions\n",
    "Very straight-forward table, we add city cluster to help a model make decisions based on\n",
    "city relations as cities could have different timings according to distances. Also branch size\n",
    "of the store could be related on how fast a request can be filled. If this database needs tuning\n",
    "in the future we can tokenize stores according to it's size but keeping them separate, as two\n",
    "stores having the same branch size are different tokens.\n",
    "\n",
    "Finally, let's save this table to be used in the final dataset."
   ],
   "metadata": {
    "collapsed": false,
    "pycharm": {
     "name": "#%% md\n"
    }
   }
  },
  {
   "cell_type": "code",
   "execution_count": 38,
   "outputs": [
    {
     "data": {
      "text/plain": "                      store_branch_id        lat        lng  branch_size  city\n0    aff1621254f7c1be92f64550478c56e6 -33.422497 -70.609231            1     0\n1    56352739f59643540a3a6e16985f62c7 -33.385484 -70.555579            3     0\n2    7d04bbbe5494ae9d2f5a76aa1c00fa2f -33.416579 -70.565224           23     0\n3    2b24d495052a8ce66358eb576b8912c8 -33.512578 -70.655952           33     0\n4    5487315b1286f907165907aa8fc96619 -33.347645 -70.542229            2     0\n..                                ...        ...        ...          ...   ...\n471  045117b0e0a11a242b9765e79cbf113f -33.036111 -71.524149           17     3\n472  2cfa3753d6a524711acb5fce38eeca1a -33.406081 -70.598128            1     0\n473  7486cef2522ee03547cfb970a404a874 -33.397498 -70.584666            1     0\n474  c06d06da9666a219db15cf575aff2824 -33.390604 -70.547206            7     0\n475  eb163727917cbba1eea208541a643e74 -33.428421 -70.540562           17     0\n\n[476 rows x 5 columns]",
      "text/html": "<div>\n<style scoped>\n    .dataframe tbody tr th:only-of-type {\n        vertical-align: middle;\n    }\n\n    .dataframe tbody tr th {\n        vertical-align: top;\n    }\n\n    .dataframe thead th {\n        text-align: right;\n    }\n</style>\n<table border=\"1\" class=\"dataframe\">\n  <thead>\n    <tr style=\"text-align: right;\">\n      <th></th>\n      <th>store_branch_id</th>\n      <th>lat</th>\n      <th>lng</th>\n      <th>branch_size</th>\n      <th>city</th>\n    </tr>\n  </thead>\n  <tbody>\n    <tr>\n      <th>0</th>\n      <td>aff1621254f7c1be92f64550478c56e6</td>\n      <td>-33.422497</td>\n      <td>-70.609231</td>\n      <td>1</td>\n      <td>0</td>\n    </tr>\n    <tr>\n      <th>1</th>\n      <td>56352739f59643540a3a6e16985f62c7</td>\n      <td>-33.385484</td>\n      <td>-70.555579</td>\n      <td>3</td>\n      <td>0</td>\n    </tr>\n    <tr>\n      <th>2</th>\n      <td>7d04bbbe5494ae9d2f5a76aa1c00fa2f</td>\n      <td>-33.416579</td>\n      <td>-70.565224</td>\n      <td>23</td>\n      <td>0</td>\n    </tr>\n    <tr>\n      <th>3</th>\n      <td>2b24d495052a8ce66358eb576b8912c8</td>\n      <td>-33.512578</td>\n      <td>-70.655952</td>\n      <td>33</td>\n      <td>0</td>\n    </tr>\n    <tr>\n      <th>4</th>\n      <td>5487315b1286f907165907aa8fc96619</td>\n      <td>-33.347645</td>\n      <td>-70.542229</td>\n      <td>2</td>\n      <td>0</td>\n    </tr>\n    <tr>\n      <th>...</th>\n      <td>...</td>\n      <td>...</td>\n      <td>...</td>\n      <td>...</td>\n      <td>...</td>\n    </tr>\n    <tr>\n      <th>471</th>\n      <td>045117b0e0a11a242b9765e79cbf113f</td>\n      <td>-33.036111</td>\n      <td>-71.524149</td>\n      <td>17</td>\n      <td>3</td>\n    </tr>\n    <tr>\n      <th>472</th>\n      <td>2cfa3753d6a524711acb5fce38eeca1a</td>\n      <td>-33.406081</td>\n      <td>-70.598128</td>\n      <td>1</td>\n      <td>0</td>\n    </tr>\n    <tr>\n      <th>473</th>\n      <td>7486cef2522ee03547cfb970a404a874</td>\n      <td>-33.397498</td>\n      <td>-70.584666</td>\n      <td>1</td>\n      <td>0</td>\n    </tr>\n    <tr>\n      <th>474</th>\n      <td>c06d06da9666a219db15cf575aff2824</td>\n      <td>-33.390604</td>\n      <td>-70.547206</td>\n      <td>7</td>\n      <td>0</td>\n    </tr>\n    <tr>\n      <th>475</th>\n      <td>eb163727917cbba1eea208541a643e74</td>\n      <td>-33.428421</td>\n      <td>-70.540562</td>\n      <td>17</td>\n      <td>0</td>\n    </tr>\n  </tbody>\n</table>\n<p>476 rows × 5 columns</p>\n</div>"
     },
     "execution_count": 38,
     "metadata": {},
     "output_type": "execute_result"
    }
   ],
   "source": [
    "# we won't be needing the store_id, it was transformed into branch_size\n",
    "#stores.drop('store_id', axis=0, inplace=True)\n",
    "stores"
   ],
   "metadata": {
    "collapsed": false,
    "pycharm": {
     "name": "#%%\n"
    }
   }
  },
  {
   "cell_type": "code",
   "execution_count": 39,
   "outputs": [],
   "source": [
    "stores.to_csv('./data/storebranch_processed.csv')"
   ],
   "metadata": {
    "collapsed": false,
    "pycharm": {
     "name": "#%%\n"
    }
   }
  }
 ],
 "metadata": {
  "kernelspec": {
   "display_name": "Python 3",
   "language": "python",
   "name": "python3"
  },
  "language_info": {
   "codemirror_mode": {
    "name": "ipython",
    "version": 2
   },
   "file_extension": ".py",
   "mimetype": "text/x-python",
   "name": "python",
   "nbconvert_exporter": "python",
   "pygments_lexer": "ipython2",
   "version": "2.7.6"
  }
 },
 "nbformat": 4,
 "nbformat_minor": 0
}