{
 "cells": [
  {
   "cell_type": "markdown",
   "metadata": {
    "collapsed": true,
    "pycharm": {
     "name": "#%% md\n"
    }
   },
   "source": [
    "# Converting ``storebranch.csv``\n",
    "This is our final table to convert and it's the simplest one, we only need to join\n",
    "store's lat and lng location to the main table through store_branch_id, let's check it again!"
   ]
  },
  {
   "cell_type": "code",
   "execution_count": 1,
   "outputs": [],
   "source": [
    "import pandas as pd"
   ],
   "metadata": {
    "collapsed": false,
    "pycharm": {
     "name": "#%%\n"
    }
   }
  },
  {
   "cell_type": "code",
   "execution_count": 2,
   "outputs": [
    {
     "data": {
      "text/plain": "                      store_branch_id                          store_id  \\\n0    aff1621254f7c1be92f64550478c56e6  92cc227532d17e56e07902b254dfad10   \n1    56352739f59643540a3a6e16985f62c7  0336dcbab05b9d5ad24f4333c7658a0e   \n2    7d04bbbe5494ae9d2f5a76aa1c00fa2f  9bf31c7ff062936a96d3c8bd1f8f2ff3   \n3    2b24d495052a8ce66358eb576b8912c8  c4ca4238a0b923820dcc509a6f75849b   \n4    5487315b1286f907165907aa8fc96619  d82c8d1619ad8176d665453cfb2e55f0   \n..                                ...                               ...   \n471  045117b0e0a11a242b9765e79cbf113f  a87ff679a2f3e71d9181a67b7542122c   \n472  2cfa3753d6a524711acb5fce38eeca1a  3f67fd97162d20e6fe27748b5b372509   \n473  7486cef2522ee03547cfb970a404a874  8f468c873a32bb0619eaeb2050ba45d1   \n474  c06d06da9666a219db15cf575aff2824  9a1158154dfa42caddbd0694a4e9bdc8   \n475  eb163727917cbba1eea208541a643e74  a87ff679a2f3e71d9181a67b7542122c   \n\n           lat        lng  \n0   -33.422497 -70.609231  \n1   -33.385484 -70.555579  \n2   -33.416579 -70.565224  \n3   -33.512578 -70.655952  \n4   -33.347645 -70.542229  \n..         ...        ...  \n471 -33.036111 -71.524149  \n472 -33.406081 -70.598128  \n473 -33.397498 -70.584666  \n474 -33.390604 -70.547206  \n475 -33.428421 -70.540562  \n\n[476 rows x 4 columns]",
      "text/html": "<div>\n<style scoped>\n    .dataframe tbody tr th:only-of-type {\n        vertical-align: middle;\n    }\n\n    .dataframe tbody tr th {\n        vertical-align: top;\n    }\n\n    .dataframe thead th {\n        text-align: right;\n    }\n</style>\n<table border=\"1\" class=\"dataframe\">\n  <thead>\n    <tr style=\"text-align: right;\">\n      <th></th>\n      <th>store_branch_id</th>\n      <th>store_id</th>\n      <th>lat</th>\n      <th>lng</th>\n    </tr>\n  </thead>\n  <tbody>\n    <tr>\n      <th>0</th>\n      <td>aff1621254f7c1be92f64550478c56e6</td>\n      <td>92cc227532d17e56e07902b254dfad10</td>\n      <td>-33.422497</td>\n      <td>-70.609231</td>\n    </tr>\n    <tr>\n      <th>1</th>\n      <td>56352739f59643540a3a6e16985f62c7</td>\n      <td>0336dcbab05b9d5ad24f4333c7658a0e</td>\n      <td>-33.385484</td>\n      <td>-70.555579</td>\n    </tr>\n    <tr>\n      <th>2</th>\n      <td>7d04bbbe5494ae9d2f5a76aa1c00fa2f</td>\n      <td>9bf31c7ff062936a96d3c8bd1f8f2ff3</td>\n      <td>-33.416579</td>\n      <td>-70.565224</td>\n    </tr>\n    <tr>\n      <th>3</th>\n      <td>2b24d495052a8ce66358eb576b8912c8</td>\n      <td>c4ca4238a0b923820dcc509a6f75849b</td>\n      <td>-33.512578</td>\n      <td>-70.655952</td>\n    </tr>\n    <tr>\n      <th>4</th>\n      <td>5487315b1286f907165907aa8fc96619</td>\n      <td>d82c8d1619ad8176d665453cfb2e55f0</td>\n      <td>-33.347645</td>\n      <td>-70.542229</td>\n    </tr>\n    <tr>\n      <th>...</th>\n      <td>...</td>\n      <td>...</td>\n      <td>...</td>\n      <td>...</td>\n    </tr>\n    <tr>\n      <th>471</th>\n      <td>045117b0e0a11a242b9765e79cbf113f</td>\n      <td>a87ff679a2f3e71d9181a67b7542122c</td>\n      <td>-33.036111</td>\n      <td>-71.524149</td>\n    </tr>\n    <tr>\n      <th>472</th>\n      <td>2cfa3753d6a524711acb5fce38eeca1a</td>\n      <td>3f67fd97162d20e6fe27748b5b372509</td>\n      <td>-33.406081</td>\n      <td>-70.598128</td>\n    </tr>\n    <tr>\n      <th>473</th>\n      <td>7486cef2522ee03547cfb970a404a874</td>\n      <td>8f468c873a32bb0619eaeb2050ba45d1</td>\n      <td>-33.397498</td>\n      <td>-70.584666</td>\n    </tr>\n    <tr>\n      <th>474</th>\n      <td>c06d06da9666a219db15cf575aff2824</td>\n      <td>9a1158154dfa42caddbd0694a4e9bdc8</td>\n      <td>-33.390604</td>\n      <td>-70.547206</td>\n    </tr>\n    <tr>\n      <th>475</th>\n      <td>eb163727917cbba1eea208541a643e74</td>\n      <td>a87ff679a2f3e71d9181a67b7542122c</td>\n      <td>-33.428421</td>\n      <td>-70.540562</td>\n    </tr>\n  </tbody>\n</table>\n<p>476 rows × 4 columns</p>\n</div>"
     },
     "execution_count": 2,
     "metadata": {},
     "output_type": "execute_result"
    }
   ],
   "source": [
    "stores = pd.read_csv('./data/storebranch.csv')\n",
    "stores"
   ],
   "metadata": {
    "collapsed": false,
    "pycharm": {
     "name": "#%%\n"
    }
   }
  }
 ],
 "metadata": {
  "kernelspec": {
   "display_name": "Python 3",
   "language": "python",
   "name": "python3"
  },
  "language_info": {
   "codemirror_mode": {
    "name": "ipython",
    "version": 2
   },
   "file_extension": ".py",
   "mimetype": "text/x-python",
   "name": "python",
   "nbconvert_exporter": "python",
   "pygments_lexer": "ipython2",
   "version": "2.7.6"
  }
 },
 "nbformat": 4,
 "nbformat_minor": 0
}